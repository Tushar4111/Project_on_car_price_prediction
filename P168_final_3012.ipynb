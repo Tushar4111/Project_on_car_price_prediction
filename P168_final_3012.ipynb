{
 "cells": [
  {
   "cell_type": "markdown",
   "id": "4cb99c24",
   "metadata": {},
   "source": [
    "# Car Price Predictor"
   ]
  },
  {
   "cell_type": "code",
   "execution_count": 1,
   "id": "70f8e655",
   "metadata": {},
   "outputs": [],
   "source": [
    "import pandas as pd\n",
    "import numpy as np\n",
    "import warnings\n",
    "warnings.filterwarnings('ignore')"
   ]
  },
  {
   "cell_type": "code",
   "execution_count": 2,
   "id": "0f7e7252",
   "metadata": {},
   "outputs": [],
   "source": [
    "df1= pd.read_csv(r'D:\\TUSHAR\\P168\\cars24 (1).csv')\n",
    "df2 = pd.read_csv(r'D:\\TUSHAR\\P168\\cars24 (2).csv')\n",
    "df3 = pd.read_csv(r'D:\\TUSHAR\\P168\\Hyderabad.csv')\n",
    "df4 = pd.read_csv(r'D:\\TUSHAR\\P168\\Noida.csv')\n",
    "df5 = pd.read_csv(r'D:\\TUSHAR\\P168\\Banglore.csv')"
   ]
  },
  {
   "cell_type": "code",
   "execution_count": 3,
   "id": "1591d123",
   "metadata": {},
   "outputs": [
    {
     "data": {
      "text/html": [
       "<div>\n",
       "<style scoped>\n",
       "    .dataframe tbody tr th:only-of-type {\n",
       "        vertical-align: middle;\n",
       "    }\n",
       "\n",
       "    .dataframe tbody tr th {\n",
       "        vertical-align: top;\n",
       "    }\n",
       "\n",
       "    .dataframe thead th {\n",
       "        text-align: right;\n",
       "    }\n",
       "</style>\n",
       "<table border=\"1\" class=\"dataframe\">\n",
       "  <thead>\n",
       "    <tr style=\"text-align: right;\">\n",
       "      <th></th>\n",
       "      <th>_9Ue0B href</th>\n",
       "      <th>_2gVj9 src</th>\n",
       "      <th>summerDiscount src</th>\n",
       "      <th>summerDiscount</th>\n",
       "      <th>_2dr28</th>\n",
       "      <th>_3FpCg</th>\n",
       "      <th>cvakB</th>\n",
       "      <th>cvakB 2</th>\n",
       "      <th>bVR0c</th>\n",
       "      <th>bVR0c 2</th>\n",
       "      <th>bVR0c 3</th>\n",
       "      <th>bVR0c 4</th>\n",
       "      <th>_2HFRN</th>\n",
       "      <th>_7udZZ</th>\n",
       "      <th>_3X7mV</th>\n",
       "      <th>_31Wtw</th>\n",
       "      <th>_3jinY</th>\n",
       "      <th>summerDiscount 2</th>\n",
       "      <th>_31Wtw 2</th>\n",
       "    </tr>\n",
       "  </thead>\n",
       "  <tbody>\n",
       "    <tr>\n",
       "      <th>0</th>\n",
       "      <td>https://www.cars24.com/buy-used-hyundai-i20-20...</td>\n",
       "      <td>https://fastly-production.24c.in/hello-ar/dev/...</td>\n",
       "      <td>https://www.cars24.com/js/cbdebfd146789c1c0046...</td>\n",
       "      <td>₹5,000</td>\n",
       "      <td>off</td>\n",
       "      <td>2010 Hyundai i20</td>\n",
       "      <td>MAGNA O 1.2</td>\n",
       "      <td>Manual</td>\n",
       "      <td>34,913 km</td>\n",
       "      <td>2nd Owner</td>\n",
       "      <td>Petrol</td>\n",
       "      <td>MH-02</td>\n",
       "      <td>₹4,489/month</td>\n",
       "      <td>₹2,29,599</td>\n",
       "      <td>Zero Down Payment</td>\n",
       "      <td>₹2,34,599</td>\n",
       "      <td>NaN</td>\n",
       "      <td>NaN</td>\n",
       "      <td>NaN</td>\n",
       "    </tr>\n",
       "    <tr>\n",
       "      <th>1</th>\n",
       "      <td>https://www.cars24.com/buy-used-maruti-ritz-20...</td>\n",
       "      <td>https://fastly-production.24c.in/hello-ar/dev/...</td>\n",
       "      <td>NaN</td>\n",
       "      <td>NaN</td>\n",
       "      <td>NaN</td>\n",
       "      <td>2012 Maruti Ritz</td>\n",
       "      <td>VXI</td>\n",
       "      <td>Manual</td>\n",
       "      <td>77,919 km</td>\n",
       "      <td>2nd Owner</td>\n",
       "      <td>Petrol</td>\n",
       "      <td>MH-02</td>\n",
       "      <td>₹4,616/month</td>\n",
       "      <td>₹2,36,099</td>\n",
       "      <td>Zero Down Payment</td>\n",
       "      <td>NaN</td>\n",
       "      <td>NaN</td>\n",
       "      <td>NaN</td>\n",
       "      <td>NaN</td>\n",
       "    </tr>\n",
       "    <tr>\n",
       "      <th>2</th>\n",
       "      <td>NaN</td>\n",
       "      <td>NaN</td>\n",
       "      <td>NaN</td>\n",
       "      <td>NaN</td>\n",
       "      <td>NaN</td>\n",
       "      <td>NaN</td>\n",
       "      <td>NaN</td>\n",
       "      <td>NaN</td>\n",
       "      <td>NaN</td>\n",
       "      <td>NaN</td>\n",
       "      <td>NaN</td>\n",
       "      <td>NaN</td>\n",
       "      <td>NaN</td>\n",
       "      <td>NaN</td>\n",
       "      <td>NaN</td>\n",
       "      <td>NaN</td>\n",
       "      <td>NaN</td>\n",
       "      <td>NaN</td>\n",
       "      <td>NaN</td>\n",
       "    </tr>\n",
       "    <tr>\n",
       "      <th>3</th>\n",
       "      <td>https://www.cars24.com/buy-used-maruti-swift-2...</td>\n",
       "      <td>NaN</td>\n",
       "      <td>https://www.cars24.com/js/cbdebfd146789c1c0046...</td>\n",
       "      <td>₹23,400</td>\n",
       "      <td>off</td>\n",
       "      <td>2020 Maruti Swift</td>\n",
       "      <td>VXI</td>\n",
       "      <td>Manual</td>\n",
       "      <td>25,228 km</td>\n",
       "      <td>1st Owner</td>\n",
       "      <td>Petrol</td>\n",
       "      <td>MH-05</td>\n",
       "      <td>₹12,469/month</td>\n",
       "      <td>₹6,37,799</td>\n",
       "      <td>Zero Down Payment</td>\n",
       "      <td>₹6,61,199</td>\n",
       "      <td>NaN</td>\n",
       "      <td>NaN</td>\n",
       "      <td>NaN</td>\n",
       "    </tr>\n",
       "    <tr>\n",
       "      <th>4</th>\n",
       "      <td>https://www.cars24.com/buy-used-maruti-swift-2...</td>\n",
       "      <td>NaN</td>\n",
       "      <td>NaN</td>\n",
       "      <td>NaN</td>\n",
       "      <td>NaN</td>\n",
       "      <td>2012 Maruti Swift</td>\n",
       "      <td>VXI</td>\n",
       "      <td>Manual</td>\n",
       "      <td>35,757 km</td>\n",
       "      <td>3rd Owner</td>\n",
       "      <td>Petrol</td>\n",
       "      <td>MH-03</td>\n",
       "      <td>₹6,246/month</td>\n",
       "      <td>₹3,19,499</td>\n",
       "      <td>Zero Down Payment</td>\n",
       "      <td>NaN</td>\n",
       "      <td>NaN</td>\n",
       "      <td>NaN</td>\n",
       "      <td>NaN</td>\n",
       "    </tr>\n",
       "    <tr>\n",
       "      <th>...</th>\n",
       "      <td>...</td>\n",
       "      <td>...</td>\n",
       "      <td>...</td>\n",
       "      <td>...</td>\n",
       "      <td>...</td>\n",
       "      <td>...</td>\n",
       "      <td>...</td>\n",
       "      <td>...</td>\n",
       "      <td>...</td>\n",
       "      <td>...</td>\n",
       "      <td>...</td>\n",
       "      <td>...</td>\n",
       "      <td>...</td>\n",
       "      <td>...</td>\n",
       "      <td>...</td>\n",
       "      <td>...</td>\n",
       "      <td>...</td>\n",
       "      <td>...</td>\n",
       "      <td>...</td>\n",
       "    </tr>\n",
       "    <tr>\n",
       "      <th>4451</th>\n",
       "      <td>https://www.cars24.com/buy-used-hyundai-i10-20...</td>\n",
       "      <td>NaN</td>\n",
       "      <td>NaN</td>\n",
       "      <td>NaN</td>\n",
       "      <td>NaN</td>\n",
       "      <td>2011 Hyundai i10</td>\n",
       "      <td>MAGNA 1.2 KAPPA2</td>\n",
       "      <td>Manual</td>\n",
       "      <td>50,513 km</td>\n",
       "      <td>2nd Owner</td>\n",
       "      <td>Petrol</td>\n",
       "      <td>KA-53</td>\n",
       "      <td>₹6,031/month</td>\n",
       "      <td>₹3,08,499</td>\n",
       "      <td>Zero Down Payment</td>\n",
       "      <td>NaN</td>\n",
       "      <td>NaN</td>\n",
       "      <td>NaN</td>\n",
       "      <td>NaN</td>\n",
       "    </tr>\n",
       "    <tr>\n",
       "      <th>4452</th>\n",
       "      <td>https://www.cars24.com/buy-used-hyundai-new-sa...</td>\n",
       "      <td>NaN</td>\n",
       "      <td>NaN</td>\n",
       "      <td>NaN</td>\n",
       "      <td>NaN</td>\n",
       "      <td>2021 Hyundai NEW SANTRO</td>\n",
       "      <td>1.1 ERA EXICUTIVE</td>\n",
       "      <td>Manual</td>\n",
       "      <td>28,441 km</td>\n",
       "      <td>1st Owner</td>\n",
       "      <td>Petrol</td>\n",
       "      <td>KA-09</td>\n",
       "      <td>₹10,733/month</td>\n",
       "      <td>₹5,48,999</td>\n",
       "      <td>Zero Down Payment</td>\n",
       "      <td>NaN</td>\n",
       "      <td>NaN</td>\n",
       "      <td>NaN</td>\n",
       "      <td>NaN</td>\n",
       "    </tr>\n",
       "    <tr>\n",
       "      <th>4453</th>\n",
       "      <td>https://www.cars24.com/buy-used-kia-seltos-202...</td>\n",
       "      <td>NaN</td>\n",
       "      <td>https://www.cars24.com/js/cbdebfd146789c1c0046...</td>\n",
       "      <td>₹1,452</td>\n",
       "      <td>NaN</td>\n",
       "      <td>2020 KIA SELTOS</td>\n",
       "      <td>HTX+ AT 1.5 DIESEL</td>\n",
       "      <td>Automatic</td>\n",
       "      <td>44,152 km</td>\n",
       "      <td>1st Owner</td>\n",
       "      <td>Diesel</td>\n",
       "      <td>KA-34</td>\n",
       "      <td>₹35,355/month</td>\n",
       "      <td>₹18,82,699</td>\n",
       "      <td>Zero Down Payment</td>\n",
       "      <td>₹36,807/month</td>\n",
       "      <td>SAVE</td>\n",
       "      <td>/m</td>\n",
       "      <td>NaN</td>\n",
       "    </tr>\n",
       "    <tr>\n",
       "      <th>4454</th>\n",
       "      <td>https://www.cars24.com/buy-used-ford-ecosport-...</td>\n",
       "      <td>NaN</td>\n",
       "      <td>https://www.cars24.com/js/cbdebfd146789c1c0046...</td>\n",
       "      <td>₹654</td>\n",
       "      <td>NaN</td>\n",
       "      <td>2016 Ford Ecosport</td>\n",
       "      <td>1.5 TITANIUM TI VCT AT</td>\n",
       "      <td>Automatic</td>\n",
       "      <td>73,304 km</td>\n",
       "      <td>1st Owner</td>\n",
       "      <td>Petrol</td>\n",
       "      <td>KA-51</td>\n",
       "      <td>₹15,925/month</td>\n",
       "      <td>₹8,47,999</td>\n",
       "      <td>Zero Down Payment</td>\n",
       "      <td>₹16,579/month</td>\n",
       "      <td>SAVE</td>\n",
       "      <td>/m</td>\n",
       "      <td>NaN</td>\n",
       "    </tr>\n",
       "    <tr>\n",
       "      <th>4455</th>\n",
       "      <td>https://www.cars24.com/buy-used-hyundai-new-sa...</td>\n",
       "      <td>NaN</td>\n",
       "      <td>NaN</td>\n",
       "      <td>NaN</td>\n",
       "      <td>NaN</td>\n",
       "      <td>2021 Hyundai NEW SANTRO</td>\n",
       "      <td>SPORTZ 1.1</td>\n",
       "      <td>Manual</td>\n",
       "      <td>12,759 km</td>\n",
       "      <td>1st Owner</td>\n",
       "      <td>Petrol</td>\n",
       "      <td>KA-05</td>\n",
       "      <td>₹12,641/month</td>\n",
       "      <td>₹6,46,599</td>\n",
       "      <td>Zero Down Payment</td>\n",
       "      <td>NaN</td>\n",
       "      <td>NaN</td>\n",
       "      <td>NaN</td>\n",
       "      <td>NaN</td>\n",
       "    </tr>\n",
       "  </tbody>\n",
       "</table>\n",
       "<p>4456 rows × 19 columns</p>\n",
       "</div>"
      ],
      "text/plain": [
       "                                            _9Ue0B href  \\\n",
       "0     https://www.cars24.com/buy-used-hyundai-i20-20...   \n",
       "1     https://www.cars24.com/buy-used-maruti-ritz-20...   \n",
       "2                                                   NaN   \n",
       "3     https://www.cars24.com/buy-used-maruti-swift-2...   \n",
       "4     https://www.cars24.com/buy-used-maruti-swift-2...   \n",
       "...                                                 ...   \n",
       "4451  https://www.cars24.com/buy-used-hyundai-i10-20...   \n",
       "4452  https://www.cars24.com/buy-used-hyundai-new-sa...   \n",
       "4453  https://www.cars24.com/buy-used-kia-seltos-202...   \n",
       "4454  https://www.cars24.com/buy-used-ford-ecosport-...   \n",
       "4455  https://www.cars24.com/buy-used-hyundai-new-sa...   \n",
       "\n",
       "                                             _2gVj9 src  \\\n",
       "0     https://fastly-production.24c.in/hello-ar/dev/...   \n",
       "1     https://fastly-production.24c.in/hello-ar/dev/...   \n",
       "2                                                   NaN   \n",
       "3                                                   NaN   \n",
       "4                                                   NaN   \n",
       "...                                                 ...   \n",
       "4451                                                NaN   \n",
       "4452                                                NaN   \n",
       "4453                                                NaN   \n",
       "4454                                                NaN   \n",
       "4455                                                NaN   \n",
       "\n",
       "                                     summerDiscount src summerDiscount _2dr28  \\\n",
       "0     https://www.cars24.com/js/cbdebfd146789c1c0046...         ₹5,000    off   \n",
       "1                                                   NaN            NaN    NaN   \n",
       "2                                                   NaN            NaN    NaN   \n",
       "3     https://www.cars24.com/js/cbdebfd146789c1c0046...        ₹23,400    off   \n",
       "4                                                   NaN            NaN    NaN   \n",
       "...                                                 ...            ...    ...   \n",
       "4451                                                NaN            NaN    NaN   \n",
       "4452                                                NaN            NaN    NaN   \n",
       "4453  https://www.cars24.com/js/cbdebfd146789c1c0046...         ₹1,452    NaN   \n",
       "4454  https://www.cars24.com/js/cbdebfd146789c1c0046...           ₹654    NaN   \n",
       "4455                                                NaN            NaN    NaN   \n",
       "\n",
       "                       _3FpCg                   cvakB    cvakB 2      bVR0c  \\\n",
       "0            2010 Hyundai i20             MAGNA O 1.2     Manual  34,913 km   \n",
       "1            2012 Maruti Ritz                     VXI     Manual  77,919 km   \n",
       "2                         NaN                     NaN        NaN        NaN   \n",
       "3           2020 Maruti Swift                     VXI     Manual  25,228 km   \n",
       "4           2012 Maruti Swift                     VXI     Manual  35,757 km   \n",
       "...                       ...                     ...        ...        ...   \n",
       "4451         2011 Hyundai i10        MAGNA 1.2 KAPPA2     Manual  50,513 km   \n",
       "4452  2021 Hyundai NEW SANTRO       1.1 ERA EXICUTIVE     Manual  28,441 km   \n",
       "4453          2020 KIA SELTOS      HTX+ AT 1.5 DIESEL  Automatic  44,152 km   \n",
       "4454       2016 Ford Ecosport  1.5 TITANIUM TI VCT AT  Automatic  73,304 km   \n",
       "4455  2021 Hyundai NEW SANTRO              SPORTZ 1.1     Manual  12,759 km   \n",
       "\n",
       "        bVR0c 2 bVR0c 3 bVR0c 4         _2HFRN      _7udZZ             _3X7mV  \\\n",
       "0     2nd Owner  Petrol   MH-02   ₹4,489/month   ₹2,29,599  Zero Down Payment   \n",
       "1     2nd Owner  Petrol   MH-02   ₹4,616/month   ₹2,36,099  Zero Down Payment   \n",
       "2           NaN     NaN     NaN            NaN         NaN                NaN   \n",
       "3     1st Owner  Petrol   MH-05  ₹12,469/month   ₹6,37,799  Zero Down Payment   \n",
       "4     3rd Owner  Petrol   MH-03   ₹6,246/month   ₹3,19,499  Zero Down Payment   \n",
       "...         ...     ...     ...            ...         ...                ...   \n",
       "4451  2nd Owner  Petrol   KA-53   ₹6,031/month   ₹3,08,499  Zero Down Payment   \n",
       "4452  1st Owner  Petrol   KA-09  ₹10,733/month   ₹5,48,999  Zero Down Payment   \n",
       "4453  1st Owner  Diesel   KA-34  ₹35,355/month  ₹18,82,699  Zero Down Payment   \n",
       "4454  1st Owner  Petrol   KA-51  ₹15,925/month   ₹8,47,999  Zero Down Payment   \n",
       "4455  1st Owner  Petrol   KA-05  ₹12,641/month   ₹6,46,599  Zero Down Payment   \n",
       "\n",
       "             _31Wtw _3jinY summerDiscount 2 _31Wtw 2  \n",
       "0         ₹2,34,599    NaN              NaN      NaN  \n",
       "1               NaN    NaN              NaN      NaN  \n",
       "2               NaN    NaN              NaN      NaN  \n",
       "3         ₹6,61,199    NaN              NaN      NaN  \n",
       "4               NaN    NaN              NaN      NaN  \n",
       "...             ...    ...              ...      ...  \n",
       "4451            NaN    NaN              NaN      NaN  \n",
       "4452            NaN    NaN              NaN      NaN  \n",
       "4453  ₹36,807/month   SAVE               /m      NaN  \n",
       "4454  ₹16,579/month   SAVE               /m      NaN  \n",
       "4455            NaN    NaN              NaN      NaN  \n",
       "\n",
       "[4456 rows x 19 columns]"
      ]
     },
     "execution_count": 3,
     "metadata": {},
     "output_type": "execute_result"
    }
   ],
   "source": [
    "cars = pd.concat([df1,df2,df3,df4,df5], ignore_index=True)\n",
    "cars"
   ]
  },
  {
   "cell_type": "markdown",
   "id": "c99ce78f",
   "metadata": {},
   "source": [
    "# Data Preprocessing"
   ]
  },
  {
   "cell_type": "code",
   "execution_count": 4,
   "id": "777e1f38",
   "metadata": {},
   "outputs": [],
   "source": [
    "cars.rename(columns={'_9Ue0B href':'Url','summerDiscount':'Summer_Discount','_3FpCg':'Name','cvakB':'Model','cvakB 2':'Transmission','bVR0c':'Kms','bVR0c 2':'Owner','bVR0c 3':'Fuel_Type','bVR0c 4':'Registration','_2HFRN':'EMI','_7udZZ':'Price','_3X7mV':'Down_Payment','_31Wtw 2':'Showroom_Price'},inplace=True)"
   ]
  },
  {
   "cell_type": "code",
   "execution_count": 5,
   "id": "a1832589",
   "metadata": {},
   "outputs": [],
   "source": [
    "cars =cars.drop(['_2gVj9 src','summerDiscount src','Summer_Discount','_2dr28','_31Wtw','_3jinY','summerDiscount 2','Showroom_Price','Url'],axis=1)"
   ]
  },
  {
   "cell_type": "code",
   "execution_count": 6,
   "id": "9c5bee3b",
   "metadata": {},
   "outputs": [
    {
     "data": {
      "text/html": [
       "<div>\n",
       "<style scoped>\n",
       "    .dataframe tbody tr th:only-of-type {\n",
       "        vertical-align: middle;\n",
       "    }\n",
       "\n",
       "    .dataframe tbody tr th {\n",
       "        vertical-align: top;\n",
       "    }\n",
       "\n",
       "    .dataframe thead th {\n",
       "        text-align: right;\n",
       "    }\n",
       "</style>\n",
       "<table border=\"1\" class=\"dataframe\">\n",
       "  <thead>\n",
       "    <tr style=\"text-align: right;\">\n",
       "      <th></th>\n",
       "      <th>Name</th>\n",
       "      <th>Model</th>\n",
       "      <th>Transmission</th>\n",
       "      <th>Kms</th>\n",
       "      <th>Owner</th>\n",
       "      <th>Fuel_Type</th>\n",
       "      <th>Registration</th>\n",
       "      <th>EMI</th>\n",
       "      <th>Price</th>\n",
       "      <th>Down_Payment</th>\n",
       "    </tr>\n",
       "  </thead>\n",
       "  <tbody>\n",
       "    <tr>\n",
       "      <th>0</th>\n",
       "      <td>2010 Hyundai i20</td>\n",
       "      <td>MAGNA O 1.2</td>\n",
       "      <td>Manual</td>\n",
       "      <td>34,913 km</td>\n",
       "      <td>2nd Owner</td>\n",
       "      <td>Petrol</td>\n",
       "      <td>MH-02</td>\n",
       "      <td>₹4,489/month</td>\n",
       "      <td>₹2,29,599</td>\n",
       "      <td>Zero Down Payment</td>\n",
       "    </tr>\n",
       "    <tr>\n",
       "      <th>1</th>\n",
       "      <td>2012 Maruti Ritz</td>\n",
       "      <td>VXI</td>\n",
       "      <td>Manual</td>\n",
       "      <td>77,919 km</td>\n",
       "      <td>2nd Owner</td>\n",
       "      <td>Petrol</td>\n",
       "      <td>MH-02</td>\n",
       "      <td>₹4,616/month</td>\n",
       "      <td>₹2,36,099</td>\n",
       "      <td>Zero Down Payment</td>\n",
       "    </tr>\n",
       "    <tr>\n",
       "      <th>2</th>\n",
       "      <td>NaN</td>\n",
       "      <td>NaN</td>\n",
       "      <td>NaN</td>\n",
       "      <td>NaN</td>\n",
       "      <td>NaN</td>\n",
       "      <td>NaN</td>\n",
       "      <td>NaN</td>\n",
       "      <td>NaN</td>\n",
       "      <td>NaN</td>\n",
       "      <td>NaN</td>\n",
       "    </tr>\n",
       "    <tr>\n",
       "      <th>3</th>\n",
       "      <td>2020 Maruti Swift</td>\n",
       "      <td>VXI</td>\n",
       "      <td>Manual</td>\n",
       "      <td>25,228 km</td>\n",
       "      <td>1st Owner</td>\n",
       "      <td>Petrol</td>\n",
       "      <td>MH-05</td>\n",
       "      <td>₹12,469/month</td>\n",
       "      <td>₹6,37,799</td>\n",
       "      <td>Zero Down Payment</td>\n",
       "    </tr>\n",
       "    <tr>\n",
       "      <th>4</th>\n",
       "      <td>2012 Maruti Swift</td>\n",
       "      <td>VXI</td>\n",
       "      <td>Manual</td>\n",
       "      <td>35,757 km</td>\n",
       "      <td>3rd Owner</td>\n",
       "      <td>Petrol</td>\n",
       "      <td>MH-03</td>\n",
       "      <td>₹6,246/month</td>\n",
       "      <td>₹3,19,499</td>\n",
       "      <td>Zero Down Payment</td>\n",
       "    </tr>\n",
       "  </tbody>\n",
       "</table>\n",
       "</div>"
      ],
      "text/plain": [
       "                Name        Model Transmission        Kms      Owner  \\\n",
       "0   2010 Hyundai i20  MAGNA O 1.2       Manual  34,913 km  2nd Owner   \n",
       "1   2012 Maruti Ritz          VXI       Manual  77,919 km  2nd Owner   \n",
       "2                NaN          NaN          NaN        NaN        NaN   \n",
       "3  2020 Maruti Swift          VXI       Manual  25,228 km  1st Owner   \n",
       "4  2012 Maruti Swift          VXI       Manual  35,757 km  3rd Owner   \n",
       "\n",
       "  Fuel_Type Registration            EMI      Price       Down_Payment  \n",
       "0    Petrol        MH-02   ₹4,489/month  ₹2,29,599  Zero Down Payment  \n",
       "1    Petrol        MH-02   ₹4,616/month  ₹2,36,099  Zero Down Payment  \n",
       "2       NaN          NaN            NaN        NaN                NaN  \n",
       "3    Petrol        MH-05  ₹12,469/month  ₹6,37,799  Zero Down Payment  \n",
       "4    Petrol        MH-03   ₹6,246/month  ₹3,19,499  Zero Down Payment  "
      ]
     },
     "execution_count": 6,
     "metadata": {},
     "output_type": "execute_result"
    }
   ],
   "source": [
    "cars.head()"
   ]
  },
  {
   "cell_type": "code",
   "execution_count": 7,
   "id": "1d0f5b2b",
   "metadata": {},
   "outputs": [
    {
     "data": {
      "text/plain": [
       "(4456, 10)"
      ]
     },
     "execution_count": 7,
     "metadata": {},
     "output_type": "execute_result"
    }
   ],
   "source": [
    "cars.shape"
   ]
  },
  {
   "cell_type": "code",
   "execution_count": 8,
   "id": "021f75d3",
   "metadata": {},
   "outputs": [
    {
     "data": {
      "text/plain": [
       "Name              5\n",
       "Model             5\n",
       "Transmission    294\n",
       "Kms               5\n",
       "Owner             5\n",
       "Fuel_Type         5\n",
       "Registration      5\n",
       "EMI               5\n",
       "Price             5\n",
       "Down_Payment      5\n",
       "dtype: int64"
      ]
     },
     "execution_count": 8,
     "metadata": {},
     "output_type": "execute_result"
    }
   ],
   "source": [
    "cars.isnull().sum()"
   ]
  },
  {
   "cell_type": "code",
   "execution_count": 9,
   "id": "875eba31",
   "metadata": {},
   "outputs": [
    {
     "data": {
      "text/plain": [
       "1375"
      ]
     },
     "execution_count": 9,
     "metadata": {},
     "output_type": "execute_result"
    }
   ],
   "source": [
    "cars.duplicated().sum()"
   ]
  },
  {
   "cell_type": "code",
   "execution_count": 10,
   "id": "aa3871f2",
   "metadata": {},
   "outputs": [],
   "source": [
    "cars=cars.drop_duplicates()"
   ]
  },
  {
   "cell_type": "code",
   "execution_count": 11,
   "id": "2a969e45",
   "metadata": {},
   "outputs": [
    {
     "data": {
      "text/plain": [
       "0"
      ]
     },
     "execution_count": 11,
     "metadata": {},
     "output_type": "execute_result"
    }
   ],
   "source": [
    "cars.duplicated().sum()"
   ]
  },
  {
   "cell_type": "code",
   "execution_count": 12,
   "id": "3665934d",
   "metadata": {},
   "outputs": [
    {
     "data": {
      "text/plain": [
       "Name              1\n",
       "Model             1\n",
       "Transmission    198\n",
       "Kms               1\n",
       "Owner             1\n",
       "Fuel_Type         1\n",
       "Registration      1\n",
       "EMI               1\n",
       "Price             1\n",
       "Down_Payment      1\n",
       "dtype: int64"
      ]
     },
     "execution_count": 12,
     "metadata": {},
     "output_type": "execute_result"
    }
   ],
   "source": [
    "cars.isnull().sum()"
   ]
  },
  {
   "cell_type": "code",
   "execution_count": 13,
   "id": "1585df62",
   "metadata": {},
   "outputs": [],
   "source": [
    "cars=cars.dropna()"
   ]
  },
  {
   "cell_type": "code",
   "execution_count": 14,
   "id": "fa1042e2",
   "metadata": {},
   "outputs": [
    {
     "data": {
      "text/plain": [
       "Name            0\n",
       "Model           0\n",
       "Transmission    0\n",
       "Kms             0\n",
       "Owner           0\n",
       "Fuel_Type       0\n",
       "Registration    0\n",
       "EMI             0\n",
       "Price           0\n",
       "Down_Payment    0\n",
       "dtype: int64"
      ]
     },
     "execution_count": 14,
     "metadata": {},
     "output_type": "execute_result"
    }
   ],
   "source": [
    "cars.isnull().sum()"
   ]
  },
  {
   "cell_type": "code",
   "execution_count": 15,
   "id": "e807c13b",
   "metadata": {},
   "outputs": [
    {
     "data": {
      "text/plain": [
       "(2883, 10)"
      ]
     },
     "execution_count": 15,
     "metadata": {},
     "output_type": "execute_result"
    }
   ],
   "source": [
    "cars.shape"
   ]
  },
  {
   "cell_type": "code",
   "execution_count": 16,
   "id": "2ba41d30",
   "metadata": {},
   "outputs": [],
   "source": [
    "cars24 = cars"
   ]
  },
  {
   "cell_type": "code",
   "execution_count": 17,
   "id": "d614967b",
   "metadata": {},
   "outputs": [],
   "source": [
    "new = cars24[\"Name\"].str.split(\" \",n = 1, expand = True)"
   ]
  },
  {
   "cell_type": "code",
   "execution_count": 18,
   "id": "c954bcd6",
   "metadata": {},
   "outputs": [],
   "source": [
    "cars24[\"Year\"] = new[0]\n",
    "cars24[\"Name\"] = new[1]"
   ]
  },
  {
   "cell_type": "code",
   "execution_count": 19,
   "id": "eff3c204",
   "metadata": {},
   "outputs": [
    {
     "data": {
      "text/html": [
       "<div>\n",
       "<style scoped>\n",
       "    .dataframe tbody tr th:only-of-type {\n",
       "        vertical-align: middle;\n",
       "    }\n",
       "\n",
       "    .dataframe tbody tr th {\n",
       "        vertical-align: top;\n",
       "    }\n",
       "\n",
       "    .dataframe thead th {\n",
       "        text-align: right;\n",
       "    }\n",
       "</style>\n",
       "<table border=\"1\" class=\"dataframe\">\n",
       "  <thead>\n",
       "    <tr style=\"text-align: right;\">\n",
       "      <th></th>\n",
       "      <th>Name</th>\n",
       "      <th>Model</th>\n",
       "      <th>Transmission</th>\n",
       "      <th>Kms</th>\n",
       "      <th>Owner</th>\n",
       "      <th>Fuel_Type</th>\n",
       "      <th>Registration</th>\n",
       "      <th>EMI</th>\n",
       "      <th>Price</th>\n",
       "      <th>Down_Payment</th>\n",
       "      <th>Year</th>\n",
       "    </tr>\n",
       "  </thead>\n",
       "  <tbody>\n",
       "    <tr>\n",
       "      <th>0</th>\n",
       "      <td>Hyundai i20</td>\n",
       "      <td>MAGNA O 1.2</td>\n",
       "      <td>Manual</td>\n",
       "      <td>34,913 km</td>\n",
       "      <td>2nd Owner</td>\n",
       "      <td>Petrol</td>\n",
       "      <td>MH-02</td>\n",
       "      <td>₹4,489/month</td>\n",
       "      <td>₹2,29,599</td>\n",
       "      <td>Zero Down Payment</td>\n",
       "      <td>2010</td>\n",
       "    </tr>\n",
       "    <tr>\n",
       "      <th>1</th>\n",
       "      <td>Maruti Ritz</td>\n",
       "      <td>VXI</td>\n",
       "      <td>Manual</td>\n",
       "      <td>77,919 km</td>\n",
       "      <td>2nd Owner</td>\n",
       "      <td>Petrol</td>\n",
       "      <td>MH-02</td>\n",
       "      <td>₹4,616/month</td>\n",
       "      <td>₹2,36,099</td>\n",
       "      <td>Zero Down Payment</td>\n",
       "      <td>2012</td>\n",
       "    </tr>\n",
       "    <tr>\n",
       "      <th>3</th>\n",
       "      <td>Maruti Swift</td>\n",
       "      <td>VXI</td>\n",
       "      <td>Manual</td>\n",
       "      <td>25,228 km</td>\n",
       "      <td>1st Owner</td>\n",
       "      <td>Petrol</td>\n",
       "      <td>MH-05</td>\n",
       "      <td>₹12,469/month</td>\n",
       "      <td>₹6,37,799</td>\n",
       "      <td>Zero Down Payment</td>\n",
       "      <td>2020</td>\n",
       "    </tr>\n",
       "    <tr>\n",
       "      <th>4</th>\n",
       "      <td>Maruti Swift</td>\n",
       "      <td>VXI</td>\n",
       "      <td>Manual</td>\n",
       "      <td>35,757 km</td>\n",
       "      <td>3rd Owner</td>\n",
       "      <td>Petrol</td>\n",
       "      <td>MH-03</td>\n",
       "      <td>₹6,246/month</td>\n",
       "      <td>₹3,19,499</td>\n",
       "      <td>Zero Down Payment</td>\n",
       "      <td>2012</td>\n",
       "    </tr>\n",
       "    <tr>\n",
       "      <th>5</th>\n",
       "      <td>Maruti Swift</td>\n",
       "      <td>VXI</td>\n",
       "      <td>Manual</td>\n",
       "      <td>37,591 km</td>\n",
       "      <td>1st Owner</td>\n",
       "      <td>Petrol</td>\n",
       "      <td>MH-02</td>\n",
       "      <td>₹8,067/month</td>\n",
       "      <td>₹4,12,649</td>\n",
       "      <td>Zero Down Payment</td>\n",
       "      <td>2013</td>\n",
       "    </tr>\n",
       "  </tbody>\n",
       "</table>\n",
       "</div>"
      ],
      "text/plain": [
       "           Name        Model Transmission        Kms      Owner Fuel_Type  \\\n",
       "0   Hyundai i20  MAGNA O 1.2       Manual  34,913 km  2nd Owner    Petrol   \n",
       "1   Maruti Ritz          VXI       Manual  77,919 km  2nd Owner    Petrol   \n",
       "3  Maruti Swift          VXI       Manual  25,228 km  1st Owner    Petrol   \n",
       "4  Maruti Swift          VXI       Manual  35,757 km  3rd Owner    Petrol   \n",
       "5  Maruti Swift          VXI       Manual  37,591 km  1st Owner    Petrol   \n",
       "\n",
       "  Registration            EMI      Price       Down_Payment  Year  \n",
       "0        MH-02   ₹4,489/month  ₹2,29,599  Zero Down Payment  2010  \n",
       "1        MH-02   ₹4,616/month  ₹2,36,099  Zero Down Payment  2012  \n",
       "3        MH-05  ₹12,469/month  ₹6,37,799  Zero Down Payment  2020  \n",
       "4        MH-03   ₹6,246/month  ₹3,19,499  Zero Down Payment  2012  \n",
       "5        MH-02   ₹8,067/month  ₹4,12,649  Zero Down Payment  2013  "
      ]
     },
     "execution_count": 19,
     "metadata": {},
     "output_type": "execute_result"
    }
   ],
   "source": [
    "cars24.head()"
   ]
  },
  {
   "cell_type": "code",
   "execution_count": 20,
   "id": "78e0571a",
   "metadata": {},
   "outputs": [],
   "source": [
    "new2 = cars24[\"Name\"].str.split(\" \",n = 1, expand = True)\n",
    "new3 = cars24[\"Registration\"].str.split(\"-\",n = 1, expand = True)"
   ]
  },
  {
   "cell_type": "code",
   "execution_count": 21,
   "id": "e72af33a",
   "metadata": {},
   "outputs": [],
   "source": [
    "cars24[\"Brand\"] = new2[0]\n",
    "cars24[\"State\"] = new3[0]"
   ]
  },
  {
   "cell_type": "code",
   "execution_count": 22,
   "id": "ddbde38e",
   "metadata": {},
   "outputs": [
    {
     "data": {
      "text/html": [
       "<div>\n",
       "<style scoped>\n",
       "    .dataframe tbody tr th:only-of-type {\n",
       "        vertical-align: middle;\n",
       "    }\n",
       "\n",
       "    .dataframe tbody tr th {\n",
       "        vertical-align: top;\n",
       "    }\n",
       "\n",
       "    .dataframe thead th {\n",
       "        text-align: right;\n",
       "    }\n",
       "</style>\n",
       "<table border=\"1\" class=\"dataframe\">\n",
       "  <thead>\n",
       "    <tr style=\"text-align: right;\">\n",
       "      <th></th>\n",
       "      <th>Name</th>\n",
       "      <th>Model</th>\n",
       "      <th>Transmission</th>\n",
       "      <th>Kms</th>\n",
       "      <th>Owner</th>\n",
       "      <th>Fuel_Type</th>\n",
       "      <th>Registration</th>\n",
       "      <th>EMI</th>\n",
       "      <th>Price</th>\n",
       "      <th>Down_Payment</th>\n",
       "      <th>Year</th>\n",
       "      <th>Brand</th>\n",
       "      <th>State</th>\n",
       "    </tr>\n",
       "  </thead>\n",
       "  <tbody>\n",
       "    <tr>\n",
       "      <th>0</th>\n",
       "      <td>Hyundai i20</td>\n",
       "      <td>MAGNA O 1.2</td>\n",
       "      <td>Manual</td>\n",
       "      <td>34,913 km</td>\n",
       "      <td>2nd Owner</td>\n",
       "      <td>Petrol</td>\n",
       "      <td>MH-02</td>\n",
       "      <td>₹4,489/month</td>\n",
       "      <td>₹2,29,599</td>\n",
       "      <td>Zero Down Payment</td>\n",
       "      <td>2010</td>\n",
       "      <td>Hyundai</td>\n",
       "      <td>MH</td>\n",
       "    </tr>\n",
       "    <tr>\n",
       "      <th>1</th>\n",
       "      <td>Maruti Ritz</td>\n",
       "      <td>VXI</td>\n",
       "      <td>Manual</td>\n",
       "      <td>77,919 km</td>\n",
       "      <td>2nd Owner</td>\n",
       "      <td>Petrol</td>\n",
       "      <td>MH-02</td>\n",
       "      <td>₹4,616/month</td>\n",
       "      <td>₹2,36,099</td>\n",
       "      <td>Zero Down Payment</td>\n",
       "      <td>2012</td>\n",
       "      <td>Maruti</td>\n",
       "      <td>MH</td>\n",
       "    </tr>\n",
       "    <tr>\n",
       "      <th>3</th>\n",
       "      <td>Maruti Swift</td>\n",
       "      <td>VXI</td>\n",
       "      <td>Manual</td>\n",
       "      <td>25,228 km</td>\n",
       "      <td>1st Owner</td>\n",
       "      <td>Petrol</td>\n",
       "      <td>MH-05</td>\n",
       "      <td>₹12,469/month</td>\n",
       "      <td>₹6,37,799</td>\n",
       "      <td>Zero Down Payment</td>\n",
       "      <td>2020</td>\n",
       "      <td>Maruti</td>\n",
       "      <td>MH</td>\n",
       "    </tr>\n",
       "    <tr>\n",
       "      <th>4</th>\n",
       "      <td>Maruti Swift</td>\n",
       "      <td>VXI</td>\n",
       "      <td>Manual</td>\n",
       "      <td>35,757 km</td>\n",
       "      <td>3rd Owner</td>\n",
       "      <td>Petrol</td>\n",
       "      <td>MH-03</td>\n",
       "      <td>₹6,246/month</td>\n",
       "      <td>₹3,19,499</td>\n",
       "      <td>Zero Down Payment</td>\n",
       "      <td>2012</td>\n",
       "      <td>Maruti</td>\n",
       "      <td>MH</td>\n",
       "    </tr>\n",
       "    <tr>\n",
       "      <th>5</th>\n",
       "      <td>Maruti Swift</td>\n",
       "      <td>VXI</td>\n",
       "      <td>Manual</td>\n",
       "      <td>37,591 km</td>\n",
       "      <td>1st Owner</td>\n",
       "      <td>Petrol</td>\n",
       "      <td>MH-02</td>\n",
       "      <td>₹8,067/month</td>\n",
       "      <td>₹4,12,649</td>\n",
       "      <td>Zero Down Payment</td>\n",
       "      <td>2013</td>\n",
       "      <td>Maruti</td>\n",
       "      <td>MH</td>\n",
       "    </tr>\n",
       "  </tbody>\n",
       "</table>\n",
       "</div>"
      ],
      "text/plain": [
       "           Name        Model Transmission        Kms      Owner Fuel_Type  \\\n",
       "0   Hyundai i20  MAGNA O 1.2       Manual  34,913 km  2nd Owner    Petrol   \n",
       "1   Maruti Ritz          VXI       Manual  77,919 km  2nd Owner    Petrol   \n",
       "3  Maruti Swift          VXI       Manual  25,228 km  1st Owner    Petrol   \n",
       "4  Maruti Swift          VXI       Manual  35,757 km  3rd Owner    Petrol   \n",
       "5  Maruti Swift          VXI       Manual  37,591 km  1st Owner    Petrol   \n",
       "\n",
       "  Registration            EMI      Price       Down_Payment  Year    Brand  \\\n",
       "0        MH-02   ₹4,489/month  ₹2,29,599  Zero Down Payment  2010  Hyundai   \n",
       "1        MH-02   ₹4,616/month  ₹2,36,099  Zero Down Payment  2012   Maruti   \n",
       "3        MH-05  ₹12,469/month  ₹6,37,799  Zero Down Payment  2020   Maruti   \n",
       "4        MH-03   ₹6,246/month  ₹3,19,499  Zero Down Payment  2012   Maruti   \n",
       "5        MH-02   ₹8,067/month  ₹4,12,649  Zero Down Payment  2013   Maruti   \n",
       "\n",
       "  State  \n",
       "0    MH  \n",
       "1    MH  \n",
       "3    MH  \n",
       "4    MH  \n",
       "5    MH  "
      ]
     },
     "execution_count": 22,
     "metadata": {},
     "output_type": "execute_result"
    }
   ],
   "source": [
    "cars24.head()"
   ]
  },
  {
   "cell_type": "code",
   "execution_count": 23,
   "id": "48860eeb",
   "metadata": {},
   "outputs": [],
   "source": [
    "cars24['State'] = cars24['State'].replace({'MH':'Maharashtra','HR':'Hariyana','DL':'Delhi','UP':'Uttar Pradesh','TS':'Telangana','AP':'Andhra Pradesh','KA':'Karnataka','22':'Maharashtra'},regex=True)"
   ]
  },
  {
   "cell_type": "code",
   "execution_count": 24,
   "id": "ab2bd2d4",
   "metadata": {},
   "outputs": [],
   "source": [
    "cars24['Price'] = cars24['Price'].replace({'₹': '',',': ''},regex=True)\n",
    "cars24['EMI'] = cars24['EMI'].replace({'₹': '',',': '','/month':''},regex=True)\n",
    "cars24['Kms'] = cars24['Kms'].replace({'km':'',',': ''},regex=True)"
   ]
  },
  {
   "cell_type": "code",
   "execution_count": 25,
   "id": "eb0c30db",
   "metadata": {},
   "outputs": [
    {
     "data": {
      "text/html": [
       "<div>\n",
       "<style scoped>\n",
       "    .dataframe tbody tr th:only-of-type {\n",
       "        vertical-align: middle;\n",
       "    }\n",
       "\n",
       "    .dataframe tbody tr th {\n",
       "        vertical-align: top;\n",
       "    }\n",
       "\n",
       "    .dataframe thead th {\n",
       "        text-align: right;\n",
       "    }\n",
       "</style>\n",
       "<table border=\"1\" class=\"dataframe\">\n",
       "  <thead>\n",
       "    <tr style=\"text-align: right;\">\n",
       "      <th></th>\n",
       "      <th>Name</th>\n",
       "      <th>Model</th>\n",
       "      <th>Transmission</th>\n",
       "      <th>Kms</th>\n",
       "      <th>Owner</th>\n",
       "      <th>Fuel_Type</th>\n",
       "      <th>Registration</th>\n",
       "      <th>EMI</th>\n",
       "      <th>Price</th>\n",
       "      <th>Down_Payment</th>\n",
       "      <th>Year</th>\n",
       "      <th>Brand</th>\n",
       "      <th>State</th>\n",
       "    </tr>\n",
       "  </thead>\n",
       "  <tbody>\n",
       "    <tr>\n",
       "      <th>0</th>\n",
       "      <td>Hyundai i20</td>\n",
       "      <td>MAGNA O 1.2</td>\n",
       "      <td>Manual</td>\n",
       "      <td>34913</td>\n",
       "      <td>2</td>\n",
       "      <td>Petrol</td>\n",
       "      <td>MH-02</td>\n",
       "      <td>4489</td>\n",
       "      <td>229599</td>\n",
       "      <td>0</td>\n",
       "      <td>2010</td>\n",
       "      <td>Hyundai</td>\n",
       "      <td>Maharashtra</td>\n",
       "    </tr>\n",
       "    <tr>\n",
       "      <th>1</th>\n",
       "      <td>Maruti Ritz</td>\n",
       "      <td>VXI</td>\n",
       "      <td>Manual</td>\n",
       "      <td>77919</td>\n",
       "      <td>2</td>\n",
       "      <td>Petrol</td>\n",
       "      <td>MH-02</td>\n",
       "      <td>4616</td>\n",
       "      <td>236099</td>\n",
       "      <td>0</td>\n",
       "      <td>2012</td>\n",
       "      <td>Maruti</td>\n",
       "      <td>Maharashtra</td>\n",
       "    </tr>\n",
       "    <tr>\n",
       "      <th>3</th>\n",
       "      <td>Maruti Swift</td>\n",
       "      <td>VXI</td>\n",
       "      <td>Manual</td>\n",
       "      <td>25228</td>\n",
       "      <td>1</td>\n",
       "      <td>Petrol</td>\n",
       "      <td>MH-05</td>\n",
       "      <td>12469</td>\n",
       "      <td>637799</td>\n",
       "      <td>0</td>\n",
       "      <td>2020</td>\n",
       "      <td>Maruti</td>\n",
       "      <td>Maharashtra</td>\n",
       "    </tr>\n",
       "    <tr>\n",
       "      <th>4</th>\n",
       "      <td>Maruti Swift</td>\n",
       "      <td>VXI</td>\n",
       "      <td>Manual</td>\n",
       "      <td>35757</td>\n",
       "      <td>3</td>\n",
       "      <td>Petrol</td>\n",
       "      <td>MH-03</td>\n",
       "      <td>6246</td>\n",
       "      <td>319499</td>\n",
       "      <td>0</td>\n",
       "      <td>2012</td>\n",
       "      <td>Maruti</td>\n",
       "      <td>Maharashtra</td>\n",
       "    </tr>\n",
       "    <tr>\n",
       "      <th>5</th>\n",
       "      <td>Maruti Swift</td>\n",
       "      <td>VXI</td>\n",
       "      <td>Manual</td>\n",
       "      <td>37591</td>\n",
       "      <td>1</td>\n",
       "      <td>Petrol</td>\n",
       "      <td>MH-02</td>\n",
       "      <td>8067</td>\n",
       "      <td>412649</td>\n",
       "      <td>0</td>\n",
       "      <td>2013</td>\n",
       "      <td>Maruti</td>\n",
       "      <td>Maharashtra</td>\n",
       "    </tr>\n",
       "    <tr>\n",
       "      <th>...</th>\n",
       "      <td>...</td>\n",
       "      <td>...</td>\n",
       "      <td>...</td>\n",
       "      <td>...</td>\n",
       "      <td>...</td>\n",
       "      <td>...</td>\n",
       "      <td>...</td>\n",
       "      <td>...</td>\n",
       "      <td>...</td>\n",
       "      <td>...</td>\n",
       "      <td>...</td>\n",
       "      <td>...</td>\n",
       "      <td>...</td>\n",
       "    </tr>\n",
       "    <tr>\n",
       "      <th>4451</th>\n",
       "      <td>Hyundai i10</td>\n",
       "      <td>MAGNA 1.2 KAPPA2</td>\n",
       "      <td>Manual</td>\n",
       "      <td>50513</td>\n",
       "      <td>2</td>\n",
       "      <td>Petrol</td>\n",
       "      <td>KA-53</td>\n",
       "      <td>6031</td>\n",
       "      <td>308499</td>\n",
       "      <td>0</td>\n",
       "      <td>2011</td>\n",
       "      <td>Hyundai</td>\n",
       "      <td>Karnataka</td>\n",
       "    </tr>\n",
       "    <tr>\n",
       "      <th>4452</th>\n",
       "      <td>Hyundai NEW SANTRO</td>\n",
       "      <td>1.1 ERA EXICUTIVE</td>\n",
       "      <td>Manual</td>\n",
       "      <td>28441</td>\n",
       "      <td>1</td>\n",
       "      <td>Petrol</td>\n",
       "      <td>KA-09</td>\n",
       "      <td>10733</td>\n",
       "      <td>548999</td>\n",
       "      <td>0</td>\n",
       "      <td>2021</td>\n",
       "      <td>Hyundai</td>\n",
       "      <td>Karnataka</td>\n",
       "    </tr>\n",
       "    <tr>\n",
       "      <th>4453</th>\n",
       "      <td>KIA SELTOS</td>\n",
       "      <td>HTX+ AT 1.5 DIESEL</td>\n",
       "      <td>Automatic</td>\n",
       "      <td>44152</td>\n",
       "      <td>1</td>\n",
       "      <td>Diesel</td>\n",
       "      <td>KA-34</td>\n",
       "      <td>35355</td>\n",
       "      <td>1882699</td>\n",
       "      <td>0</td>\n",
       "      <td>2020</td>\n",
       "      <td>KIA</td>\n",
       "      <td>Karnataka</td>\n",
       "    </tr>\n",
       "    <tr>\n",
       "      <th>4454</th>\n",
       "      <td>Ford Ecosport</td>\n",
       "      <td>1.5 TITANIUM TI VCT AT</td>\n",
       "      <td>Automatic</td>\n",
       "      <td>73304</td>\n",
       "      <td>1</td>\n",
       "      <td>Petrol</td>\n",
       "      <td>KA-51</td>\n",
       "      <td>15925</td>\n",
       "      <td>847999</td>\n",
       "      <td>0</td>\n",
       "      <td>2016</td>\n",
       "      <td>Ford</td>\n",
       "      <td>Karnataka</td>\n",
       "    </tr>\n",
       "    <tr>\n",
       "      <th>4455</th>\n",
       "      <td>Hyundai NEW SANTRO</td>\n",
       "      <td>SPORTZ 1.1</td>\n",
       "      <td>Manual</td>\n",
       "      <td>12759</td>\n",
       "      <td>1</td>\n",
       "      <td>Petrol</td>\n",
       "      <td>KA-05</td>\n",
       "      <td>12641</td>\n",
       "      <td>646599</td>\n",
       "      <td>0</td>\n",
       "      <td>2021</td>\n",
       "      <td>Hyundai</td>\n",
       "      <td>Karnataka</td>\n",
       "    </tr>\n",
       "  </tbody>\n",
       "</table>\n",
       "<p>2883 rows × 13 columns</p>\n",
       "</div>"
      ],
      "text/plain": [
       "                    Name                   Model Transmission     Kms Owner  \\\n",
       "0            Hyundai i20             MAGNA O 1.2       Manual  34913      2   \n",
       "1            Maruti Ritz                     VXI       Manual  77919      2   \n",
       "3           Maruti Swift                     VXI       Manual  25228      1   \n",
       "4           Maruti Swift                     VXI       Manual  35757      3   \n",
       "5           Maruti Swift                     VXI       Manual  37591      1   \n",
       "...                  ...                     ...          ...     ...   ...   \n",
       "4451         Hyundai i10        MAGNA 1.2 KAPPA2       Manual  50513      2   \n",
       "4452  Hyundai NEW SANTRO       1.1 ERA EXICUTIVE       Manual  28441      1   \n",
       "4453          KIA SELTOS      HTX+ AT 1.5 DIESEL    Automatic  44152      1   \n",
       "4454       Ford Ecosport  1.5 TITANIUM TI VCT AT    Automatic  73304      1   \n",
       "4455  Hyundai NEW SANTRO              SPORTZ 1.1       Manual  12759      1   \n",
       "\n",
       "     Fuel_Type Registration    EMI    Price Down_Payment  Year    Brand  \\\n",
       "0       Petrol        MH-02   4489   229599            0  2010  Hyundai   \n",
       "1       Petrol        MH-02   4616   236099            0  2012   Maruti   \n",
       "3       Petrol        MH-05  12469   637799            0  2020   Maruti   \n",
       "4       Petrol        MH-03   6246   319499            0  2012   Maruti   \n",
       "5       Petrol        MH-02   8067   412649            0  2013   Maruti   \n",
       "...        ...          ...    ...      ...          ...   ...      ...   \n",
       "4451    Petrol        KA-53   6031   308499            0  2011  Hyundai   \n",
       "4452    Petrol        KA-09  10733   548999            0  2021  Hyundai   \n",
       "4453    Diesel        KA-34  35355  1882699            0  2020      KIA   \n",
       "4454    Petrol        KA-51  15925   847999            0  2016     Ford   \n",
       "4455    Petrol        KA-05  12641   646599            0  2021  Hyundai   \n",
       "\n",
       "            State  \n",
       "0     Maharashtra  \n",
       "1     Maharashtra  \n",
       "3     Maharashtra  \n",
       "4     Maharashtra  \n",
       "5     Maharashtra  \n",
       "...           ...  \n",
       "4451    Karnataka  \n",
       "4452    Karnataka  \n",
       "4453    Karnataka  \n",
       "4454    Karnataka  \n",
       "4455    Karnataka  \n",
       "\n",
       "[2883 rows x 13 columns]"
      ]
     },
     "execution_count": 25,
     "metadata": {},
     "output_type": "execute_result"
    }
   ],
   "source": [
    "cars24['Owner']=cars24['Owner'].replace({'1st Owner':'1','2nd Owner':'2','3rd Owner':'3'},regex=True)\n",
    "cars24['Down_Payment']=cars24['Down_Payment'].replace({'Zero Down Payment':'0'},regex=True)\n",
    "cars24"
   ]
  },
  {
   "cell_type": "code",
   "execution_count": 26,
   "id": "a93ec870",
   "metadata": {},
   "outputs": [],
   "source": [
    "from datetime import date\n",
    "from datetime import datetime"
   ]
  },
  {
   "cell_type": "code",
   "execution_count": 27,
   "id": "5d41801b",
   "metadata": {},
   "outputs": [],
   "source": [
    "def calculate_age(born):\n",
    "    born = datetime.strptime(born,\"%Y\").date()\n",
    "    today=date.today()\n",
    "    return today.year-born.year-((today.year)<(born.year))\n",
    "cars24['Age']=cars24['Year'].apply(calculate_age)"
   ]
  },
  {
   "cell_type": "code",
   "execution_count": 28,
   "id": "cc589072",
   "metadata": {},
   "outputs": [
    {
     "data": {
      "text/html": [
       "<div>\n",
       "<style scoped>\n",
       "    .dataframe tbody tr th:only-of-type {\n",
       "        vertical-align: middle;\n",
       "    }\n",
       "\n",
       "    .dataframe tbody tr th {\n",
       "        vertical-align: top;\n",
       "    }\n",
       "\n",
       "    .dataframe thead th {\n",
       "        text-align: right;\n",
       "    }\n",
       "</style>\n",
       "<table border=\"1\" class=\"dataframe\">\n",
       "  <thead>\n",
       "    <tr style=\"text-align: right;\">\n",
       "      <th></th>\n",
       "      <th>Name</th>\n",
       "      <th>Model</th>\n",
       "      <th>Transmission</th>\n",
       "      <th>Kms</th>\n",
       "      <th>Owner</th>\n",
       "      <th>Fuel_Type</th>\n",
       "      <th>Registration</th>\n",
       "      <th>EMI</th>\n",
       "      <th>Price</th>\n",
       "      <th>Down_Payment</th>\n",
       "      <th>Year</th>\n",
       "      <th>Brand</th>\n",
       "      <th>State</th>\n",
       "      <th>Age</th>\n",
       "    </tr>\n",
       "  </thead>\n",
       "  <tbody>\n",
       "    <tr>\n",
       "      <th>0</th>\n",
       "      <td>Hyundai i20</td>\n",
       "      <td>MAGNA O 1.2</td>\n",
       "      <td>Manual</td>\n",
       "      <td>34913</td>\n",
       "      <td>2</td>\n",
       "      <td>Petrol</td>\n",
       "      <td>MH-02</td>\n",
       "      <td>4489</td>\n",
       "      <td>229599</td>\n",
       "      <td>0</td>\n",
       "      <td>2010</td>\n",
       "      <td>Hyundai</td>\n",
       "      <td>Maharashtra</td>\n",
       "      <td>12</td>\n",
       "    </tr>\n",
       "    <tr>\n",
       "      <th>1</th>\n",
       "      <td>Maruti Ritz</td>\n",
       "      <td>VXI</td>\n",
       "      <td>Manual</td>\n",
       "      <td>77919</td>\n",
       "      <td>2</td>\n",
       "      <td>Petrol</td>\n",
       "      <td>MH-02</td>\n",
       "      <td>4616</td>\n",
       "      <td>236099</td>\n",
       "      <td>0</td>\n",
       "      <td>2012</td>\n",
       "      <td>Maruti</td>\n",
       "      <td>Maharashtra</td>\n",
       "      <td>10</td>\n",
       "    </tr>\n",
       "    <tr>\n",
       "      <th>3</th>\n",
       "      <td>Maruti Swift</td>\n",
       "      <td>VXI</td>\n",
       "      <td>Manual</td>\n",
       "      <td>25228</td>\n",
       "      <td>1</td>\n",
       "      <td>Petrol</td>\n",
       "      <td>MH-05</td>\n",
       "      <td>12469</td>\n",
       "      <td>637799</td>\n",
       "      <td>0</td>\n",
       "      <td>2020</td>\n",
       "      <td>Maruti</td>\n",
       "      <td>Maharashtra</td>\n",
       "      <td>2</td>\n",
       "    </tr>\n",
       "    <tr>\n",
       "      <th>4</th>\n",
       "      <td>Maruti Swift</td>\n",
       "      <td>VXI</td>\n",
       "      <td>Manual</td>\n",
       "      <td>35757</td>\n",
       "      <td>3</td>\n",
       "      <td>Petrol</td>\n",
       "      <td>MH-03</td>\n",
       "      <td>6246</td>\n",
       "      <td>319499</td>\n",
       "      <td>0</td>\n",
       "      <td>2012</td>\n",
       "      <td>Maruti</td>\n",
       "      <td>Maharashtra</td>\n",
       "      <td>10</td>\n",
       "    </tr>\n",
       "    <tr>\n",
       "      <th>5</th>\n",
       "      <td>Maruti Swift</td>\n",
       "      <td>VXI</td>\n",
       "      <td>Manual</td>\n",
       "      <td>37591</td>\n",
       "      <td>1</td>\n",
       "      <td>Petrol</td>\n",
       "      <td>MH-02</td>\n",
       "      <td>8067</td>\n",
       "      <td>412649</td>\n",
       "      <td>0</td>\n",
       "      <td>2013</td>\n",
       "      <td>Maruti</td>\n",
       "      <td>Maharashtra</td>\n",
       "      <td>9</td>\n",
       "    </tr>\n",
       "    <tr>\n",
       "      <th>...</th>\n",
       "      <td>...</td>\n",
       "      <td>...</td>\n",
       "      <td>...</td>\n",
       "      <td>...</td>\n",
       "      <td>...</td>\n",
       "      <td>...</td>\n",
       "      <td>...</td>\n",
       "      <td>...</td>\n",
       "      <td>...</td>\n",
       "      <td>...</td>\n",
       "      <td>...</td>\n",
       "      <td>...</td>\n",
       "      <td>...</td>\n",
       "      <td>...</td>\n",
       "    </tr>\n",
       "    <tr>\n",
       "      <th>4451</th>\n",
       "      <td>Hyundai i10</td>\n",
       "      <td>MAGNA 1.2 KAPPA2</td>\n",
       "      <td>Manual</td>\n",
       "      <td>50513</td>\n",
       "      <td>2</td>\n",
       "      <td>Petrol</td>\n",
       "      <td>KA-53</td>\n",
       "      <td>6031</td>\n",
       "      <td>308499</td>\n",
       "      <td>0</td>\n",
       "      <td>2011</td>\n",
       "      <td>Hyundai</td>\n",
       "      <td>Karnataka</td>\n",
       "      <td>11</td>\n",
       "    </tr>\n",
       "    <tr>\n",
       "      <th>4452</th>\n",
       "      <td>Hyundai NEW SANTRO</td>\n",
       "      <td>1.1 ERA EXICUTIVE</td>\n",
       "      <td>Manual</td>\n",
       "      <td>28441</td>\n",
       "      <td>1</td>\n",
       "      <td>Petrol</td>\n",
       "      <td>KA-09</td>\n",
       "      <td>10733</td>\n",
       "      <td>548999</td>\n",
       "      <td>0</td>\n",
       "      <td>2021</td>\n",
       "      <td>Hyundai</td>\n",
       "      <td>Karnataka</td>\n",
       "      <td>1</td>\n",
       "    </tr>\n",
       "    <tr>\n",
       "      <th>4453</th>\n",
       "      <td>KIA SELTOS</td>\n",
       "      <td>HTX+ AT 1.5 DIESEL</td>\n",
       "      <td>Automatic</td>\n",
       "      <td>44152</td>\n",
       "      <td>1</td>\n",
       "      <td>Diesel</td>\n",
       "      <td>KA-34</td>\n",
       "      <td>35355</td>\n",
       "      <td>1882699</td>\n",
       "      <td>0</td>\n",
       "      <td>2020</td>\n",
       "      <td>KIA</td>\n",
       "      <td>Karnataka</td>\n",
       "      <td>2</td>\n",
       "    </tr>\n",
       "    <tr>\n",
       "      <th>4454</th>\n",
       "      <td>Ford Ecosport</td>\n",
       "      <td>1.5 TITANIUM TI VCT AT</td>\n",
       "      <td>Automatic</td>\n",
       "      <td>73304</td>\n",
       "      <td>1</td>\n",
       "      <td>Petrol</td>\n",
       "      <td>KA-51</td>\n",
       "      <td>15925</td>\n",
       "      <td>847999</td>\n",
       "      <td>0</td>\n",
       "      <td>2016</td>\n",
       "      <td>Ford</td>\n",
       "      <td>Karnataka</td>\n",
       "      <td>6</td>\n",
       "    </tr>\n",
       "    <tr>\n",
       "      <th>4455</th>\n",
       "      <td>Hyundai NEW SANTRO</td>\n",
       "      <td>SPORTZ 1.1</td>\n",
       "      <td>Manual</td>\n",
       "      <td>12759</td>\n",
       "      <td>1</td>\n",
       "      <td>Petrol</td>\n",
       "      <td>KA-05</td>\n",
       "      <td>12641</td>\n",
       "      <td>646599</td>\n",
       "      <td>0</td>\n",
       "      <td>2021</td>\n",
       "      <td>Hyundai</td>\n",
       "      <td>Karnataka</td>\n",
       "      <td>1</td>\n",
       "    </tr>\n",
       "  </tbody>\n",
       "</table>\n",
       "<p>2883 rows × 14 columns</p>\n",
       "</div>"
      ],
      "text/plain": [
       "                    Name                   Model Transmission     Kms Owner  \\\n",
       "0            Hyundai i20             MAGNA O 1.2       Manual  34913      2   \n",
       "1            Maruti Ritz                     VXI       Manual  77919      2   \n",
       "3           Maruti Swift                     VXI       Manual  25228      1   \n",
       "4           Maruti Swift                     VXI       Manual  35757      3   \n",
       "5           Maruti Swift                     VXI       Manual  37591      1   \n",
       "...                  ...                     ...          ...     ...   ...   \n",
       "4451         Hyundai i10        MAGNA 1.2 KAPPA2       Manual  50513      2   \n",
       "4452  Hyundai NEW SANTRO       1.1 ERA EXICUTIVE       Manual  28441      1   \n",
       "4453          KIA SELTOS      HTX+ AT 1.5 DIESEL    Automatic  44152      1   \n",
       "4454       Ford Ecosport  1.5 TITANIUM TI VCT AT    Automatic  73304      1   \n",
       "4455  Hyundai NEW SANTRO              SPORTZ 1.1       Manual  12759      1   \n",
       "\n",
       "     Fuel_Type Registration    EMI    Price Down_Payment  Year    Brand  \\\n",
       "0       Petrol        MH-02   4489   229599            0  2010  Hyundai   \n",
       "1       Petrol        MH-02   4616   236099            0  2012   Maruti   \n",
       "3       Petrol        MH-05  12469   637799            0  2020   Maruti   \n",
       "4       Petrol        MH-03   6246   319499            0  2012   Maruti   \n",
       "5       Petrol        MH-02   8067   412649            0  2013   Maruti   \n",
       "...        ...          ...    ...      ...          ...   ...      ...   \n",
       "4451    Petrol        KA-53   6031   308499            0  2011  Hyundai   \n",
       "4452    Petrol        KA-09  10733   548999            0  2021  Hyundai   \n",
       "4453    Diesel        KA-34  35355  1882699            0  2020      KIA   \n",
       "4454    Petrol        KA-51  15925   847999            0  2016     Ford   \n",
       "4455    Petrol        KA-05  12641   646599            0  2021  Hyundai   \n",
       "\n",
       "            State  Age  \n",
       "0     Maharashtra   12  \n",
       "1     Maharashtra   10  \n",
       "3     Maharashtra    2  \n",
       "4     Maharashtra   10  \n",
       "5     Maharashtra    9  \n",
       "...           ...  ...  \n",
       "4451    Karnataka   11  \n",
       "4452    Karnataka    1  \n",
       "4453    Karnataka    2  \n",
       "4454    Karnataka    6  \n",
       "4455    Karnataka    1  \n",
       "\n",
       "[2883 rows x 14 columns]"
      ]
     },
     "execution_count": 28,
     "metadata": {},
     "output_type": "execute_result"
    }
   ],
   "source": [
    "cars24"
   ]
  },
  {
   "cell_type": "markdown",
   "id": "0b44e348",
   "metadata": {},
   "source": [
    "# EDA"
   ]
  },
  {
   "cell_type": "code",
   "execution_count": 29,
   "id": "46ee766a",
   "metadata": {},
   "outputs": [],
   "source": [
    "import matplotlib.pyplot as plt\n",
    "import seaborn as sns"
   ]
  },
  {
   "cell_type": "code",
   "execution_count": 30,
   "id": "28c04ab5",
   "metadata": {},
   "outputs": [
    {
     "data": {
      "text/plain": [
       "(2883, 14)"
      ]
     },
     "execution_count": 30,
     "metadata": {},
     "output_type": "execute_result"
    }
   ],
   "source": [
    "cars24.shape"
   ]
  },
  {
   "cell_type": "code",
   "execution_count": 31,
   "id": "de6cfc34",
   "metadata": {},
   "outputs": [
    {
     "data": {
      "text/plain": [
       "Index(['Name', 'Model', 'Transmission', 'Kms', 'Owner', 'Fuel_Type',\n",
       "       'Registration', 'EMI', 'Price', 'Down_Payment', 'Year', 'Brand',\n",
       "       'State', 'Age'],\n",
       "      dtype='object')"
      ]
     },
     "execution_count": 31,
     "metadata": {},
     "output_type": "execute_result"
    }
   ],
   "source": [
    "cars24.columns"
   ]
  },
  {
   "cell_type": "code",
   "execution_count": 32,
   "id": "7611ad5f",
   "metadata": {},
   "outputs": [
    {
     "name": "stdout",
     "output_type": "stream",
     "text": [
      "<class 'pandas.core.frame.DataFrame'>\n",
      "Int64Index: 2883 entries, 0 to 4455\n",
      "Data columns (total 14 columns):\n",
      " #   Column        Non-Null Count  Dtype \n",
      "---  ------        --------------  ----- \n",
      " 0   Name          2883 non-null   object\n",
      " 1   Model         2883 non-null   object\n",
      " 2   Transmission  2883 non-null   object\n",
      " 3   Kms           2883 non-null   object\n",
      " 4   Owner         2883 non-null   object\n",
      " 5   Fuel_Type     2883 non-null   object\n",
      " 6   Registration  2883 non-null   object\n",
      " 7   EMI           2883 non-null   object\n",
      " 8   Price         2883 non-null   object\n",
      " 9   Down_Payment  2883 non-null   object\n",
      " 10  Year          2883 non-null   object\n",
      " 11  Brand         2883 non-null   object\n",
      " 12  State         2883 non-null   object\n",
      " 13  Age           2883 non-null   int64 \n",
      "dtypes: int64(1), object(13)\n",
      "memory usage: 337.9+ KB\n"
     ]
    }
   ],
   "source": [
    "cars24.info()"
   ]
  },
  {
   "cell_type": "code",
   "execution_count": 33,
   "id": "56179967",
   "metadata": {},
   "outputs": [
    {
     "data": {
      "text/html": [
       "<div>\n",
       "<style scoped>\n",
       "    .dataframe tbody tr th:only-of-type {\n",
       "        vertical-align: middle;\n",
       "    }\n",
       "\n",
       "    .dataframe tbody tr th {\n",
       "        vertical-align: top;\n",
       "    }\n",
       "\n",
       "    .dataframe thead th {\n",
       "        text-align: right;\n",
       "    }\n",
       "</style>\n",
       "<table border=\"1\" class=\"dataframe\">\n",
       "  <thead>\n",
       "    <tr style=\"text-align: right;\">\n",
       "      <th></th>\n",
       "      <th>Age</th>\n",
       "    </tr>\n",
       "  </thead>\n",
       "  <tbody>\n",
       "    <tr>\n",
       "      <th>count</th>\n",
       "      <td>2883.000000</td>\n",
       "    </tr>\n",
       "    <tr>\n",
       "      <th>mean</th>\n",
       "      <td>4.715227</td>\n",
       "    </tr>\n",
       "    <tr>\n",
       "      <th>std</th>\n",
       "      <td>2.716490</td>\n",
       "    </tr>\n",
       "    <tr>\n",
       "      <th>min</th>\n",
       "      <td>0.000000</td>\n",
       "    </tr>\n",
       "    <tr>\n",
       "      <th>25%</th>\n",
       "      <td>3.000000</td>\n",
       "    </tr>\n",
       "    <tr>\n",
       "      <th>50%</th>\n",
       "      <td>4.000000</td>\n",
       "    </tr>\n",
       "    <tr>\n",
       "      <th>75%</th>\n",
       "      <td>6.000000</td>\n",
       "    </tr>\n",
       "    <tr>\n",
       "      <th>max</th>\n",
       "      <td>13.000000</td>\n",
       "    </tr>\n",
       "  </tbody>\n",
       "</table>\n",
       "</div>"
      ],
      "text/plain": [
       "               Age\n",
       "count  2883.000000\n",
       "mean      4.715227\n",
       "std       2.716490\n",
       "min       0.000000\n",
       "25%       3.000000\n",
       "50%       4.000000\n",
       "75%       6.000000\n",
       "max      13.000000"
      ]
     },
     "execution_count": 33,
     "metadata": {},
     "output_type": "execute_result"
    }
   ],
   "source": [
    "cars24.describe()"
   ]
  },
  {
   "cell_type": "code",
   "execution_count": 34,
   "id": "a7cc7337",
   "metadata": {},
   "outputs": [
    {
     "data": {
      "text/plain": [
       "Kms              39950.0\n",
       "Owner                1.0\n",
       "EMI              11380.0\n",
       "Price           582099.0\n",
       "Down_Payment         0.0\n",
       "Year              2018.0\n",
       "Age                  4.0\n",
       "dtype: float64"
      ]
     },
     "execution_count": 34,
     "metadata": {},
     "output_type": "execute_result"
    }
   ],
   "source": [
    "cars24.median()"
   ]
  },
  {
   "cell_type": "code",
   "execution_count": 35,
   "id": "f899ea46",
   "metadata": {},
   "outputs": [
    {
     "data": {
      "text/plain": [
       "Name            0\n",
       "Model           0\n",
       "Transmission    0\n",
       "Kms             0\n",
       "Owner           0\n",
       "Fuel_Type       0\n",
       "Registration    0\n",
       "EMI             0\n",
       "Price           0\n",
       "Down_Payment    0\n",
       "Year            0\n",
       "Brand           0\n",
       "State           0\n",
       "Age             0\n",
       "dtype: int64"
      ]
     },
     "execution_count": 35,
     "metadata": {},
     "output_type": "execute_result"
    }
   ],
   "source": [
    "cars24.isnull().sum()"
   ]
  },
  {
   "cell_type": "code",
   "execution_count": 36,
   "id": "a5692c31",
   "metadata": {},
   "outputs": [
    {
     "data": {
      "text/plain": [
       "0"
      ]
     },
     "execution_count": 36,
     "metadata": {},
     "output_type": "execute_result"
    }
   ],
   "source": [
    "cars24.duplicated().sum()"
   ]
  },
  {
   "cell_type": "markdown",
   "id": "23a5cbeb",
   "metadata": {},
   "source": [
    "##### \"Brand\""
   ]
  },
  {
   "cell_type": "code",
   "execution_count": 37,
   "id": "a9e17bcd",
   "metadata": {},
   "outputs": [
    {
     "data": {
      "text/plain": [
       "18"
      ]
     },
     "execution_count": 37,
     "metadata": {},
     "output_type": "execute_result"
    }
   ],
   "source": [
    "cars24['Brand'].nunique()"
   ]
  },
  {
   "cell_type": "code",
   "execution_count": 38,
   "id": "41c72782",
   "metadata": {},
   "outputs": [
    {
     "data": {
      "text/plain": [
       "array(['Hyundai', 'Maruti', 'Renault', 'Datsun', 'Honda', 'Toyota',\n",
       "       'Volkswagen', 'Tata', 'MG', 'Ford', 'Mercedes', 'KIA', 'Skoda',\n",
       "       'Mahindra', 'Nissan', 'Jeep', 'Jaguar', 'Audi'], dtype=object)"
      ]
     },
     "execution_count": 38,
     "metadata": {},
     "output_type": "execute_result"
    }
   ],
   "source": [
    "cars24['Brand'].unique()"
   ]
  },
  {
   "cell_type": "code",
   "execution_count": 39,
   "id": "38e9bfb2",
   "metadata": {},
   "outputs": [
    {
     "data": {
      "image/png": "[encoded data removed]",
      "text/plain": [
       "<Figure size 1152x432 with 1 Axes>"
      ]
     },
     "metadata": {},
     "output_type": "display_data"
    }
   ],
   "source": [
    "plt.figure(figsize=(16,6),facecolor='lightgrey')\n",
    "sns.countplot(cars24['Brand'])\n",
    "plt.title('Brandwise Car Distribution',fontsize=24)\n",
    "plt.show()"
   ]
  },
  {
   "cell_type": "markdown",
   "id": "9cd0340e",
   "metadata": {},
   "source": [
    "##### \"Name\""
   ]
  },
  {
   "cell_type": "code",
   "execution_count": 40,
   "id": "86c4e76e",
   "metadata": {},
   "outputs": [
    {
     "data": {
      "text/plain": [
       "110"
      ]
     },
     "execution_count": 40,
     "metadata": {},
     "output_type": "execute_result"
    }
   ],
   "source": [
    "cars24['Name'].nunique()"
   ]
  },
  {
   "cell_type": "code",
   "execution_count": 41,
   "id": "8dde1e90",
   "metadata": {},
   "outputs": [
    {
     "data": {
      "text/plain": [
       "array(['Hyundai i20', 'Maruti Ritz', 'Maruti Swift', 'Maruti Wagon R 1.0',\n",
       "       'Maruti New  Wagon-R', 'Maruti Swift Dzire', 'Maruti Alto 800',\n",
       "       'Renault Kwid', 'Datsun Redi Go', 'Honda Brio', 'Hyundai AURA',\n",
       "       'Toyota Corolla Altis', 'Maruti Alto K10', 'Honda City',\n",
       "       'Maruti Celerio', 'Volkswagen Polo', 'Hyundai Grand i10',\n",
       "       'Toyota Etios Liva', 'Hyundai Verna', 'Maruti Dzire',\n",
       "       'Volkswagen Vento', 'Tata TIGOR', 'MG HECTOR', 'Maruti Ertiga',\n",
       "       'Hyundai i10', 'Tata Tiago', 'Ford Ecosport', 'Honda Amaze',\n",
       "       'Mercedes Benz E Class', 'KIA SELTOS', 'Hyundai Elite i20',\n",
       "       'Maruti S PRESSO', 'Renault Duster', 'Skoda Rapid', 'Honda Jazz',\n",
       "       'Honda CRV', 'Tata Harrier', 'Mahindra XUV500', 'Maruti Ciaz',\n",
       "       'Maruti Eeco', 'Maruti Wagon R Stingray', 'Maruti Baleno',\n",
       "       'Hyundai Creta', 'Hyundai Xcent', 'Maruti IGNIS', 'Maruti S Cross',\n",
       "       'Hyundai GRAND I10 NIOS', 'Maruti Vitara Brezza',\n",
       "       'Hyundai NEW SANTRO', 'Maruti Celerio X', 'Ford Figo Aspire',\n",
       "       'Nissan Micra', 'Hyundai VENUE', 'Maruti Alto', 'Tata ALTROZ',\n",
       "       'Volkswagen Ameo', 'Honda WR-V', 'Jeep Compass', 'Honda Civic',\n",
       "       'Hyundai Eon', 'Skoda Octavia', 'Toyota Camry', 'Tata NEXON',\n",
       "       'Toyota Glanza', 'Toyota Etios', 'Mahindra TUV300', 'Toyota YARIS',\n",
       "       'Hyundai i20 Active', 'Mahindra XUV 3OO', 'Mercedes Benz C Class',\n",
       "       'Volkswagen TIGUAN', 'Datsun Go Plus', 'Jaguar XF',\n",
       "       'Maruti A Star', 'Mahindra KUV 100 NXT', 'Hyundai Tucson New',\n",
       "       'Toyota Innova Crysta', 'Mahindra Scorpio', 'Mahindra Thar',\n",
       "       'Tata Safari', 'Maruti XL6', 'Renault TRIBER', 'Honda BR-V',\n",
       "       'Tata Hexa', 'Hyundai Santro Xing', 'Datsun Go', 'Maruti OMNI E',\n",
       "       'Nissan Terrano', 'Ford New Figo', 'Mahindra Kuv100',\n",
       "       'Nissan Micra Active', 'Renault Captur', 'Mahindra Bolero',\n",
       "       'Ford Endeavour', 'Ford FREESTYLE', 'Hyundai Accent',\n",
       "       'Maruti Wagon R', 'Audi A6', 'Audi Q3', 'Audi Q5',\n",
       "       'Toyota Fortuner', 'Maruti Zen Estilo', 'Audi A3',\n",
       "       'Volkswagen Beetle', 'Renault Pulse', 'Hyundai New Elantra',\n",
       "       'Hyundai NEW I20', 'Mahindra MARAZZO', 'Tata Zest', 'Ford Figo'],\n",
       "      dtype=object)"
      ]
     },
     "execution_count": 41,
     "metadata": {},
     "output_type": "execute_result"
    }
   ],
   "source": [
    "cars24['Name'].unique()"
   ]
  },
  {
   "cell_type": "code",
   "execution_count": 42,
   "id": "d19cb615",
   "metadata": {},
   "outputs": [
    {
     "data": {
      "image/png": "[encoded data removed]",
      "text/plain": [
       "<Figure size 864x432 with 1 Axes>"
      ]
     },
     "metadata": {},
     "output_type": "display_data"
    }
   ],
   "source": [
    "plt.figure(figsize=(12,6),facecolor='lightgrey')\n",
    "sns.countplot(y='Name',data=cars24,order=cars24['Name'].value_counts().index[0:10])\n",
    "plt.title('Top 10 Cars',fontsize=24)\n",
    "plt.show()"
   ]
  },
  {
   "cell_type": "markdown",
   "id": "ad19e018",
   "metadata": {},
   "source": [
    "##### \"Year\""
   ]
  },
  {
   "cell_type": "code",
   "execution_count": 43,
   "id": "47682416",
   "metadata": {},
   "outputs": [
    {
     "data": {
      "text/plain": [
       "14"
      ]
     },
     "execution_count": 43,
     "metadata": {},
     "output_type": "execute_result"
    }
   ],
   "source": [
    "cars24['Year'].nunique()"
   ]
  },
  {
   "cell_type": "code",
   "execution_count": 44,
   "id": "05dbec0e",
   "metadata": {},
   "outputs": [
    {
     "data": {
      "text/plain": [
       "array(['2010', '2012', '2020', '2013', '2017', '2022', '2016', '2021',\n",
       "       '2015', '2014', '2011', '2019', '2018', '2009'], dtype=object)"
      ]
     },
     "execution_count": 44,
     "metadata": {},
     "output_type": "execute_result"
    }
   ],
   "source": [
    "cars24['Year'].unique()"
   ]
  },
  {
   "cell_type": "code",
   "execution_count": 45,
   "id": "105fe6a7",
   "metadata": {},
   "outputs": [
    {
     "data": {
      "image/png": "[encoded data removed]",
      "text/plain": [
       "<Figure size 864x432 with 1 Axes>"
      ]
     },
     "metadata": {},
     "output_type": "display_data"
    }
   ],
   "source": [
    "plt.figure(figsize=(12,6),facecolor='lightgrey')\n",
    "sns.countplot(cars24['Year'])\n",
    "plt.title('Yearwise Car Distribution',fontsize=24)\n",
    "plt.show()"
   ]
  },
  {
   "cell_type": "markdown",
   "id": "2217e63b",
   "metadata": {},
   "source": [
    "##### \"Transmission\""
   ]
  },
  {
   "cell_type": "code",
   "execution_count": 46,
   "id": "199a1353",
   "metadata": {},
   "outputs": [
    {
     "data": {
      "text/plain": [
       "2"
      ]
     },
     "execution_count": 46,
     "metadata": {},
     "output_type": "execute_result"
    }
   ],
   "source": [
    "cars24['Transmission'].nunique()"
   ]
  },
  {
   "cell_type": "code",
   "execution_count": 47,
   "id": "a648840a",
   "metadata": {},
   "outputs": [
    {
     "data": {
      "text/plain": [
       "array(['Manual', 'Automatic'], dtype=object)"
      ]
     },
     "execution_count": 47,
     "metadata": {},
     "output_type": "execute_result"
    }
   ],
   "source": [
    "cars24['Transmission'].unique()"
   ]
  },
  {
   "cell_type": "code",
   "execution_count": 48,
   "id": "f33c0fd7",
   "metadata": {},
   "outputs": [
    {
     "data": {
      "image/png": "[encoded data removed]",
      "text/plain": [
       "<Figure size 864x288 with 1 Axes>"
      ]
     },
     "metadata": {},
     "output_type": "display_data"
    }
   ],
   "source": [
    "plt.figure(figsize=(12,4),facecolor='lightgrey')\n",
    "sns.countplot(cars24['Transmission'])\n",
    "plt.title('Yearwise Car Distribution',fontsize=24)\n",
    "plt.show()"
   ]
  },
  {
   "cell_type": "markdown",
   "id": "de8fbbb3",
   "metadata": {},
   "source": [
    "##### \"Kms\""
   ]
  },
  {
   "cell_type": "code",
   "execution_count": 49,
   "id": "cc42e79e",
   "metadata": {},
   "outputs": [
    {
     "data": {
      "text/plain": [
       "2772"
      ]
     },
     "execution_count": 49,
     "metadata": {},
     "output_type": "execute_result"
    }
   ],
   "source": [
    "cars24['Kms'].nunique()"
   ]
  },
  {
   "cell_type": "code",
   "execution_count": 50,
   "id": "7316d64f",
   "metadata": {},
   "outputs": [
    {
     "data": {
      "image/png": "[encoded data removed]",
      "text/plain": [
       "<Figure size 864x432 with 1 Axes>"
      ]
     },
     "metadata": {},
     "output_type": "display_data"
    }
   ],
   "source": [
    "plt.figure(figsize=[12,6],facecolor='lightgrey')\n",
    "sns.distplot(cars24['Kms'])\n",
    "plt.title('Kms Distribution Plot',fontsize=24)\n",
    "plt.show()"
   ]
  },
  {
   "cell_type": "markdown",
   "id": "3516944b",
   "metadata": {},
   "source": [
    "##### \"Owner\""
   ]
  },
  {
   "cell_type": "code",
   "execution_count": 51,
   "id": "019769e0",
   "metadata": {},
   "outputs": [
    {
     "data": {
      "text/plain": [
       "3"
      ]
     },
     "execution_count": 51,
     "metadata": {},
     "output_type": "execute_result"
    }
   ],
   "source": [
    "cars24['Owner'].nunique()"
   ]
  },
  {
   "cell_type": "code",
   "execution_count": 52,
   "id": "f3a9ff96",
   "metadata": {},
   "outputs": [
    {
     "data": {
      "text/plain": [
       "array(['2', '1', '3'], dtype=object)"
      ]
     },
     "execution_count": 52,
     "metadata": {},
     "output_type": "execute_result"
    }
   ],
   "source": [
    "cars24['Owner'].unique()"
   ]
  },
  {
   "cell_type": "code",
   "execution_count": 53,
   "id": "3ea6694a",
   "metadata": {},
   "outputs": [
    {
     "data": {
      "image/png": "[encoded data removed]",
      "text/plain": [
       "<Figure size 864x288 with 1 Axes>"
      ]
     },
     "metadata": {},
     "output_type": "display_data"
    }
   ],
   "source": [
    "plt.figure(figsize=(12,4),facecolor='lightgrey')\n",
    "sns.countplot(cars24['Owner'])\n",
    "plt.title('Owners',fontsize=22)\n",
    "plt.show()"
   ]
  },
  {
   "cell_type": "markdown",
   "id": "6444a0a4",
   "metadata": {},
   "source": [
    "##### \"Fuel_Type\""
   ]
  },
  {
   "cell_type": "code",
   "execution_count": 54,
   "id": "c488e3f3",
   "metadata": {},
   "outputs": [
    {
     "data": {
      "text/plain": [
       "3"
      ]
     },
     "execution_count": 54,
     "metadata": {},
     "output_type": "execute_result"
    }
   ],
   "source": [
    "cars24['Fuel_Type'].nunique()"
   ]
  },
  {
   "cell_type": "code",
   "execution_count": 55,
   "id": "2518e095",
   "metadata": {},
   "outputs": [
    {
     "data": {
      "text/plain": [
       "array(['Petrol', 'Petrol + CNG', 'Diesel'], dtype=object)"
      ]
     },
     "execution_count": 55,
     "metadata": {},
     "output_type": "execute_result"
    }
   ],
   "source": [
    "cars24['Fuel_Type'].unique()"
   ]
  },
  {
   "cell_type": "code",
   "execution_count": 56,
   "id": "ca6785c7",
   "metadata": {},
   "outputs": [
    {
     "data": {
      "image/png": "[encoded data removed]",
      "text/plain": [
       "<Figure size 864x288 with 1 Axes>"
      ]
     },
     "metadata": {},
     "output_type": "display_data"
    }
   ],
   "source": [
    "plt.figure(figsize=(12,4),facecolor='lightgrey')\n",
    "sns.countplot(cars24['Fuel_Type'])\n",
    "plt.title('Fuel_Type',fontsize=22)\n",
    "plt.show()"
   ]
  },
  {
   "cell_type": "markdown",
   "id": "373967ca",
   "metadata": {},
   "source": [
    "##### \"EMI\""
   ]
  },
  {
   "cell_type": "code",
   "execution_count": 57,
   "id": "18804d39",
   "metadata": {},
   "outputs": [
    {
     "data": {
      "text/plain": [
       "2454"
      ]
     },
     "execution_count": 57,
     "metadata": {},
     "output_type": "execute_result"
    }
   ],
   "source": [
    "cars24['EMI'].nunique()"
   ]
  },
  {
   "cell_type": "code",
   "execution_count": 58,
   "id": "8f7b2395",
   "metadata": {},
   "outputs": [
    {
     "data": {
      "image/png": "[encoded data removed]",
      "text/plain": [
       "<Figure size 864x288 with 1 Axes>"
      ]
     },
     "metadata": {},
     "output_type": "display_data"
    }
   ],
   "source": [
    "plt.figure(figsize=[12,4],facecolor='lightgrey')\n",
    "sns.distplot(cars24['EMI'])\n",
    "plt.title('EMI(₹) Distribution Plot',fontsize=24)\n",
    "plt.show()"
   ]
  },
  {
   "cell_type": "markdown",
   "id": "9311638d",
   "metadata": {},
   "source": [
    "##### \"Price\""
   ]
  },
  {
   "cell_type": "code",
   "execution_count": 59,
   "id": "31265b59",
   "metadata": {},
   "outputs": [
    {
     "data": {
      "image/png": "[encoded data removed]",
      "text/plain": [
       "<Figure size 864x288 with 1 Axes>"
      ]
     },
     "metadata": {},
     "output_type": "display_data"
    }
   ],
   "source": [
    "plt.figure(figsize=[12,4],facecolor='lightgrey')\n",
    "sns.distplot(cars24['Price'])\n",
    "plt.title('Price(₹) Distribution Plot',fontsize=24)\n",
    "plt.show()"
   ]
  },
  {
   "cell_type": "markdown",
   "id": "49eaa28e",
   "metadata": {},
   "source": [
    "##### \"State\""
   ]
  },
  {
   "cell_type": "code",
   "execution_count": 60,
   "id": "f8d23f59",
   "metadata": {},
   "outputs": [
    {
     "data": {
      "text/plain": [
       "7"
      ]
     },
     "execution_count": 60,
     "metadata": {},
     "output_type": "execute_result"
    }
   ],
   "source": [
    "cars24['State'].nunique()"
   ]
  },
  {
   "cell_type": "code",
   "execution_count": 61,
   "id": "d55ea553",
   "metadata": {},
   "outputs": [
    {
     "data": {
      "text/plain": [
       "array(['Maharashtra', 'Hariyana', 'Delhi', 'Uttar Pradesh', 'Telangana',\n",
       "       'Andhra Pradesh', 'Karnataka'], dtype=object)"
      ]
     },
     "execution_count": 61,
     "metadata": {},
     "output_type": "execute_result"
    }
   ],
   "source": [
    "cars24['State'].unique()"
   ]
  },
  {
   "cell_type": "code",
   "execution_count": 62,
   "id": "cc127f31",
   "metadata": {},
   "outputs": [
    {
     "data": {
      "image/png": "[encoded data removed]",
      "text/plain": [
       "<Figure size 864x288 with 1 Axes>"
      ]
     },
     "metadata": {},
     "output_type": "display_data"
    }
   ],
   "source": [
    "plt.figure(figsize=(12,4),facecolor='lightgrey')\n",
    "sns.countplot(cars24['State'])\n",
    "plt.title('Statewise Car Distribution',fontsize=22)\n",
    "plt.show()"
   ]
  },
  {
   "cell_type": "markdown",
   "id": "60b4320a",
   "metadata": {},
   "source": [
    "##### \"Age\""
   ]
  },
  {
   "cell_type": "code",
   "execution_count": 63,
   "id": "8651820a",
   "metadata": {},
   "outputs": [
    {
     "data": {
      "text/plain": [
       "14"
      ]
     },
     "execution_count": 63,
     "metadata": {},
     "output_type": "execute_result"
    }
   ],
   "source": [
    "cars24['Age'].nunique()"
   ]
  },
  {
   "cell_type": "code",
   "execution_count": 64,
   "id": "0abfca3a",
   "metadata": {},
   "outputs": [
    {
     "data": {
      "text/plain": [
       "array([12, 10,  2,  9,  5,  0,  6,  1,  7,  8, 11,  3,  4, 13],\n",
       "      dtype=int64)"
      ]
     },
     "execution_count": 64,
     "metadata": {},
     "output_type": "execute_result"
    }
   ],
   "source": [
    "cars24['Age'].unique()"
   ]
  },
  {
   "cell_type": "code",
   "execution_count": 65,
   "id": "b5ce7516",
   "metadata": {},
   "outputs": [
    {
     "data": {
      "image/png": "[encoded data removed]",
      "text/plain": [
       "<Figure size 864x288 with 1 Axes>"
      ]
     },
     "metadata": {},
     "output_type": "display_data"
    }
   ],
   "source": [
    "plt.figure(figsize=(12,4),facecolor='lightgrey')\n",
    "sns.countplot(cars24['Age'])\n",
    "plt.title('Age',fontsize=22)\n",
    "plt.show()"
   ]
  },
  {
   "cell_type": "code",
   "execution_count": 66,
   "id": "e770f57f",
   "metadata": {},
   "outputs": [],
   "source": [
    "cars24.to_csv(\"cars24dash.csv\")"
   ]
  },
  {
   "cell_type": "code",
   "execution_count": 68,
   "id": "5080e961",
   "metadata": {},
   "outputs": [],
   "source": [
    "import pickle"
   ]
  },
  {
   "cell_type": "code",
   "execution_count": 69,
   "id": "ff9a8022",
   "metadata": {},
   "outputs": [],
   "source": [
    "cars24dash = pd.read_csv ('cars24dash.csv')"
   ]
  },
  {
   "cell_type": "code",
   "execution_count": 70,
   "id": "5c335bbb",
   "metadata": {},
   "outputs": [],
   "source": [
    "pickle.dump(cars24dash,open('cars24dash.pkl','wb'))"
   ]
  },
  {
   "cell_type": "code",
   "execution_count": 72,
   "id": "7cb95935",
   "metadata": {},
   "outputs": [
    {
     "name": "stdout",
     "output_type": "stream",
     "text": [
      "<class 'pandas.core.frame.DataFrame'>\n",
      "Int64Index: 2883 entries, 0 to 4455\n",
      "Data columns (total 14 columns):\n",
      " #   Column        Non-Null Count  Dtype \n",
      "---  ------        --------------  ----- \n",
      " 0   Name          2883 non-null   object\n",
      " 1   Model         2883 non-null   object\n",
      " 2   Transmission  2883 non-null   object\n",
      " 3   Kms           2883 non-null   object\n",
      " 4   Owner         2883 non-null   object\n",
      " 5   Fuel_Type     2883 non-null   object\n",
      " 6   Registration  2883 non-null   object\n",
      " 7   EMI           2883 non-null   object\n",
      " 8   Price         2883 non-null   object\n",
      " 9   Down_Payment  2883 non-null   object\n",
      " 10  Year          2883 non-null   object\n",
      " 11  Brand         2883 non-null   object\n",
      " 12  State         2883 non-null   object\n",
      " 13  Age           2883 non-null   int64 \n",
      "dtypes: int64(1), object(13)\n",
      "memory usage: 337.9+ KB\n"
     ]
    }
   ],
   "source": [
    "cars24.info()"
   ]
  },
  {
   "cell_type": "code",
   "execution_count": 73,
   "id": "ef57d440",
   "metadata": {},
   "outputs": [
    {
     "data": {
      "text/html": [
       "<div>\n",
       "<style scoped>\n",
       "    .dataframe tbody tr th:only-of-type {\n",
       "        vertical-align: middle;\n",
       "    }\n",
       "\n",
       "    .dataframe tbody tr th {\n",
       "        vertical-align: top;\n",
       "    }\n",
       "\n",
       "    .dataframe thead th {\n",
       "        text-align: right;\n",
       "    }\n",
       "</style>\n",
       "<table border=\"1\" class=\"dataframe\">\n",
       "  <thead>\n",
       "    <tr style=\"text-align: right;\">\n",
       "      <th></th>\n",
       "      <th>Name</th>\n",
       "      <th>Model</th>\n",
       "      <th>Transmission</th>\n",
       "      <th>Kms</th>\n",
       "      <th>Owner</th>\n",
       "      <th>Fuel_Type</th>\n",
       "      <th>Registration</th>\n",
       "      <th>EMI</th>\n",
       "      <th>Price</th>\n",
       "      <th>Down_Payment</th>\n",
       "      <th>Year</th>\n",
       "      <th>Brand</th>\n",
       "      <th>State</th>\n",
       "      <th>Age</th>\n",
       "    </tr>\n",
       "  </thead>\n",
       "  <tbody>\n",
       "    <tr>\n",
       "      <th>0</th>\n",
       "      <td>Hyundai i20</td>\n",
       "      <td>MAGNA O 1.2</td>\n",
       "      <td>Manual</td>\n",
       "      <td>34913</td>\n",
       "      <td>2</td>\n",
       "      <td>Petrol</td>\n",
       "      <td>MH-02</td>\n",
       "      <td>4489</td>\n",
       "      <td>229599</td>\n",
       "      <td>0</td>\n",
       "      <td>2010</td>\n",
       "      <td>Hyundai</td>\n",
       "      <td>Maharashtra</td>\n",
       "      <td>12</td>\n",
       "    </tr>\n",
       "    <tr>\n",
       "      <th>1</th>\n",
       "      <td>Maruti Ritz</td>\n",
       "      <td>VXI</td>\n",
       "      <td>Manual</td>\n",
       "      <td>77919</td>\n",
       "      <td>2</td>\n",
       "      <td>Petrol</td>\n",
       "      <td>MH-02</td>\n",
       "      <td>4616</td>\n",
       "      <td>236099</td>\n",
       "      <td>0</td>\n",
       "      <td>2012</td>\n",
       "      <td>Maruti</td>\n",
       "      <td>Maharashtra</td>\n",
       "      <td>10</td>\n",
       "    </tr>\n",
       "    <tr>\n",
       "      <th>3</th>\n",
       "      <td>Maruti Swift</td>\n",
       "      <td>VXI</td>\n",
       "      <td>Manual</td>\n",
       "      <td>25228</td>\n",
       "      <td>1</td>\n",
       "      <td>Petrol</td>\n",
       "      <td>MH-05</td>\n",
       "      <td>12469</td>\n",
       "      <td>637799</td>\n",
       "      <td>0</td>\n",
       "      <td>2020</td>\n",
       "      <td>Maruti</td>\n",
       "      <td>Maharashtra</td>\n",
       "      <td>2</td>\n",
       "    </tr>\n",
       "    <tr>\n",
       "      <th>4</th>\n",
       "      <td>Maruti Swift</td>\n",
       "      <td>VXI</td>\n",
       "      <td>Manual</td>\n",
       "      <td>35757</td>\n",
       "      <td>3</td>\n",
       "      <td>Petrol</td>\n",
       "      <td>MH-03</td>\n",
       "      <td>6246</td>\n",
       "      <td>319499</td>\n",
       "      <td>0</td>\n",
       "      <td>2012</td>\n",
       "      <td>Maruti</td>\n",
       "      <td>Maharashtra</td>\n",
       "      <td>10</td>\n",
       "    </tr>\n",
       "    <tr>\n",
       "      <th>5</th>\n",
       "      <td>Maruti Swift</td>\n",
       "      <td>VXI</td>\n",
       "      <td>Manual</td>\n",
       "      <td>37591</td>\n",
       "      <td>1</td>\n",
       "      <td>Petrol</td>\n",
       "      <td>MH-02</td>\n",
       "      <td>8067</td>\n",
       "      <td>412649</td>\n",
       "      <td>0</td>\n",
       "      <td>2013</td>\n",
       "      <td>Maruti</td>\n",
       "      <td>Maharashtra</td>\n",
       "      <td>9</td>\n",
       "    </tr>\n",
       "    <tr>\n",
       "      <th>...</th>\n",
       "      <td>...</td>\n",
       "      <td>...</td>\n",
       "      <td>...</td>\n",
       "      <td>...</td>\n",
       "      <td>...</td>\n",
       "      <td>...</td>\n",
       "      <td>...</td>\n",
       "      <td>...</td>\n",
       "      <td>...</td>\n",
       "      <td>...</td>\n",
       "      <td>...</td>\n",
       "      <td>...</td>\n",
       "      <td>...</td>\n",
       "      <td>...</td>\n",
       "    </tr>\n",
       "    <tr>\n",
       "      <th>4451</th>\n",
       "      <td>Hyundai i10</td>\n",
       "      <td>MAGNA 1.2 KAPPA2</td>\n",
       "      <td>Manual</td>\n",
       "      <td>50513</td>\n",
       "      <td>2</td>\n",
       "      <td>Petrol</td>\n",
       "      <td>KA-53</td>\n",
       "      <td>6031</td>\n",
       "      <td>308499</td>\n",
       "      <td>0</td>\n",
       "      <td>2011</td>\n",
       "      <td>Hyundai</td>\n",
       "      <td>Karnataka</td>\n",
       "      <td>11</td>\n",
       "    </tr>\n",
       "    <tr>\n",
       "      <th>4452</th>\n",
       "      <td>Hyundai NEW SANTRO</td>\n",
       "      <td>1.1 ERA EXICUTIVE</td>\n",
       "      <td>Manual</td>\n",
       "      <td>28441</td>\n",
       "      <td>1</td>\n",
       "      <td>Petrol</td>\n",
       "      <td>KA-09</td>\n",
       "      <td>10733</td>\n",
       "      <td>548999</td>\n",
       "      <td>0</td>\n",
       "      <td>2021</td>\n",
       "      <td>Hyundai</td>\n",
       "      <td>Karnataka</td>\n",
       "      <td>1</td>\n",
       "    </tr>\n",
       "    <tr>\n",
       "      <th>4453</th>\n",
       "      <td>KIA SELTOS</td>\n",
       "      <td>HTX+ AT 1.5 DIESEL</td>\n",
       "      <td>Automatic</td>\n",
       "      <td>44152</td>\n",
       "      <td>1</td>\n",
       "      <td>Diesel</td>\n",
       "      <td>KA-34</td>\n",
       "      <td>35355</td>\n",
       "      <td>1882699</td>\n",
       "      <td>0</td>\n",
       "      <td>2020</td>\n",
       "      <td>KIA</td>\n",
       "      <td>Karnataka</td>\n",
       "      <td>2</td>\n",
       "    </tr>\n",
       "    <tr>\n",
       "      <th>4454</th>\n",
       "      <td>Ford Ecosport</td>\n",
       "      <td>1.5 TITANIUM TI VCT AT</td>\n",
       "      <td>Automatic</td>\n",
       "      <td>73304</td>\n",
       "      <td>1</td>\n",
       "      <td>Petrol</td>\n",
       "      <td>KA-51</td>\n",
       "      <td>15925</td>\n",
       "      <td>847999</td>\n",
       "      <td>0</td>\n",
       "      <td>2016</td>\n",
       "      <td>Ford</td>\n",
       "      <td>Karnataka</td>\n",
       "      <td>6</td>\n",
       "    </tr>\n",
       "    <tr>\n",
       "      <th>4455</th>\n",
       "      <td>Hyundai NEW SANTRO</td>\n",
       "      <td>SPORTZ 1.1</td>\n",
       "      <td>Manual</td>\n",
       "      <td>12759</td>\n",
       "      <td>1</td>\n",
       "      <td>Petrol</td>\n",
       "      <td>KA-05</td>\n",
       "      <td>12641</td>\n",
       "      <td>646599</td>\n",
       "      <td>0</td>\n",
       "      <td>2021</td>\n",
       "      <td>Hyundai</td>\n",
       "      <td>Karnataka</td>\n",
       "      <td>1</td>\n",
       "    </tr>\n",
       "  </tbody>\n",
       "</table>\n",
       "<p>2883 rows × 14 columns</p>\n",
       "</div>"
      ],
      "text/plain": [
       "                    Name                   Model Transmission     Kms Owner  \\\n",
       "0            Hyundai i20             MAGNA O 1.2       Manual  34913      2   \n",
       "1            Maruti Ritz                     VXI       Manual  77919      2   \n",
       "3           Maruti Swift                     VXI       Manual  25228      1   \n",
       "4           Maruti Swift                     VXI       Manual  35757      3   \n",
       "5           Maruti Swift                     VXI       Manual  37591      1   \n",
       "...                  ...                     ...          ...     ...   ...   \n",
       "4451         Hyundai i10        MAGNA 1.2 KAPPA2       Manual  50513      2   \n",
       "4452  Hyundai NEW SANTRO       1.1 ERA EXICUTIVE       Manual  28441      1   \n",
       "4453          KIA SELTOS      HTX+ AT 1.5 DIESEL    Automatic  44152      1   \n",
       "4454       Ford Ecosport  1.5 TITANIUM TI VCT AT    Automatic  73304      1   \n",
       "4455  Hyundai NEW SANTRO              SPORTZ 1.1       Manual  12759      1   \n",
       "\n",
       "     Fuel_Type Registration    EMI    Price Down_Payment  Year    Brand  \\\n",
       "0       Petrol        MH-02   4489   229599            0  2010  Hyundai   \n",
       "1       Petrol        MH-02   4616   236099            0  2012   Maruti   \n",
       "3       Petrol        MH-05  12469   637799            0  2020   Maruti   \n",
       "4       Petrol        MH-03   6246   319499            0  2012   Maruti   \n",
       "5       Petrol        MH-02   8067   412649            0  2013   Maruti   \n",
       "...        ...          ...    ...      ...          ...   ...      ...   \n",
       "4451    Petrol        KA-53   6031   308499            0  2011  Hyundai   \n",
       "4452    Petrol        KA-09  10733   548999            0  2021  Hyundai   \n",
       "4453    Diesel        KA-34  35355  1882699            0  2020      KIA   \n",
       "4454    Petrol        KA-51  15925   847999            0  2016     Ford   \n",
       "4455    Petrol        KA-05  12641   646599            0  2021  Hyundai   \n",
       "\n",
       "            State  Age  \n",
       "0     Maharashtra   12  \n",
       "1     Maharashtra   10  \n",
       "3     Maharashtra    2  \n",
       "4     Maharashtra   10  \n",
       "5     Maharashtra    9  \n",
       "...           ...  ...  \n",
       "4451    Karnataka   11  \n",
       "4452    Karnataka    1  \n",
       "4453    Karnataka    2  \n",
       "4454    Karnataka    6  \n",
       "4455    Karnataka    1  \n",
       "\n",
       "[2883 rows x 14 columns]"
      ]
     },
     "execution_count": 73,
     "metadata": {},
     "output_type": "execute_result"
    }
   ],
   "source": [
    "cars24"
   ]
  },
  {
   "cell_type": "code",
   "execution_count": 74,
   "id": "3b718446",
   "metadata": {},
   "outputs": [
    {
     "name": "stdout",
     "output_type": "stream",
     "text": [
      "<class 'pandas.core.frame.DataFrame'>\n",
      "Int64Index: 2883 entries, 0 to 4455\n",
      "Data columns (total 14 columns):\n",
      " #   Column        Non-Null Count  Dtype \n",
      "---  ------        --------------  ----- \n",
      " 0   Name          2883 non-null   object\n",
      " 1   Model         2883 non-null   object\n",
      " 2   Transmission  2883 non-null   object\n",
      " 3   Kms           2883 non-null   object\n",
      " 4   Owner         2883 non-null   object\n",
      " 5   Fuel_Type     2883 non-null   object\n",
      " 6   Registration  2883 non-null   object\n",
      " 7   EMI           2883 non-null   object\n",
      " 8   Price         2883 non-null   object\n",
      " 9   Down_Payment  2883 non-null   object\n",
      " 10  Year          2883 non-null   object\n",
      " 11  Brand         2883 non-null   object\n",
      " 12  State         2883 non-null   object\n",
      " 13  Age           2883 non-null   int64 \n",
      "dtypes: int64(1), object(13)\n",
      "memory usage: 337.9+ KB\n"
     ]
    }
   ],
   "source": [
    "cars24.info() #Checking Data Type"
   ]
  },
  {
   "cell_type": "code",
   "execution_count": 75,
   "id": "a8e5a111",
   "metadata": {},
   "outputs": [],
   "source": [
    "Backup=cars24.copy()"
   ]
  },
  {
   "cell_type": "markdown",
   "id": "5269022e",
   "metadata": {},
   "source": [
    "# Model Building"
   ]
  },
  {
   "cell_type": "code",
   "execution_count": 76,
   "id": "ac17710b",
   "metadata": {},
   "outputs": [],
   "source": [
    "X=cars24.drop(columns=['Price','Down_Payment'])\n",
    "y=cars24['Price']"
   ]
  },
  {
   "cell_type": "code",
   "execution_count": 77,
   "id": "06b29abf",
   "metadata": {},
   "outputs": [],
   "source": [
    "from sklearn.model_selection import train_test_split\n",
    "X_train,X_test,y_train,y_test=train_test_split(X,y,test_size=0.2)"
   ]
  },
  {
   "cell_type": "code",
   "execution_count": 78,
   "id": "5f9748c9",
   "metadata": {},
   "outputs": [
    {
     "data": {
      "text/plain": [
       "(2306, 12)"
      ]
     },
     "execution_count": 78,
     "metadata": {},
     "output_type": "execute_result"
    }
   ],
   "source": [
    "X_train.shape"
   ]
  },
  {
   "cell_type": "code",
   "execution_count": 79,
   "id": "36cdf1d8",
   "metadata": {},
   "outputs": [
    {
     "data": {
      "text/plain": [
       "(577, 12)"
      ]
     },
     "execution_count": 79,
     "metadata": {},
     "output_type": "execute_result"
    }
   ],
   "source": [
    "X_test.shape"
   ]
  },
  {
   "cell_type": "code",
   "execution_count": 80,
   "id": "b696753e",
   "metadata": {},
   "outputs": [
    {
     "data": {
      "text/plain": [
       "(2306,)"
      ]
     },
     "execution_count": 80,
     "metadata": {},
     "output_type": "execute_result"
    }
   ],
   "source": [
    "y_train.shape"
   ]
  },
  {
   "cell_type": "code",
   "execution_count": 81,
   "id": "3ba87773",
   "metadata": {},
   "outputs": [
    {
     "data": {
      "text/plain": [
       "(577,)"
      ]
     },
     "execution_count": 81,
     "metadata": {},
     "output_type": "execute_result"
    }
   ],
   "source": [
    "y_test.shape"
   ]
  },
  {
   "cell_type": "markdown",
   "id": "edbb3de6",
   "metadata": {},
   "source": [
    "#### OneHotEncoder"
   ]
  },
  {
   "cell_type": "code",
   "execution_count": 82,
   "id": "584d11a6",
   "metadata": {},
   "outputs": [],
   "source": [
    "from sklearn.preprocessing import OneHotEncoder"
   ]
  },
  {
   "cell_type": "code",
   "execution_count": 83,
   "id": "ce8e8ee9",
   "metadata": {},
   "outputs": [
    {
     "data": {
      "text/html": [
       "<style>#sk-container-id-1 {color: black;background-color: white;}#sk-container-id-1 pre{padding: 0;}#sk-container-id-1 div.sk-toggleable {background-color: white;}#sk-container-id-1 label.sk-toggleable__label {cursor: pointer;display: block;width: 100%;margin-bottom: 0;padding: 0.3em;box-sizing: border-box;text-align: center;}#sk-container-id-1 label.sk-toggleable__label-arrow:before {content: \"▸\";float: left;margin-right: 0.25em;color: #696969;}#sk-container-id-1 label.sk-toggleable__label-arrow:hover:before {color: black;}#sk-container-id-1 div.sk-estimator:hover label.sk-toggleable__label-arrow:before {color: black;}#sk-container-id-1 div.sk-toggleable__content {max-height: 0;max-width: 0;overflow: hidden;text-align: left;background-color: #f0f8ff;}#sk-container-id-1 div.sk-toggleable__content pre {margin: 0.2em;color: black;border-radius: 0.25em;background-color: #f0f8ff;}#sk-container-id-1 input.sk-toggleable__control:checked~div.sk-toggleable__content {max-height: 200px;max-width: 100%;overflow: auto;}#sk-container-id-1 input.sk-toggleable__control:checked~label.sk-toggleable__label-arrow:before {content: \"▾\";}#sk-container-id-1 div.sk-estimator input.sk-toggleable__control:checked~label.sk-toggleable__label {background-color: #d4ebff;}#sk-container-id-1 div.sk-label input.sk-toggleable__control:checked~label.sk-toggleable__label {background-color: #d4ebff;}#sk-container-id-1 input.sk-hidden--visually {border: 0;clip: rect(1px 1px 1px 1px);clip: rect(1px, 1px, 1px, 1px);height: 1px;margin: -1px;overflow: hidden;padding: 0;position: absolute;width: 1px;}#sk-container-id-1 div.sk-estimator {font-family: monospace;background-color: #f0f8ff;border: 1px dotted black;border-radius: 0.25em;box-sizing: border-box;margin-bottom: 0.5em;}#sk-container-id-1 div.sk-estimator:hover {background-color: #d4ebff;}#sk-container-id-1 div.sk-parallel-item::after {content: \"\";width: 100%;border-bottom: 1px solid gray;flex-grow: 1;}#sk-container-id-1 div.sk-label:hover label.sk-toggleable__label {background-color: #d4ebff;}#sk-container-id-1 div.sk-serial::before {content: \"\";position: absolute;border-left: 1px solid gray;box-sizing: border-box;top: 0;bottom: 0;left: 50%;z-index: 0;}#sk-container-id-1 div.sk-serial {display: flex;flex-direction: column;align-items: center;background-color: white;padding-right: 0.2em;padding-left: 0.2em;position: relative;}#sk-container-id-1 div.sk-item {position: relative;z-index: 1;}#sk-container-id-1 div.sk-parallel {display: flex;align-items: stretch;justify-content: center;background-color: white;position: relative;}#sk-container-id-1 div.sk-item::before, #sk-container-id-1 div.sk-parallel-item::before {content: \"\";position: absolute;border-left: 1px solid gray;box-sizing: border-box;top: 0;bottom: 0;left: 50%;z-index: -1;}#sk-container-id-1 div.sk-parallel-item {display: flex;flex-direction: column;z-index: 1;position: relative;background-color: white;}#sk-container-id-1 div.sk-parallel-item:first-child::after {align-self: flex-end;width: 50%;}#sk-container-id-1 div.sk-parallel-item:last-child::after {align-self: flex-start;width: 50%;}#sk-container-id-1 div.sk-parallel-item:only-child::after {width: 0;}#sk-container-id-1 div.sk-dashed-wrapped {border: 1px dashed gray;margin: 0 0.4em 0.5em 0.4em;box-sizing: border-box;padding-bottom: 0.4em;background-color: white;}#sk-container-id-1 div.sk-label label {font-family: monospace;font-weight: bold;display: inline-block;line-height: 1.2em;}#sk-container-id-1 div.sk-label-container {text-align: center;}#sk-container-id-1 div.sk-container {/* jupyter's `normalize.less` sets `[hidden] { display: none; }` but bootstrap.min.css set `[hidden] { display: none !important; }` so we also need the `!important` here to be able to override the default hidden behavior on the sphinx rendered scikit-learn.org. See: https://github.com/scikit-learn/scikit-learn/issues/21755 */display: inline-block !important;position: relative;}#sk-container-id-1 div.sk-text-repr-fallback {display: none;}</style><div id=\"sk-container-id-1\" class=\"sk-top-container\"><div class=\"sk-text-repr-fallback\"><pre>OneHotEncoder()</pre><b>In a Jupyter environment, please rerun this cell to show the HTML representation or trust the notebook. <br />On GitHub, the HTML representation is unable to render, please try loading this page with nbviewer.org.</b></div><div class=\"sk-container\" hidden><div class=\"sk-item\"><div class=\"sk-estimator sk-toggleable\"><input class=\"sk-toggleable__control sk-hidden--visually\" id=\"sk-estimator-id-1\" type=\"checkbox\" checked><label for=\"sk-estimator-id-1\" class=\"sk-toggleable__label sk-toggleable__label-arrow\">OneHotEncoder</label><div class=\"sk-toggleable__content\"><pre>OneHotEncoder()</pre></div></div></div></div></div>"
      ],
      "text/plain": [
       "OneHotEncoder()"
      ]
     },
     "execution_count": 83,
     "metadata": {},
     "output_type": "execute_result"
    }
   ],
   "source": [
    "onehot = OneHotEncoder()\n",
    "onehot.fit(X[['Name','Model','Transmission','Fuel_Type','Registration','Brand','State']])"
   ]
  },
  {
   "cell_type": "code",
   "execution_count": 84,
   "id": "8dd5d28e",
   "metadata": {},
   "outputs": [],
   "source": [
    "categories=onehot.categories_"
   ]
  },
  {
   "cell_type": "code",
   "execution_count": 85,
   "id": "f23de960",
   "metadata": {},
   "outputs": [
    {
     "data": {
      "text/plain": [
       "[array(['Audi A3', 'Audi A6', 'Audi Q3', 'Audi Q5', 'Datsun Go',\n",
       "        'Datsun Go Plus', 'Datsun Redi Go', 'Ford Ecosport',\n",
       "        'Ford Endeavour', 'Ford FREESTYLE', 'Ford Figo',\n",
       "        'Ford Figo Aspire', 'Ford New Figo', 'Honda Amaze', 'Honda BR-V',\n",
       "        'Honda Brio', 'Honda CRV', 'Honda City', 'Honda Civic',\n",
       "        'Honda Jazz', 'Honda WR-V', 'Hyundai AURA', 'Hyundai Accent',\n",
       "        'Hyundai Creta', 'Hyundai Elite i20', 'Hyundai Eon',\n",
       "        'Hyundai GRAND I10 NIOS', 'Hyundai Grand i10', 'Hyundai NEW I20',\n",
       "        'Hyundai NEW SANTRO', 'Hyundai New Elantra', 'Hyundai Santro Xing',\n",
       "        'Hyundai Tucson New', 'Hyundai VENUE', 'Hyundai Verna',\n",
       "        'Hyundai Xcent', 'Hyundai i10', 'Hyundai i20',\n",
       "        'Hyundai i20 Active', 'Jaguar XF', 'Jeep Compass', 'KIA SELTOS',\n",
       "        'MG HECTOR', 'Mahindra Bolero', 'Mahindra KUV 100 NXT',\n",
       "        'Mahindra Kuv100', 'Mahindra MARAZZO', 'Mahindra Scorpio',\n",
       "        'Mahindra TUV300', 'Mahindra Thar', 'Mahindra XUV 3OO',\n",
       "        'Mahindra XUV500', 'Maruti A Star', 'Maruti Alto',\n",
       "        'Maruti Alto 800', 'Maruti Alto K10', 'Maruti Baleno',\n",
       "        'Maruti Celerio', 'Maruti Celerio X', 'Maruti Ciaz',\n",
       "        'Maruti Dzire', 'Maruti Eeco', 'Maruti Ertiga', 'Maruti IGNIS',\n",
       "        'Maruti New  Wagon-R', 'Maruti OMNI E', 'Maruti Ritz',\n",
       "        'Maruti S Cross', 'Maruti S PRESSO', 'Maruti Swift',\n",
       "        'Maruti Swift Dzire', 'Maruti Vitara Brezza', 'Maruti Wagon R',\n",
       "        'Maruti Wagon R 1.0', 'Maruti Wagon R Stingray', 'Maruti XL6',\n",
       "        'Maruti Zen Estilo', 'Mercedes Benz C Class',\n",
       "        'Mercedes Benz E Class', 'Nissan Micra', 'Nissan Micra Active',\n",
       "        'Nissan Terrano', 'Renault Captur', 'Renault Duster',\n",
       "        'Renault Kwid', 'Renault Pulse', 'Renault TRIBER', 'Skoda Octavia',\n",
       "        'Skoda Rapid', 'Tata ALTROZ', 'Tata Harrier', 'Tata Hexa',\n",
       "        'Tata NEXON', 'Tata Safari', 'Tata TIGOR', 'Tata Tiago',\n",
       "        'Tata Zest', 'Toyota Camry', 'Toyota Corolla Altis',\n",
       "        'Toyota Etios', 'Toyota Etios Liva', 'Toyota Fortuner',\n",
       "        'Toyota Glanza', 'Toyota Innova Crysta', 'Toyota YARIS',\n",
       "        'Volkswagen Ameo', 'Volkswagen Beetle', 'Volkswagen Polo',\n",
       "        'Volkswagen TIGUAN', 'Volkswagen Vento'], dtype=object),\n",
       " array(['1.0 AMBITION TSI AT', '1.0 CLIMBER OPT',\n",
       "        '1.0 ECOBOOST TITANIUM OPT',\n",
       "        '1.0 ECOBOOST TITANIUM SPORTS(SUNROOF)', '1.0 LXI (O)',\n",
       "        '1.0 Lxi (o) cng', '1.0 RXL PETROL', '1.0 RXT',\n",
       "        '1.0 RXT 02 Anniversary Edition', '1.0 RXT AT', '1.0 RXT Opt',\n",
       "        '1.0 RXT Opt AT', '1.0 RXZ', '1.0 S AT', '1.0 T(O)', '1.0 T(O) AT',\n",
       "        '1.0 TREND+ (ECOBOOST)', '1.0 TURBO GDI SX+ AT',\n",
       "        '1.0 Turbo GDI DCT SX+DT', '1.0 VXI (O)', '1.0 turbo GDI IMT SX O',\n",
       "        '1.0L Turbo GDI SX MT', '1.0L Turbo GDI SX(O) MT',\n",
       "        '1.1 ERA EXICUTIVE', '1.1 MAGNA AMT', '1.1 MAGNA CNG MT',\n",
       "        '1.1 MAGNA MT', '1.1 SPORTS AMT', '1.2  ASTA (O) CVT',\n",
       "        '1.2 ASTA (O) AT', '1.2 BASE I VTEC', '1.2 EMT I VTEC',\n",
       "        '1.2 EXMT I VTEC', '1.2 KAPPA SPORTZ (O)', '1.2 MAGNA PLUS VTVT',\n",
       "        '1.2 S', '1.2 S (O) MT I VTEC', '1.2 S (O) MT IVTEC', '1.2 S MT',\n",
       "        '1.2 S MT I VTEC', '1.2 SAT I VTEC', '1.2 SELECT I VTEC',\n",
       "        '1.2 SMT I VTEC', '1.2 SPORTS PLUS VTVT',\n",
       "        '1.2 SPORTZ PLUS DUAL TONE VTVT', '1.2 SV MT', '1.2 SX',\n",
       "        '1.2 SX MT I VTEC', '1.2 TITANIUM', '1.2 TITANIUM PETROL',\n",
       "        '1.2 TITANIUM+ PETROL', '1.2 TSI HIGHLINE PLUS AT', '1.2 V AT',\n",
       "        '1.2 V CVT I VTEC', '1.2 V MT', '1.2 V MT I VTEC',\n",
       "        '1.2 V MT I-VTEC', '1.2 VX AT', '1.2 VX AT I VTEC',\n",
       "        '1.2 VX CVT I VTEC', '1.2 VX I-VTECH', '1.2 VX MT I VTEC',\n",
       "        '1.2 VXMT I VTEC', '1.2 XT (O)', '1.2 ZX MT', '1.2 ZXI DURATEC',\n",
       "        '1.2 i-VTEC S MT', '1.2 i-VTEC VX MT', '1.4  LONGITUDE (O) AT',\n",
       "        '1.4 CRDI ASTA (O)', '1.4 CRDI S MT',\n",
       "        '1.4 GTX+ TURBO GDI PETROL AT', '1.4 S CRDI',\n",
       "        '1.5  TITANIUM SPORTS(SUNROOF)', '1.5 AMBIENTE TDCI',\n",
       "        '1.5 E MT PETROL', '1.5 EMT I DTEC', '1.5 GTX+ AT', '1.5 RXL MT',\n",
       "        '1.5 SMT O I DTEC', '1.5 SX (O)', '1.5 SX (O) AT',\n",
       "        '1.5 SX CRDI MT', '1.5 TDCI TITANIUM PLUS', '1.5 TDI MT AMBITION',\n",
       "        '1.5 TITANIUM AT PETROL', '1.5 TITANIUM PLUS TI VCT AT',\n",
       "        '1.5 TITANIUM SIGNATURE TI VCT (SUNROOF)',\n",
       "        '1.5 TITANIUM THUNDER EDITION TI VCT', '1.5 TITANIUM TI VCT',\n",
       "        '1.5 TITANIUM TI VCT AT', '1.5 TITANIUMTDCI OPT', '1.5 TREND TDCI',\n",
       "        '1.5 TREND TI VCT', '1.5 TREND+ TDCI', '1.5 V CVT I-DTEC',\n",
       "        '1.5 W6 MT', '1.5 ZETA VVT SHVS AT', '1.5 i- DTEC S',\n",
       "        '1.5 i-DTEC VX MT', '1.5AMBIENTE TI VCT', '1.5TITANIUM TDCI',\n",
       "        '1.6 CRDI SX + AT', '1.6 CRDI SX PLUS AUTO', '1.6 E + VTVT',\n",
       "        '1.6 EX VTVT', '1.6 MPI MT ACTIVE', '1.6 MPI STYLE AT', '1.6 S',\n",
       "        '1.6 S AT CRDI', '1.6 SX (O) CRDI', '1.6 SX (O) CRDI MT',\n",
       "        '1.6 SX (O) VTVT', '1.6 SX AT CRDI', '1.6 SX CRDI', '1.6 SX MT',\n",
       "        '1.6 SX PLUS AUTO PETROL', '1.6 SX PLUS DIESEL',\n",
       "        '1.6 SX PLUS PETROL', '1.6 SX PLUS VTVT', '1.6 SX VTVT',\n",
       "        '1.6 SX VTVT (O)', '1.6 SX VTVT (O) EXECUTIVE', '1.6 SX VTVT AT',\n",
       "        '1.6 SX VTVT AT (O)', '1.6 SX+ VTVT AT',\n",
       "        '1.6 TDI MT AMBITION PLUS', '1.6 VTVT SX AUTO', '1.8V AT',\n",
       "        '1.8V MT SUN ROOF', '2.0 2WD AT', '2.0 AT', '2.0 L&K AT TDI',\n",
       "        '2.0 LIMITED', '2.0 LIMITED 4*2', '2.0 LONGITUDE',\n",
       "        '2.0 LONGITUDE (O)', '2.0 SPORT PLUS', '2.0 TDI STYLE PLUS AT',\n",
       "        '2.0 TDI TECHNOLOGY', '2.0 TITANIUM PLUS 4X2 AT', '2.2 DIESEL',\n",
       "        '2.4 AT 4WD AVN', '2.4 ZX AT', '2.5 AT', '2.7 ZX AT 7 STR',\n",
       "        '2.8 4x2 AT', '2.8 ZX AT 7 STR', '2WD MT PETROL',\n",
       "        '30 TDI MT S EDITION', '30 TDI PREMIUM PLUS', '35 TDI S LINE',\n",
       "        '35TDI PREMIUM', '5 STR CNG WITH AC PLUSHTR',\n",
       "        '5 STR WITH AC PLUSHTR', '7 STR', '8 STR',\n",
       "        '85 PS RXE DIESEL ADVENTURE', '85 PS RXL', 'A', 'ACTIVE 1.0 TSI',\n",
       "        'ALPHA 1.2 K12', 'ALPHA 1.2 K12 AMT', 'ALPHA 1.2 K12 DUAL TONE',\n",
       "        'ALPHA 1.2K12  AT', 'ALPHA 1.3 DDIS SHVS', 'ALPHA 1.4 VVT',\n",
       "        'ALPHA 1.4 VVT AMT', 'ALPHA 1.5 AT SHVS', 'ALPHA 1.5 MT VTVT SHVS',\n",
       "        'ALPHA 1.5 SMART HYBRID', 'ALPHA AT SHVS', 'ALPHA AT SMART HYBRID',\n",
       "        'ALPHA DDIS 190', 'ALPHA SHVS', 'ALPHA SHVS  MT',\n",
       "        'AMBITION 1.6 MPFI AT', 'ASTA (O) 1.0 TURBO GDI AT',\n",
       "        'ASTA 1.1 (O) CRDI', 'ASTA 1.1 CRDI', 'ASTA 1.1 MT', 'ASTA 1.2',\n",
       "        'ASTA 1.2 (O)', 'ASTA 1.2 (O) VTVT', 'ASTA 1.2 AT',\n",
       "        'ASTA 1.2 AT VTVT', 'ASTA 1.2 DUAL TONE', 'ASTA 1.2 KAPPA VTVT',\n",
       "        'ASTA 1.2 KAPPA VTVT OPT', 'ASTA 1.2 VTVT', 'ASTA 1.4 CRDI',\n",
       "        'Asta 1.2 CVT', 'Asta Petrol', 'BASE 1.2', 'C 200 AVANTGARDE',\n",
       "        'CLIMBER 1.0', 'CLIMBER 1.0 AT', 'COMFORTLINE  CUP EDITION',\n",
       "        'COMFORTLINE 1.0 PETROL', 'COMFORTLINE 1.0 TSI MT',\n",
       "        'COMFORTLINE 1.2', 'COMFORTLINE 1.2L PETROL',\n",
       "        'COMFORTLINE MT PETROL', 'COMFORTLINE PLUS 1.0', 'CORPORATE MT',\n",
       "        'CRDI 4x4 6str AC', 'CROSS G', 'D', 'D LITE PLUS', 'D-4D VXD',\n",
       "        'DELTA 1.2 K12', 'DELTA 1.2 K12 AMT', 'DELTA 1.2 K12 AT',\n",
       "        'DELTA 1.4 VVT', 'DELTA 1.4 VVT AT', 'DELTA 1.5 SHVS VVT MT',\n",
       "        'DELTA DDIS 190', 'DELTA SHVS', 'E', 'E 220 CDI ELEGANCE',\n",
       "        'E 250 CDI ELEGANCE', 'E MT 1.2 KAPPA', 'E PETROL', 'E PLUS',\n",
       "        'ELEGANCE 1.6 MPFI AT', 'ELEGANCE 1.6 MPFI MT',\n",
       "        'ELEGANCE 1.6 TDI MT', 'ERA 1.1', 'ERA 1.1 IRDE', 'ERA 1.2',\n",
       "        'ERA PLUS', 'ERA PLUS (O)', 'EXECUTIVE', 'FLUIDIC 1.4 VTVT',\n",
       "        'FLUIDIC 1.6 CRDI S', 'FLUIDIC 1.6 EX CRDI', 'FLUIDIC 1.6 SX CRDI',\n",
       "        'FLUIDIC 1.6 SX CRDI OPT', 'FLUIDIC 1.6 SX VTVT',\n",
       "        'FLUIDIC 1.6 SX VTVT OPT', 'FLUIDIC 1.6 VTVT S',\n",
       "        'FLUIDIC 1.6 VTVT S (O)  MT', 'FLUIDIC 1.6 VTVT S AT',\n",
       "        'FLUIDIC 1.6 VTVT SX AT', 'G', 'G AT', 'G CVT', 'G MT',\n",
       "        'G MT PETROL', 'G SP', 'GL', 'GL PLUS', 'GLS',\n",
       "        'GT TSI 1.2 PETROL AT', 'GTK 1.4 GDI PETROL', 'GTX + AT PETROL',\n",
       "        'GTX 1.4 GDI AT PETROL', 'GTX 1.4 GDI PETROL', 'HIGHLINE 1.2',\n",
       "        'HIGHLINE 1.2 TSI AT', 'HIGHLINE 1.5L AT (D)', 'HIGHLINE A/T',\n",
       "        'HIGHLINE PETROL', 'HIGHLINE PLUS 1.0 TSI AT',\n",
       "        'HIGHLINE PLUS DSG 1.5', 'HIGHLINE1.2L DIESEL',\n",
       "        'HIGHLINE1.2L PETROL', 'HTE 1.5 MT DIESEL', 'HTK 1.5 PETROL',\n",
       "        'HTK PLUS 1.5 DIESEL', 'HTK PLUS 1.5 PETROL',\n",
       "        'HTK PLUS AT 1.5 DIESEL', 'HTX 1.5 DIESEL', 'HTX+ AT 1.5 DIESEL',\n",
       "        'Highline 1.0 TSI MT', 'J', 'J CVT', 'J MT', 'K2 D 6S', 'K2+6 STR',\n",
       "        'K4 6 STR', 'K4+ 6S', 'K8 6 STR', 'K8 D 6 STR', 'LDI', 'LDI OPT',\n",
       "        'LIMITED (O) 2.0', 'LIMITED (O) 2.0 4*4', 'LIMITED 1.4 AT',\n",
       "        'LIMITED O 1.4 AT', 'LX  4WD AT CONVERTIBLE', 'LX D 4*4 MT HT',\n",
       "        'LX D 4WD AT CONVERTIBLE', 'LXI', 'LXI (O) CNG', 'LXI 1.0 L',\n",
       "        'LXI 1.2 BS IV', 'LXI CNG', 'LXI CNG (O)', 'LXI CNG 1.0 L',\n",
       "        'LXI MINOR', 'LXI OPT', 'M8 7 STR', 'MAGNA',\n",
       "        'MAGNA + 1.0 LITRE KAPPA', 'MAGNA 1.1 CRDI', 'MAGNA 1.1 IRDE2',\n",
       "        'MAGNA 1.2', 'MAGNA 1.2 AT', 'MAGNA 1.2 KAPPA VTVT',\n",
       "        'MAGNA 1.2 KAPPA VTVT CNG', 'MAGNA 1.2 KAPPA2', 'MAGNA 1.2 VTVT',\n",
       "        'MAGNA 1.4 CRDI', 'MAGNA O 1.2', 'MAGNA PLUS',\n",
       "        'MAGNA PLUS OPTIONAL', 'MAGNA+ VTVT', 'MONTE CARLO 1.0 MT',\n",
       "        'Magna + CRDI', 'Magna 1.2 AT  VTVT', 'Magna Executive 1.2',\n",
       "        'Magna Executive Diesel', 'Neotech 1.0 EasyR', 'PLATINE DUAL TONE',\n",
       "        'PLATINE PETROL DUAL TONE', 'POWER+ SLE', 'Power+ ZLX',\n",
       "        'RS 1.0 PETROL', 'RX L PETROL', 'RX Z DIESEL', 'RXE MT PETROL',\n",
       "        'RXE diesel (MT)', 'RXL', 'RXL AMT 110 PS', 'RXL PETROL 104',\n",
       "        'RXL PLUS DIESEL 85', 'RXS 106 PS MT', 'RXS 85 PS',\n",
       "        'RXS CVT 106 PS', 'RXT', 'RXT 1.0 EASY-R  AT',\n",
       "        'RXT 1.0 EASY-R AT OPTION', 'RXT Diesel Dual Tone', 'RXT Opt',\n",
       "        'RXZ', 'RXZ 1.3 TURBO MT', 'RXZ 110 4WD', 'RXZ 85 PS DIESEL',\n",
       "        'RXZ AMT 110 PS', 'RXZ AT', 'RXZ CVT 1.3 TURBO', 'RXZ DIESEL 110',\n",
       "        'Revotron XE', 'S', 'S 1.1 CRDI', 'S 1.2', 'S 1.2 Kappa MT',\n",
       "        'S 1.2 OPT', 'S 1.3 SHVS', 'S CNG', 'S CRDI', 'S MT 1.2 KAPPA',\n",
       "        'S MT PETROL', 'S MT Turbo GDI 1.0L', 'S Plus MT 1.2 Kappa',\n",
       "        'S+ DIESEL MT', 'S10', 'S10 Intelli Hybrid 2WD', 'S11', 'S3 2WD',\n",
       "        'S7 120 BHP 2WD', 'S9', 'SHARP 2.0 DIESEL', 'SHARP CVT',\n",
       "        'SHARP DCT PETROL', 'SHARP HYBIRD PETROL MT', 'SIGMA 1.2 K12',\n",
       "        'SIGMA 1.3', 'SIGMA 1.4 VVT', 'SIGMA 1.5 SHVS', 'SIGMA SHVS',\n",
       "        'SMART DCT PETROL', 'SPORTS 1.2 VTVT', 'SPORTZ', 'SPORTZ (O) 1.2',\n",
       "        'SPORTZ (O) 1.2 AT VTVT', 'SPORTZ 1.1', 'SPORTZ 1.1 CRDI',\n",
       "        'SPORTZ 1.1 IRDE2', 'SPORTZ 1.2', 'SPORTZ 1.2 AT',\n",
       "        'SPORTZ 1.2 AT KAPPA2', 'SPORTZ 1.2 KAPPA VTVT',\n",
       "        'SPORTZ 1.2 KAPPA2', 'SPORTZ 1.2 KAPPA2 O', 'SPORTZ 1.2 O',\n",
       "        'SPORTZ 1.2 VTVT', 'SPORTZ 1.4', 'SPORTZ 1.4 CRDI',\n",
       "        'SPORTZ AMT ANNIVERSARY EDITION', 'SPORTZ AT 1.2 KAPPA VTVT',\n",
       "        'SPORTZ CNG MT', 'SPORTZ DUAL TONE 1.2 VTVT',\n",
       "        'SPORTZ EXECUTIVE CNG', 'SPORTZ MT DUAL TONE', 'SPORTZ O 1.2',\n",
       "        'SPORTZ PETROL', 'STD', 'STYLE 1.0 AT', 'STYLE 1.0TSI MT',\n",
       "        'STYLE 1.6 MPI MT', 'SUPER DIESEL', 'SV MT PETROL',\n",
       "        'SX (O) DIESEL MT', 'SX 1.0 GDI IMT', 'SX 1.1 CRDI OPT', 'SX 1.2',\n",
       "        'SX 1.2 OPT', 'SX PETROL MT', 'SX PLUS 1.6 DUAL TONE VTVT',\n",
       "        'SX(O) CRDi', 'SX(O) PETROL AT', 'SX(O) PETROL MT', 'SX+ AT',\n",
       "        'Sportz 1.2 VTVT MT', 'Sportz(O) 1.2 MT', 'Sportz(O) 1.4 CRDi MT',\n",
       "        'Style 1.5 TDI AT', 'T', 'T (O)', 'T(O)', 'T10 MT', 'T8',\n",
       "        'TITANIUM 1.2 TI-VCT MT', 'TITANIUM 1.5 TDCI',\n",
       "        'TITANIUM PLUS SE1.5 TDCI MT', 'TITANIUM Plus 1.5 TDCI MT',\n",
       "        'TITANIUM+ SPORT', 'TREND + 1.5 TI VCT AT',\n",
       "        'Trendline 1.0 L Petrol', 'V', 'V  LIMITED', 'V AT', 'V CVT',\n",
       "        'V MT DIESEL', 'V MT PETROL', 'V SP', 'VDI', 'VDI ABS', 'VDI AMT',\n",
       "        'VDI Anniversary Edition', 'VDI OPT', 'VDI+ SHVS', 'VL AT',\n",
       "        'VX  1.2', 'VX CVT', 'VX CVT PETROL', 'VX CVT i-VTEC',\n",
       "        'VX DUAL TONE', 'VX EXCLUSIVE CVT', 'VX MT PETROL', 'VXI',\n",
       "        'VXI (O)', 'VXI (O) 1.2L', 'VXI (O) AMT', 'VXI (O) CNG', 'VXI 1.0',\n",
       "        'VXI 1.2L', 'VXI 1.3', 'VXI ABS AT', 'VXI AGS', 'VXI AMT',\n",
       "        'VXI CNG', 'VXI CNG OPT', 'VXI LIMITED EDITION', 'VXI OPT',\n",
       "        'VXI OPT AGS', 'VXI PLUS', 'VXI PLUS AGS', 'VXI SMART HYBRID',\n",
       "        'VXI SMART HYBRID AT', 'Varicor 400 XMA', 'Varicor 400 XT',\n",
       "        'Varicor 400 XT 4X4', 'Varicor 400 XTA', 'W10 AT', 'W10 AT FWD',\n",
       "        'W11 (O)', 'W11 (O) AT', 'W11 AT', 'W11 FWD', 'W5', 'W6 4X2',\n",
       "        'W7 FWD', 'W8 (O) DIESEL  AT', 'W8 FWD', 'W8 FWD AT', 'W8(O)',\n",
       "        'W9', 'W9 AT', 'XE 1.2', 'XE 1.2 REVOTRON', 'XL 110 DIESEL',\n",
       "        'XL 85 PS DEISEL', 'XL CVT (PETROL)', 'XL P', 'XM 1.2',\n",
       "        'XM 1.2 REVOTRON', 'XM 2.0 KRYOTEC', 'XM 2.0L Kryotec',\n",
       "        'XM SUNROOF 1.2 RTN', 'XMA 1.2', 'XMA 1.5', 'XT 1.05 REVOTORQ',\n",
       "        'XT 1.2 REVOTRON', 'XT RT', 'XT+ 2.0 KRYOTEC', 'XT+2.0 KRYOTEC',\n",
       "        'XT1.5', 'XV', 'XV CVT', 'XV D THP PREMIUM 110 PS', 'XV S',\n",
       "        'XZ 1.2', 'XZ 1.2 REVOTRON', 'XZ 1.2 REVOTRON OPT',\n",
       "        'XZ 2.0L Kryotec', 'XZ DARK EDITION', 'XZ PLUS 1.2 REVOTRON',\n",
       "        'XZ+ 1.2', 'XZ+ 1.2 DUAL TONE', 'XZ+ 1.2 Revotron', 'XZ+ 1.5',\n",
       "        'XZ+ 1.5 Dual Tone', 'XZ+ DARK EDITION', 'XZ+ SUNROOF 1.2 RTN',\n",
       "        'XZ+ SUNROOF 1.5 RTQ', 'XZA  DUAL TONE', 'XZA + 1.2 PETROL A/T',\n",
       "        'XZA 1.2 REVOTRON', 'XZA+ (O) 1.2 RTN', 'XZA+ 1.2 Dual Tone',\n",
       "        'XZA+ 1.2 RTN', 'XZA+ 1.5', 'XZA+ 1.5 Dual Tone', 'ZDI', 'ZDI +',\n",
       "        'ZDI + AMT', 'ZDI AMT', 'ZDI PLUS', 'ZDI PLUS DUAL TONE',\n",
       "        'ZDI PLUS SHVS', 'ZDI Plus', 'ZDI Plus AMT', 'ZDI SHVS',\n",
       "        'ZDI plus AMT', 'ZDI+ DUAL TONE AMT', 'ZDI+ SHVS', 'ZETA 1.2 K12',\n",
       "        'ZETA 1.2 K12 AMT', 'ZETA 1.2 K12 CVT', 'ZETA 1.2 K12 DUAL TONE',\n",
       "        'ZETA 1.3', 'ZETA 1.3 SHVS', 'ZETA 1.4 VVT', 'ZETA 1.4 VVT AMT',\n",
       "        'ZETA 1.5 SHVS VVT MT', 'ZETA DDIS 190', 'ZETA SHVS', 'ZX CVT',\n",
       "        'ZX CVT ANNIVERSARY EDITION', 'ZX MT I-DTEC', 'ZX MT PETROL',\n",
       "        'ZXI', 'ZXI +', 'ZXI + AMT', 'ZXI 1.2', 'ZXI 1.2 BS IV',\n",
       "        'ZXI 1.2L AGS', 'ZXI 1.3', 'ZXI AMT', 'ZXI AT', 'ZXI OPT',\n",
       "        'ZXI OPT AMT', 'ZXI PLUS', 'ZXI Plus', 'ZXI Plus AMT',\n",
       "        'ZXI Plus SHVS', 'ZXI+', 'ZXI+ AT SHVS', 'ZXI+ DUAL TONE', 'Zxi',\n",
       "        'magna 1.2 crdi'], dtype=object),\n",
       " array(['Automatic', 'Manual'], dtype=object),\n",
       " array(['Diesel', 'Petrol', 'Petrol + CNG'], dtype=object),\n",
       " array(['AP-01', 'AP-02', 'AP-05', 'AP-07', 'AP-09', 'AP-10', 'AP-11',\n",
       "        'AP-12', 'AP-13', 'AP-15', 'AP-16', 'AP-21', 'AP-23', 'AP-26',\n",
       "        'AP-28', 'AP-29', 'AP-31', 'AP-37', 'AP-39', 'DL-10', 'DL-11',\n",
       "        'DL-12', 'DL-13', 'DL-14', 'DL-1C', 'DL-2C', 'DL-3C', 'DL-4C',\n",
       "        'DL-5C', 'DL-6C', 'DL-7C', 'DL-8C', 'DL-9C', 'HR-01', 'HR-02',\n",
       "        'HR-03', 'HR-04', 'HR-06', 'HR-10', 'HR-11', 'HR-12', 'HR-13',\n",
       "        'HR-14', 'HR-15', 'HR-16', 'HR-19', 'HR-21', 'HR-23', 'HR-24',\n",
       "        'HR-26', 'HR-27', 'HR-28', 'HR-29', 'HR-30', 'HR-33', 'HR-35',\n",
       "        'HR-36', 'HR-42', 'HR-49', 'HR-50', 'HR-51', 'HR-54', 'HR-59',\n",
       "        'HR-72', 'HR-76', 'HR-78', 'HR-79', 'HR-81', 'HR-83', 'HR-87',\n",
       "        'HR-98', 'KA-01', 'KA-02', 'KA-03', 'KA-04', 'KA-05', 'KA-06',\n",
       "        'KA-07', 'KA-08', 'KA-09', 'KA-10', 'KA-11', 'KA-12', 'KA-13',\n",
       "        'KA-14', 'KA-17', 'KA-19', 'KA-20', 'KA-21', 'KA-22', 'KA-23',\n",
       "        'KA-25', 'KA-26', 'KA-27', 'KA-28', 'KA-32', 'KA-33', 'KA-34',\n",
       "        'KA-36', 'KA-37', 'KA-40', 'KA-41', 'KA-42', 'KA-43', 'KA-44',\n",
       "        'KA-46', 'KA-47', 'KA-50', 'KA-51', 'KA-52', 'KA-53', 'KA-55',\n",
       "        'KA-59', 'KA-63', 'KA-65', 'KA-67', 'KA-70', 'MH-01', 'MH-02',\n",
       "        'MH-03', 'MH-04', 'MH-05', 'MH-06', 'MH-08', 'MH-09', 'MH-12',\n",
       "        'MH-14', 'MH-17', 'MH-29', 'MH-43', 'MH-44', 'MH-46', 'MH-47',\n",
       "        'MH-48', 'TS-01', 'TS-02', 'TS-03', 'TS-04', 'TS-05', 'TS-06',\n",
       "        'TS-07', 'TS-08', 'TS-09', 'TS-10', 'TS-11', 'TS-12', 'TS-13',\n",
       "        'TS-15', 'TS-16', 'TS-17', 'TS-18', 'TS-22', 'TS-28', 'TS-29',\n",
       "        'TS-30', 'TS-32', 'TS-35', 'TS-36', 'UP-13', 'UP-14', 'UP-15',\n",
       "        'UP-16', 'UP-21', 'UP-27', 'UP-32', 'UP-37', 'UP-44', 'UP-53',\n",
       "        'UP-63', 'UP-65', 'UP-70', 'UP-72', 'UP-74', 'UP-78', 'UP-80',\n",
       "        'UP-85'], dtype=object),\n",
       " array(['Audi', 'Datsun', 'Ford', 'Honda', 'Hyundai', 'Jaguar', 'Jeep',\n",
       "        'KIA', 'MG', 'Mahindra', 'Maruti', 'Mercedes', 'Nissan', 'Renault',\n",
       "        'Skoda', 'Tata', 'Toyota', 'Volkswagen'], dtype=object),\n",
       " array(['Andhra Pradesh', 'Delhi', 'Hariyana', 'Karnataka', 'Maharashtra',\n",
       "        'Telangana', 'Uttar Pradesh'], dtype=object)]"
      ]
     },
     "execution_count": 85,
     "metadata": {},
     "output_type": "execute_result"
    }
   ],
   "source": [
    "categories"
   ]
  },
  {
   "cell_type": "code",
   "execution_count": 86,
   "id": "3b89eeec",
   "metadata": {},
   "outputs": [],
   "source": [
    "from sklearn.compose import make_column_transformer"
   ]
  },
  {
   "cell_type": "code",
   "execution_count": 87,
   "id": "103a99da",
   "metadata": {},
   "outputs": [],
   "source": [
    "column_transform = make_column_transformer((OneHotEncoder(categories=onehot.categories_),['Name','Model','Transmission','Fuel_Type','Registration','Brand','State']),remainder='passthrough')"
   ]
  },
  {
   "cell_type": "markdown",
   "id": "d7976f09",
   "metadata": {},
   "source": [
    "### 1. Linear Regression Model"
   ]
  },
  {
   "cell_type": "code",
   "execution_count": 88,
   "id": "c32ad40b",
   "metadata": {},
   "outputs": [],
   "source": [
    "from sklearn.linear_model import LinearRegression"
   ]
  },
  {
   "cell_type": "code",
   "execution_count": 89,
   "id": "b7f2299a",
   "metadata": {},
   "outputs": [],
   "source": [
    "LR=LinearRegression()"
   ]
  },
  {
   "cell_type": "code",
   "execution_count": 90,
   "id": "fb44a414",
   "metadata": {},
   "outputs": [],
   "source": [
    "from sklearn.pipeline import make_pipeline"
   ]
  },
  {
   "cell_type": "code",
   "execution_count": 91,
   "id": "fb790f49",
   "metadata": {},
   "outputs": [],
   "source": [
    "model_LR=make_pipeline(column_transform,LR)"
   ]
  },
  {
   "cell_type": "code",
   "execution_count": 92,
   "id": "6e90ab01",
   "metadata": {},
   "outputs": [
    {
     "data": {
      "text/html": [
       "<style>#sk-container-id-2 {color: black;background-color: white;}#sk-container-id-2 pre{padding: 0;}#sk-container-id-2 div.sk-toggleable {background-color: white;}#sk-container-id-2 label.sk-toggleable__label {cursor: pointer;display: block;width: 100%;margin-bottom: 0;padding: 0.3em;box-sizing: border-box;text-align: center;}#sk-container-id-2 label.sk-toggleable__label-arrow:before {content: \"▸\";float: left;margin-right: 0.25em;color: #696969;}#sk-container-id-2 label.sk-toggleable__label-arrow:hover:before {color: black;}#sk-container-id-2 div.sk-estimator:hover label.sk-toggleable__label-arrow:before {color: black;}#sk-container-id-2 div.sk-toggleable__content {max-height: 0;max-width: 0;overflow: hidden;text-align: left;background-color: #f0f8ff;}#sk-container-id-2 div.sk-toggleable__content pre {margin: 0.2em;color: black;border-radius: 0.25em;background-color: #f0f8ff;}#sk-container-id-2 input.sk-toggleable__control:checked~div.sk-toggleable__content {max-height: 200px;max-width: 100%;overflow: auto;}#sk-container-id-2 input.sk-toggleable__control:checked~label.sk-toggleable__label-arrow:before {content: \"▾\";}#sk-container-id-2 div.sk-estimator input.sk-toggleable__control:checked~label.sk-toggleable__label {background-color: #d4ebff;}#sk-container-id-2 div.sk-label input.sk-toggleable__control:checked~label.sk-toggleable__label {background-color: #d4ebff;}#sk-container-id-2 input.sk-hidden--visually {border: 0;clip: rect(1px 1px 1px 1px);clip: rect(1px, 1px, 1px, 1px);height: 1px;margin: -1px;overflow: hidden;padding: 0;position: absolute;width: 1px;}#sk-container-id-2 div.sk-estimator {font-family: monospace;background-color: #f0f8ff;border: 1px dotted black;border-radius: 0.25em;box-sizing: border-box;margin-bottom: 0.5em;}#sk-container-id-2 div.sk-estimator:hover {background-color: #d4ebff;}#sk-container-id-2 div.sk-parallel-item::after {content: \"\";width: 100%;border-bottom: 1px solid gray;flex-grow: 1;}#sk-container-id-2 div.sk-label:hover label.sk-toggleable__label {background-color: #d4ebff;}#sk-container-id-2 div.sk-serial::before {content: \"\";position: absolute;border-left: 1px solid gray;box-sizing: border-box;top: 0;bottom: 0;left: 50%;z-index: 0;}#sk-container-id-2 div.sk-serial {display: flex;flex-direction: column;align-items: center;background-color: white;padding-right: 0.2em;padding-left: 0.2em;position: relative;}#sk-container-id-2 div.sk-item {position: relative;z-index: 1;}#sk-container-id-2 div.sk-parallel {display: flex;align-items: stretch;justify-content: center;background-color: white;position: relative;}#sk-container-id-2 div.sk-item::before, #sk-container-id-2 div.sk-parallel-item::before {content: \"\";position: absolute;border-left: 1px solid gray;box-sizing: border-box;top: 0;bottom: 0;left: 50%;z-index: -1;}#sk-container-id-2 div.sk-parallel-item {display: flex;flex-direction: column;z-index: 1;position: relative;background-color: white;}#sk-container-id-2 div.sk-parallel-item:first-child::after {align-self: flex-end;width: 50%;}#sk-container-id-2 div.sk-parallel-item:last-child::after {align-self: flex-start;width: 50%;}#sk-container-id-2 div.sk-parallel-item:only-child::after {width: 0;}#sk-container-id-2 div.sk-dashed-wrapped {border: 1px dashed gray;margin: 0 0.4em 0.5em 0.4em;box-sizing: border-box;padding-bottom: 0.4em;background-color: white;}#sk-container-id-2 div.sk-label label {font-family: monospace;font-weight: bold;display: inline-block;line-height: 1.2em;}#sk-container-id-2 div.sk-label-container {text-align: center;}#sk-container-id-2 div.sk-container {/* jupyter's `normalize.less` sets `[hidden] { display: none; }` but bootstrap.min.css set `[hidden] { display: none !important; }` so we also need the `!important` here to be able to override the default hidden behavior on the sphinx rendered scikit-learn.org. See: https://github.com/scikit-learn/scikit-learn/issues/21755 */display: inline-block !important;position: relative;}#sk-container-id-2 div.sk-text-repr-fallback {display: none;}</style><div id=\"sk-container-id-2\" class=\"sk-top-container\"><div class=\"sk-text-repr-fallback\"><pre>Pipeline(steps=[(&#x27;columntransformer&#x27;,\n",
       "                 ColumnTransformer(remainder=&#x27;passthrough&#x27;,\n",
       "                                   transformers=[(&#x27;onehotencoder&#x27;,\n",
       "                                                  OneHotEncoder(categories=[array([&#x27;Audi A3&#x27;, &#x27;Audi A6&#x27;, &#x27;Audi Q3&#x27;, &#x27;Audi Q5&#x27;, &#x27;Datsun Go&#x27;,\n",
       "       &#x27;Datsun Go Plus&#x27;, &#x27;Datsun Redi Go&#x27;, &#x27;Ford Ecosport&#x27;,\n",
       "       &#x27;Ford Endeavour&#x27;, &#x27;Ford FREESTYLE&#x27;, &#x27;Ford Figo&#x27;,\n",
       "       &#x27;Ford Figo Aspire&#x27;, &#x27;Ford New Figo&#x27;, &#x27;Honda Amaze&#x27;, &#x27;Honda BR-V&#x27;,\n",
       "       &#x27;Honda Brio&#x27;, &#x27;Hon...\n",
       "                                                                            array([&#x27;Audi&#x27;, &#x27;Datsun&#x27;, &#x27;Ford&#x27;, &#x27;Honda&#x27;, &#x27;Hyundai&#x27;, &#x27;Jaguar&#x27;, &#x27;Jeep&#x27;,\n",
       "       &#x27;KIA&#x27;, &#x27;MG&#x27;, &#x27;Mahindra&#x27;, &#x27;Maruti&#x27;, &#x27;Mercedes&#x27;, &#x27;Nissan&#x27;, &#x27;Renault&#x27;,\n",
       "       &#x27;Skoda&#x27;, &#x27;Tata&#x27;, &#x27;Toyota&#x27;, &#x27;Volkswagen&#x27;], dtype=object),\n",
       "                                                                            array([&#x27;Andhra Pradesh&#x27;, &#x27;Delhi&#x27;, &#x27;Hariyana&#x27;, &#x27;Karnataka&#x27;, &#x27;Maharashtra&#x27;,\n",
       "       &#x27;Telangana&#x27;, &#x27;Uttar Pradesh&#x27;], dtype=object)]),\n",
       "                                                  [&#x27;Name&#x27;, &#x27;Model&#x27;,\n",
       "                                                   &#x27;Transmission&#x27;, &#x27;Fuel_Type&#x27;,\n",
       "                                                   &#x27;Registration&#x27;, &#x27;Brand&#x27;,\n",
       "                                                   &#x27;State&#x27;])])),\n",
       "                (&#x27;linearregression&#x27;, LinearRegression())])</pre><b>In a Jupyter environment, please rerun this cell to show the HTML representation or trust the notebook. <br />On GitHub, the HTML representation is unable to render, please try loading this page with nbviewer.org.</b></div><div class=\"sk-container\" hidden><div class=\"sk-item sk-dashed-wrapped\"><div class=\"sk-label-container\"><div class=\"sk-label sk-toggleable\"><input class=\"sk-toggleable__control sk-hidden--visually\" id=\"sk-estimator-id-2\" type=\"checkbox\" ><label for=\"sk-estimator-id-2\" class=\"sk-toggleable__label sk-toggleable__label-arrow\">Pipeline</label><div class=\"sk-toggleable__content\"><pre>Pipeline(steps=[(&#x27;columntransformer&#x27;,\n",
       "                 ColumnTransformer(remainder=&#x27;passthrough&#x27;,\n",
       "                                   transformers=[(&#x27;onehotencoder&#x27;,\n",
       "                                                  OneHotEncoder(categories=[array([&#x27;Audi A3&#x27;, &#x27;Audi A6&#x27;, &#x27;Audi Q3&#x27;, &#x27;Audi Q5&#x27;, &#x27;Datsun Go&#x27;,\n",
       "       &#x27;Datsun Go Plus&#x27;, &#x27;Datsun Redi Go&#x27;, &#x27;Ford Ecosport&#x27;,\n",
       "       &#x27;Ford Endeavour&#x27;, &#x27;Ford FREESTYLE&#x27;, &#x27;Ford Figo&#x27;,\n",
       "       &#x27;Ford Figo Aspire&#x27;, &#x27;Ford New Figo&#x27;, &#x27;Honda Amaze&#x27;, &#x27;Honda BR-V&#x27;,\n",
       "       &#x27;Honda Brio&#x27;, &#x27;Hon...\n",
       "                                                                            array([&#x27;Audi&#x27;, &#x27;Datsun&#x27;, &#x27;Ford&#x27;, &#x27;Honda&#x27;, &#x27;Hyundai&#x27;, &#x27;Jaguar&#x27;, &#x27;Jeep&#x27;,\n",
       "       &#x27;KIA&#x27;, &#x27;MG&#x27;, &#x27;Mahindra&#x27;, &#x27;Maruti&#x27;, &#x27;Mercedes&#x27;, &#x27;Nissan&#x27;, &#x27;Renault&#x27;,\n",
       "       &#x27;Skoda&#x27;, &#x27;Tata&#x27;, &#x27;Toyota&#x27;, &#x27;Volkswagen&#x27;], dtype=object),\n",
       "                                                                            array([&#x27;Andhra Pradesh&#x27;, &#x27;Delhi&#x27;, &#x27;Hariyana&#x27;, &#x27;Karnataka&#x27;, &#x27;Maharashtra&#x27;,\n",
       "       &#x27;Telangana&#x27;, &#x27;Uttar Pradesh&#x27;], dtype=object)]),\n",
       "                                                  [&#x27;Name&#x27;, &#x27;Model&#x27;,\n",
       "                                                   &#x27;Transmission&#x27;, &#x27;Fuel_Type&#x27;,\n",
       "                                                   &#x27;Registration&#x27;, &#x27;Brand&#x27;,\n",
       "                                                   &#x27;State&#x27;])])),\n",
       "                (&#x27;linearregression&#x27;, LinearRegression())])</pre></div></div></div><div class=\"sk-serial\"><div class=\"sk-item sk-dashed-wrapped\"><div class=\"sk-label-container\"><div class=\"sk-label sk-toggleable\"><input class=\"sk-toggleable__control sk-hidden--visually\" id=\"sk-estimator-id-3\" type=\"checkbox\" ><label for=\"sk-estimator-id-3\" class=\"sk-toggleable__label sk-toggleable__label-arrow\">columntransformer: ColumnTransformer</label><div class=\"sk-toggleable__content\"><pre>ColumnTransformer(remainder=&#x27;passthrough&#x27;,\n",
       "                  transformers=[(&#x27;onehotencoder&#x27;,\n",
       "                                 OneHotEncoder(categories=[array([&#x27;Audi A3&#x27;, &#x27;Audi A6&#x27;, &#x27;Audi Q3&#x27;, &#x27;Audi Q5&#x27;, &#x27;Datsun Go&#x27;,\n",
       "       &#x27;Datsun Go Plus&#x27;, &#x27;Datsun Redi Go&#x27;, &#x27;Ford Ecosport&#x27;,\n",
       "       &#x27;Ford Endeavour&#x27;, &#x27;Ford FREESTYLE&#x27;, &#x27;Ford Figo&#x27;,\n",
       "       &#x27;Ford Figo Aspire&#x27;, &#x27;Ford New Figo&#x27;, &#x27;Honda Amaze&#x27;, &#x27;Honda BR-V&#x27;,\n",
       "       &#x27;Honda Brio&#x27;, &#x27;Honda CRV&#x27;, &#x27;Honda City&#x27;, &#x27;Honda Civic&#x27;,\n",
       "       &#x27;Hond...\n",
       "                                                           array([&#x27;Audi&#x27;, &#x27;Datsun&#x27;, &#x27;Ford&#x27;, &#x27;Honda&#x27;, &#x27;Hyundai&#x27;, &#x27;Jaguar&#x27;, &#x27;Jeep&#x27;,\n",
       "       &#x27;KIA&#x27;, &#x27;MG&#x27;, &#x27;Mahindra&#x27;, &#x27;Maruti&#x27;, &#x27;Mercedes&#x27;, &#x27;Nissan&#x27;, &#x27;Renault&#x27;,\n",
       "       &#x27;Skoda&#x27;, &#x27;Tata&#x27;, &#x27;Toyota&#x27;, &#x27;Volkswagen&#x27;], dtype=object),\n",
       "                                                           array([&#x27;Andhra Pradesh&#x27;, &#x27;Delhi&#x27;, &#x27;Hariyana&#x27;, &#x27;Karnataka&#x27;, &#x27;Maharashtra&#x27;,\n",
       "       &#x27;Telangana&#x27;, &#x27;Uttar Pradesh&#x27;], dtype=object)]),\n",
       "                                 [&#x27;Name&#x27;, &#x27;Model&#x27;, &#x27;Transmission&#x27;, &#x27;Fuel_Type&#x27;,\n",
       "                                  &#x27;Registration&#x27;, &#x27;Brand&#x27;, &#x27;State&#x27;])])</pre></div></div></div><div class=\"sk-parallel\"><div class=\"sk-parallel-item\"><div class=\"sk-item\"><div class=\"sk-label-container\"><div class=\"sk-label sk-toggleable\"><input class=\"sk-toggleable__control sk-hidden--visually\" id=\"sk-estimator-id-4\" type=\"checkbox\" ><label for=\"sk-estimator-id-4\" class=\"sk-toggleable__label sk-toggleable__label-arrow\">onehotencoder</label><div class=\"sk-toggleable__content\"><pre>[&#x27;Name&#x27;, &#x27;Model&#x27;, &#x27;Transmission&#x27;, &#x27;Fuel_Type&#x27;, &#x27;Registration&#x27;, &#x27;Brand&#x27;, &#x27;State&#x27;]</pre></div></div></div><div class=\"sk-serial\"><div class=\"sk-item\"><div class=\"sk-estimator sk-toggleable\"><input class=\"sk-toggleable__control sk-hidden--visually\" id=\"sk-estimator-id-5\" type=\"checkbox\" ><label for=\"sk-estimator-id-5\" class=\"sk-toggleable__label sk-toggleable__label-arrow\">OneHotEncoder</label><div class=\"sk-toggleable__content\"><pre>OneHotEncoder(categories=[array([&#x27;Audi A3&#x27;, &#x27;Audi A6&#x27;, &#x27;Audi Q3&#x27;, &#x27;Audi Q5&#x27;, &#x27;Datsun Go&#x27;,\n",
       "       &#x27;Datsun Go Plus&#x27;, &#x27;Datsun Redi Go&#x27;, &#x27;Ford Ecosport&#x27;,\n",
       "       &#x27;Ford Endeavour&#x27;, &#x27;Ford FREESTYLE&#x27;, &#x27;Ford Figo&#x27;,\n",
       "       &#x27;Ford Figo Aspire&#x27;, &#x27;Ford New Figo&#x27;, &#x27;Honda Amaze&#x27;, &#x27;Honda BR-V&#x27;,\n",
       "       &#x27;Honda Brio&#x27;, &#x27;Honda CRV&#x27;, &#x27;Honda City&#x27;, &#x27;Honda Civic&#x27;,\n",
       "       &#x27;Honda Jazz&#x27;, &#x27;Honda WR-V&#x27;, &#x27;Hyundai AURA&#x27;, &#x27;Hyundai Accent&#x27;,\n",
       "       &#x27;Hyundai Creta&#x27;, &#x27;Hyundai E...\n",
       "       &#x27;UP-63&#x27;, &#x27;UP-65&#x27;, &#x27;UP-70&#x27;, &#x27;UP-72&#x27;, &#x27;UP-74&#x27;, &#x27;UP-78&#x27;, &#x27;UP-80&#x27;,\n",
       "       &#x27;UP-85&#x27;], dtype=object),\n",
       "                          array([&#x27;Audi&#x27;, &#x27;Datsun&#x27;, &#x27;Ford&#x27;, &#x27;Honda&#x27;, &#x27;Hyundai&#x27;, &#x27;Jaguar&#x27;, &#x27;Jeep&#x27;,\n",
       "       &#x27;KIA&#x27;, &#x27;MG&#x27;, &#x27;Mahindra&#x27;, &#x27;Maruti&#x27;, &#x27;Mercedes&#x27;, &#x27;Nissan&#x27;, &#x27;Renault&#x27;,\n",
       "       &#x27;Skoda&#x27;, &#x27;Tata&#x27;, &#x27;Toyota&#x27;, &#x27;Volkswagen&#x27;], dtype=object),\n",
       "                          array([&#x27;Andhra Pradesh&#x27;, &#x27;Delhi&#x27;, &#x27;Hariyana&#x27;, &#x27;Karnataka&#x27;, &#x27;Maharashtra&#x27;,\n",
       "       &#x27;Telangana&#x27;, &#x27;Uttar Pradesh&#x27;], dtype=object)])</pre></div></div></div></div></div></div><div class=\"sk-parallel-item\"><div class=\"sk-item\"><div class=\"sk-label-container\"><div class=\"sk-label sk-toggleable\"><input class=\"sk-toggleable__control sk-hidden--visually\" id=\"sk-estimator-id-6\" type=\"checkbox\" ><label for=\"sk-estimator-id-6\" class=\"sk-toggleable__label sk-toggleable__label-arrow\">remainder</label><div class=\"sk-toggleable__content\"><pre>[&#x27;Kms&#x27;, &#x27;Owner&#x27;, &#x27;EMI&#x27;, &#x27;Year&#x27;, &#x27;Age&#x27;]</pre></div></div></div><div class=\"sk-serial\"><div class=\"sk-item\"><div class=\"sk-estimator sk-toggleable\"><input class=\"sk-toggleable__control sk-hidden--visually\" id=\"sk-estimator-id-7\" type=\"checkbox\" ><label for=\"sk-estimator-id-7\" class=\"sk-toggleable__label sk-toggleable__label-arrow\">passthrough</label><div class=\"sk-toggleable__content\"><pre>passthrough</pre></div></div></div></div></div></div></div></div><div class=\"sk-item\"><div class=\"sk-estimator sk-toggleable\"><input class=\"sk-toggleable__control sk-hidden--visually\" id=\"sk-estimator-id-8\" type=\"checkbox\" ><label for=\"sk-estimator-id-8\" class=\"sk-toggleable__label sk-toggleable__label-arrow\">LinearRegression</label><div class=\"sk-toggleable__content\"><pre>LinearRegression()</pre></div></div></div></div></div></div></div>"
      ],
      "text/plain": [
       "Pipeline(steps=[('columntransformer',\n",
       "                 ColumnTransformer(remainder='passthrough',\n",
       "                                   transformers=[('onehotencoder',\n",
       "                                                  OneHotEncoder(categories=[array(['Audi A3', 'Audi A6', 'Audi Q3', 'Audi Q5', 'Datsun Go',\n",
       "       'Datsun Go Plus', 'Datsun Redi Go', 'Ford Ecosport',\n",
       "       'Ford Endeavour', 'Ford FREESTYLE', 'Ford Figo',\n",
       "       'Ford Figo Aspire', 'Ford New Figo', 'Honda Amaze', 'Honda BR-V',\n",
       "       'Honda Brio', 'Hon...\n",
       "                                                                            array(['Audi', 'Datsun', 'Ford', 'Honda', 'Hyundai', 'Jaguar', 'Jeep',\n",
       "       'KIA', 'MG', 'Mahindra', 'Maruti', 'Mercedes', 'Nissan', 'Renault',\n",
       "       'Skoda', 'Tata', 'Toyota', 'Volkswagen'], dtype=object),\n",
       "                                                                            array(['Andhra Pradesh', 'Delhi', 'Hariyana', 'Karnataka', 'Maharashtra',\n",
       "       'Telangana', 'Uttar Pradesh'], dtype=object)]),\n",
       "                                                  ['Name', 'Model',\n",
       "                                                   'Transmission', 'Fuel_Type',\n",
       "                                                   'Registration', 'Brand',\n",
       "                                                   'State'])])),\n",
       "                ('linearregression', LinearRegression())])"
      ]
     },
     "execution_count": 92,
     "metadata": {},
     "output_type": "execute_result"
    }
   ],
   "source": [
    "model_LR.fit(X_train,y_train)"
   ]
  },
  {
   "cell_type": "code",
   "execution_count": 93,
   "id": "e5aeed13",
   "metadata": {},
   "outputs": [],
   "source": [
    "y_pred_LR=model_LR.predict(X_test)"
   ]
  },
  {
   "cell_type": "code",
   "execution_count": 94,
   "id": "c5b9ab93",
   "metadata": {},
   "outputs": [
    {
     "data": {
      "text/plain": [
       "array([ 390247.6702113 , 1198114.89324324,  958700.06636634,\n",
       "        808731.01395044,  499281.48978981,  357992.45105007,\n",
       "       1044240.22682062,  568657.89887975,  656405.4327337 ,\n",
       "        311682.61716563,  408010.99321734,  691030.094654  ,\n",
       "        614986.59453871,  626858.5268696 ,  470987.25352125,\n",
       "        441056.17568286,  579281.36137042,  485111.2001848 ,\n",
       "        570572.3813097 ,  897798.62582864, 1461978.9905588 ,\n",
       "        566580.6699022 ,  337862.52837931,  642760.03575264,\n",
       "        983014.62699718,  710487.62336166,  710761.81696333,\n",
       "        428578.88427905,  295209.28511777,  375970.9083176 ,\n",
       "        439963.1016781 ,  656327.28206873,  729423.04391209,\n",
       "        313178.10148652,  257478.15308984,  371543.43620992,\n",
       "        716616.43182581,  456060.91892723,  515615.60318729,\n",
       "        315822.79091988,  375507.38652326,  704661.91121824,\n",
       "       1033173.53362624,  306380.69592344,  695863.85140489,\n",
       "        514992.16579718,  452311.34935363,  640286.93286395,\n",
       "       1238894.73283955,  725861.62323439,  791566.55787254,\n",
       "        247721.91791251,  546218.59441961,  509029.322039  ,\n",
       "        512699.88733957,  635636.60517056, 1512040.8004987 ,\n",
       "        774100.73649392,  518257.42450516, 1147534.36160324,\n",
       "        477572.04304764,  707759.3410041 ,  431172.36715709,\n",
       "       1170191.80785533,  358567.98014078,  286159.11899742,\n",
       "        945163.97214606,  963880.01104872,  466060.83835905,\n",
       "        898178.64387405, 1411498.71507698,  550070.10984326,\n",
       "        411657.86127785,  704969.67439014,  400556.67477274,\n",
       "        396828.95536962,  482665.94962692,  393429.86706089,\n",
       "        828662.48528059, 1320574.2130732 ,  694384.45713045,\n",
       "        942024.87320722,  484862.09317878,  692583.97934037,\n",
       "        539351.51237914,  582247.72320497,  576300.12398642,\n",
       "        422304.75657692,  592469.04438815,  333908.95173739,\n",
       "        588008.5128144 ,  403416.33350003,  366967.93838269,\n",
       "        245082.9672242 ,  814257.90865141,  442301.96021264,\n",
       "        571898.32793792, 1129178.04146309,  604605.94513812,\n",
       "        315832.69198905,  303821.75492691,  663987.27752873,\n",
       "        277845.62655141,  506376.63671594,  827286.5266046 ,\n",
       "        522091.24198233,  262221.61948399,  412040.33606489,\n",
       "        522004.4716258 ,  623111.02097793,  393178.10414371,\n",
       "       1839520.93923356,  371659.71936994,  563211.22700531,\n",
       "       1026654.30082359, 1094101.26759654,  709845.64031339,\n",
       "        499823.44133853,  585979.88218371,  451199.23068543,\n",
       "        392717.31466668,  683731.78341955,  554809.23939049,\n",
       "        318810.2291164 ,  373694.34938809,  574877.24616633,\n",
       "        544903.33777259, 1349222.55301201,  649676.13887301,\n",
       "        669626.11044349,  605156.04011765,  659556.54855875,\n",
       "        651176.82364157,  317216.45804993,  328578.13387416,\n",
       "        891228.56794241,  399801.91266121, 1140749.63760829,\n",
       "        383940.67853147,  579209.48874794,  519403.24758173,\n",
       "        510166.95742568,  649277.86754168,  320087.1168256 ,\n",
       "        328053.97477355,  712106.98907688,  457808.04227716,\n",
       "        433157.00044973,  592458.74979677,  660510.79637197,\n",
       "        881524.59713967, 1257679.31233567,  604308.00673935,\n",
       "        550673.06110471,  545975.84716413,  826062.10088128,\n",
       "       1423342.53266928,  322285.75993202,  523864.60683856,\n",
       "        670001.02215778,  695961.79134749,  314067.5065771 ,\n",
       "        623008.89821846,  958140.76739292,  530246.10784782,\n",
       "        783152.05111284,  278858.02274012,  245842.61504929,\n",
       "        324028.09510754,  720408.59083371,  264133.91706933,\n",
       "        676431.48354236, 1242515.08311341,  813513.56815933,\n",
       "        538422.08602901, 1338776.95575497,  535620.6391934 ,\n",
       "        481667.03527675,  302663.90454037,  281156.91900535,\n",
       "        365147.2985124 ,  525503.86271586, 1231918.70294887,\n",
       "        445203.26335898,  810747.71196991, 1041392.52570558,\n",
       "        489342.16948264,  440433.60157049,  723770.44718934,\n",
       "        520187.16384831,  859665.00240687,  418657.67868076,\n",
       "        220408.4743453 ,  866860.97661965,  380317.71206321,\n",
       "        723119.99207609,  347153.30004189,  843903.56572081,\n",
       "        488736.68533734,  797895.80256717,  386983.54226171,\n",
       "        344620.05753933,  870643.52975538, 1158993.57137938,\n",
       "        498297.48936801,  292792.09772678,  455940.49716882,\n",
       "        409163.22904225,  604032.40940452,  222216.96006505,\n",
       "        694268.23771831,  479422.89826077,  682993.79306689,\n",
       "        529302.86501327,  407970.26628765, 1196148.05908473,\n",
       "       1090819.13633617,  333404.03476557,  630963.62003404,\n",
       "        696645.82444081,  370896.54865814,  605496.04809604,\n",
       "        331167.81375931,  631301.44692287,  601462.20852053,\n",
       "        693929.11888205,  459056.11994895,  846282.43018619,\n",
       "        489112.83913796,  278449.53282604,  834534.44781135,\n",
       "        532896.5107061 ,  917271.33851715,  757859.20705697,\n",
       "        309721.21697887,  606972.86441931, 1087826.75110714,\n",
       "        523454.07828343,  512494.19205889,  749104.63762904,\n",
       "        791821.8377448 ,  513369.87895902,  365155.21607859,\n",
       "        866953.64074391,  273016.74097685,  753505.7709231 ,\n",
       "        346102.28478471,  539768.74920315, 1254238.6411674 ,\n",
       "       1115328.74524535,  457695.93031227,  921310.04579372,\n",
       "        561735.56042273,  653287.52682063,  337581.98339701,\n",
       "        429544.24127285,  731678.16392201,  681276.21466782,\n",
       "        466727.30583345,  452255.61923834, 1729249.41022881,\n",
       "        348838.19118113,  456948.09682922,  557179.05475082,\n",
       "        607144.04434529,  370376.88329621, 1090957.25820328,\n",
       "        486737.82868934,  662857.84640596,  381256.91271086,\n",
       "        404874.30188425,  920975.30460037,  353454.74519337,\n",
       "        485909.09508086,  501012.30114898,  692780.25115217,\n",
       "        635675.54439915,  799463.94471093, 1408147.82631753,\n",
       "        385773.13284278, 1479036.39675442,  903479.6357575 ,\n",
       "        434875.87063935,  308881.90263799,  417202.48060392,\n",
       "        873467.18237312,  633507.48796739,  431109.27486712,\n",
       "       1435756.56705628,  448938.47176506,  787544.86321226,\n",
       "        875328.66179675,  497292.32293927,  678674.26984673,\n",
       "        578202.14248176, 3272317.36704005,  464150.69881879,\n",
       "        599182.10619925,  741304.88433565,  541696.66618906,\n",
       "        410880.79363227, 1434417.49615028,  628070.85087577,\n",
       "        458736.50702938,  322058.75793528,  348450.13163482,\n",
       "        702558.64605717,  606059.92256272, 1118445.77282095,\n",
       "       1172583.67985718,  419949.44572909,  577028.58835997,\n",
       "        862198.19187822, 1702966.34999877,  556822.83226586,\n",
       "        402389.96982788,  524569.4563693 ,  507210.9486232 ,\n",
       "        336608.41146847,  534110.68952078, 1366329.08355889,\n",
       "        401318.04266326,  521240.2359133 ,  691387.97646386,\n",
       "        591395.32061827,  825188.66206172,  994357.50334932,\n",
       "        324752.02318421,  694216.45088749,  677813.59355974,\n",
       "        478700.81009359,  811355.25175136,  592796.29116511,\n",
       "       1024537.72716004,  386075.46914187,  459258.79140817,\n",
       "        345201.47185625, 1746047.47483825,  602569.23398577,\n",
       "        472332.41778926,  652734.90736494,  642652.69042845,\n",
       "        649532.78701499,  779979.67035593,  497099.37189647,\n",
       "        545390.46890787,  352986.1255565 ,  812557.29118658,\n",
       "        833584.48621415,  663502.44359103,  453729.545463  ,\n",
       "        869209.61646103,  639410.55527012,  570511.9284684 ,\n",
       "        593106.19710741,  507484.13835135,  857078.55711079,\n",
       "        292220.53549304,  245132.87227432,  465711.19730589,\n",
       "        834037.49405625,  877793.1630847 ,  553464.59706851,\n",
       "       1868659.5709059 ,  412957.97581161,  330855.23621784,\n",
       "        249926.51576018, 1152097.48779638,  535830.28040555,\n",
       "        628728.66663292,  416335.87722167,  360755.63302634,\n",
       "        415591.05024434,  292625.20743102,  676170.52406391,\n",
       "        688479.10921182,  418582.12336754,  375816.60173202,\n",
       "        321126.63176758,  222015.62076759,  512676.56520933,\n",
       "        479453.07073305, 1009384.35496334,  470894.831339  ,\n",
       "        705419.97282606,  831986.39050626,  982216.26498548,\n",
       "       1002267.28497667,  687629.44796135, 1197748.11723817,\n",
       "        926525.28264504,  519928.55795174,  810840.59946377,\n",
       "        921598.38949667, 1693533.06851105,  373877.80995542,\n",
       "        452148.50268552,  488973.18879622,  707120.99287375,\n",
       "        554461.99795534,  743852.06438692,  461304.13421222,\n",
       "        348098.11010046,  647481.69635802,  913403.33178161,\n",
       "        376029.00075664,  515875.5489071 , 1718804.99324827,\n",
       "        280012.60950298,  491653.8750848 ,  829114.6924028 ,\n",
       "        852266.60988442,  843375.19970229,  682768.01445924,\n",
       "        487085.6045328 ,  463327.31354983,  622780.12873388,\n",
       "        741543.0246729 ,  383283.53408258,  904230.92590214,\n",
       "        896810.90779814,  735859.59772961,  514634.52000047,\n",
       "        631720.85225141,  585654.11798603,  427263.36080247,\n",
       "        783756.44414453,  379107.18460257,  685474.73422114,\n",
       "        329663.02986801,  295053.14567992,  413107.35579081,\n",
       "        759235.87437441,  589965.7215881 ,  510522.372826  ,\n",
       "        566811.80120395,  327727.23975695,  406955.12585421,\n",
       "        599619.00943985,  760065.06660882,  208949.75227155,\n",
       "        545410.89511823,  385363.85656403,  712463.36969921,\n",
       "        365040.78367708,  308076.81656323,  645495.78621721,\n",
       "        367214.86178241,  452913.76344071,  516496.00084569,\n",
       "        584890.38472937, 1665076.58842619,  375912.57585651,\n",
       "        938993.41381558,  475732.58702135,  496810.61493642,\n",
       "        591845.03543825,  316464.24838018,  450074.36051402,\n",
       "       1437589.82183463,  351937.41040519,  165460.41261514,\n",
       "        566352.36485559,  929264.12037516,  503022.71996633,\n",
       "        358432.10549397,  959288.58558827,  371863.15958918,\n",
       "        464994.1577395 ,  672835.82717213,  283335.09403969,\n",
       "        477193.26892007, 1195055.11211306, 1723879.59043468,\n",
       "        587854.07161401,  816569.09195899,  750985.08306873,\n",
       "        901174.55844767,  693632.57651684,  546621.29632201,\n",
       "       1249677.30698891,  363641.32525454,  477989.51752343,\n",
       "        961902.89980805,  603134.7031229 ,  404283.66652065,\n",
       "        476539.65635663,  786260.88667168,  627488.20167845,\n",
       "        352081.61790311, 1102970.55473162,  626985.8028222 ,\n",
       "       1213957.4287394 ,  559997.0237447 ,  471771.0446324 ,\n",
       "       1215998.88384427,  496020.18938191,  693879.84971605,\n",
       "        650777.8744163 ,  676189.72413009,  321641.50910305,\n",
       "        539203.50217218,  665258.70077112,  800337.49800167,\n",
       "        654596.11467584,  713784.18091168,  451776.8050077 ,\n",
       "        522020.25910131,  411194.03006241,  449583.63769333,\n",
       "        295369.66042059,  979657.19148202,  901556.85982083,\n",
       "        449208.76104008,  216769.66829599,  447377.70401146,\n",
       "        609154.33759742,  517685.73113393,  289656.24991255,\n",
       "        787072.12461218,  842368.8467054 ,  660995.28025173,\n",
       "        516407.80261285,  893840.57540014,  640179.80740742,\n",
       "        301825.26959581,  606694.68732918,  701461.18539718,\n",
       "        597779.06876353,  419818.55973214,  333299.08436181,\n",
       "       1269496.39550738,  830993.20387934,  335921.30921654,\n",
       "        606232.49113108,  420568.55079521,  495424.42955619,\n",
       "        509727.99382574,  705083.04430967,  277192.06138835,\n",
       "        449010.07752913,  501219.07248147, 1796956.51685316,\n",
       "        459457.79965254,  525168.832143  ,  548665.66666781,\n",
       "        748433.02433391,  529018.98964946,  280575.70318107,\n",
       "        542662.84490799,  915297.62242221,  496612.71398222,\n",
       "        405122.60934059,  419383.09646189,  331063.56904561,\n",
       "        328010.92584691,  601919.30805332,  483237.26258896,\n",
       "       1447583.02187307,  320220.20295048,  337254.90870183,\n",
       "        690457.60369763,  482452.26946039,  660735.94203334,\n",
       "        680966.9544357 ,  344622.19333943,  531984.00279984,\n",
       "        928480.49768777,  681188.89357621,  540468.26689391,\n",
       "       1179176.71700109,  594970.81174538,  474349.96744611,\n",
       "        491199.95549424,  290069.95024613, 1163448.92415149,\n",
       "        519936.16609832])"
      ]
     },
     "execution_count": 94,
     "metadata": {},
     "output_type": "execute_result"
    }
   ],
   "source": [
    "y_pred_LR"
   ]
  },
  {
   "cell_type": "code",
   "execution_count": 95,
   "id": "d468a010",
   "metadata": {},
   "outputs": [],
   "source": [
    "from sklearn.metrics import r2_score"
   ]
  },
  {
   "cell_type": "code",
   "execution_count": 96,
   "id": "61f26036",
   "metadata": {},
   "outputs": [],
   "source": [
    "LR_score=r2_score(y_test,y_pred_LR)*100"
   ]
  },
  {
   "cell_type": "code",
   "execution_count": 97,
   "id": "bc9b0957",
   "metadata": {},
   "outputs": [
    {
     "data": {
      "text/plain": [
       "99.95453240922735"
      ]
     },
     "execution_count": 97,
     "metadata": {},
     "output_type": "execute_result"
    }
   ],
   "source": [
    "LR_score"
   ]
  },
  {
   "cell_type": "code",
   "execution_count": 98,
   "id": "b94f4f48",
   "metadata": {},
   "outputs": [],
   "source": [
    "import pickle"
   ]
  },
  {
   "cell_type": "code",
   "execution_count": 99,
   "id": "8414ea18",
   "metadata": {},
   "outputs": [],
   "source": [
    "pickle.dump(model_LR,open('model_LRc.pkl','wb'))"
   ]
  },
  {
   "cell_type": "code",
   "execution_count": 100,
   "id": "3903d7a1",
   "metadata": {},
   "outputs": [
    {
     "data": {
      "text/html": [
       "<div>\n",
       "<style scoped>\n",
       "    .dataframe tbody tr th:only-of-type {\n",
       "        vertical-align: middle;\n",
       "    }\n",
       "\n",
       "    .dataframe tbody tr th {\n",
       "        vertical-align: top;\n",
       "    }\n",
       "\n",
       "    .dataframe thead th {\n",
       "        text-align: right;\n",
       "    }\n",
       "</style>\n",
       "<table border=\"1\" class=\"dataframe\">\n",
       "  <thead>\n",
       "    <tr style=\"text-align: right;\">\n",
       "      <th></th>\n",
       "      <th>Name</th>\n",
       "      <th>Model</th>\n",
       "      <th>Transmission</th>\n",
       "      <th>Kms</th>\n",
       "      <th>Owner</th>\n",
       "      <th>Fuel_Type</th>\n",
       "      <th>Registration</th>\n",
       "      <th>EMI</th>\n",
       "      <th>Price</th>\n",
       "      <th>Down_Payment</th>\n",
       "      <th>Year</th>\n",
       "      <th>Brand</th>\n",
       "      <th>State</th>\n",
       "      <th>Age</th>\n",
       "    </tr>\n",
       "  </thead>\n",
       "  <tbody>\n",
       "    <tr>\n",
       "      <th>0</th>\n",
       "      <td>Hyundai i20</td>\n",
       "      <td>MAGNA O 1.2</td>\n",
       "      <td>Manual</td>\n",
       "      <td>34913</td>\n",
       "      <td>2</td>\n",
       "      <td>Petrol</td>\n",
       "      <td>MH-02</td>\n",
       "      <td>4489</td>\n",
       "      <td>229599</td>\n",
       "      <td>0</td>\n",
       "      <td>2010</td>\n",
       "      <td>Hyundai</td>\n",
       "      <td>Maharashtra</td>\n",
       "      <td>12</td>\n",
       "    </tr>\n",
       "    <tr>\n",
       "      <th>1</th>\n",
       "      <td>Maruti Ritz</td>\n",
       "      <td>VXI</td>\n",
       "      <td>Manual</td>\n",
       "      <td>77919</td>\n",
       "      <td>2</td>\n",
       "      <td>Petrol</td>\n",
       "      <td>MH-02</td>\n",
       "      <td>4616</td>\n",
       "      <td>236099</td>\n",
       "      <td>0</td>\n",
       "      <td>2012</td>\n",
       "      <td>Maruti</td>\n",
       "      <td>Maharashtra</td>\n",
       "      <td>10</td>\n",
       "    </tr>\n",
       "    <tr>\n",
       "      <th>3</th>\n",
       "      <td>Maruti Swift</td>\n",
       "      <td>VXI</td>\n",
       "      <td>Manual</td>\n",
       "      <td>25228</td>\n",
       "      <td>1</td>\n",
       "      <td>Petrol</td>\n",
       "      <td>MH-05</td>\n",
       "      <td>12469</td>\n",
       "      <td>637799</td>\n",
       "      <td>0</td>\n",
       "      <td>2020</td>\n",
       "      <td>Maruti</td>\n",
       "      <td>Maharashtra</td>\n",
       "      <td>2</td>\n",
       "    </tr>\n",
       "    <tr>\n",
       "      <th>4</th>\n",
       "      <td>Maruti Swift</td>\n",
       "      <td>VXI</td>\n",
       "      <td>Manual</td>\n",
       "      <td>35757</td>\n",
       "      <td>3</td>\n",
       "      <td>Petrol</td>\n",
       "      <td>MH-03</td>\n",
       "      <td>6246</td>\n",
       "      <td>319499</td>\n",
       "      <td>0</td>\n",
       "      <td>2012</td>\n",
       "      <td>Maruti</td>\n",
       "      <td>Maharashtra</td>\n",
       "      <td>10</td>\n",
       "    </tr>\n",
       "    <tr>\n",
       "      <th>5</th>\n",
       "      <td>Maruti Swift</td>\n",
       "      <td>VXI</td>\n",
       "      <td>Manual</td>\n",
       "      <td>37591</td>\n",
       "      <td>1</td>\n",
       "      <td>Petrol</td>\n",
       "      <td>MH-02</td>\n",
       "      <td>8067</td>\n",
       "      <td>412649</td>\n",
       "      <td>0</td>\n",
       "      <td>2013</td>\n",
       "      <td>Maruti</td>\n",
       "      <td>Maharashtra</td>\n",
       "      <td>9</td>\n",
       "    </tr>\n",
       "  </tbody>\n",
       "</table>\n",
       "</div>"
      ],
      "text/plain": [
       "           Name        Model Transmission     Kms Owner Fuel_Type  \\\n",
       "0   Hyundai i20  MAGNA O 1.2       Manual  34913      2    Petrol   \n",
       "1   Maruti Ritz          VXI       Manual  77919      2    Petrol   \n",
       "3  Maruti Swift          VXI       Manual  25228      1    Petrol   \n",
       "4  Maruti Swift          VXI       Manual  35757      3    Petrol   \n",
       "5  Maruti Swift          VXI       Manual  37591      1    Petrol   \n",
       "\n",
       "  Registration    EMI   Price Down_Payment  Year    Brand        State  Age  \n",
       "0        MH-02   4489  229599            0  2010  Hyundai  Maharashtra   12  \n",
       "1        MH-02   4616  236099            0  2012   Maruti  Maharashtra   10  \n",
       "3        MH-05  12469  637799            0  2020   Maruti  Maharashtra    2  \n",
       "4        MH-03   6246  319499            0  2012   Maruti  Maharashtra   10  \n",
       "5        MH-02   8067  412649            0  2013   Maruti  Maharashtra    9  "
      ]
     },
     "execution_count": 100,
     "metadata": {},
     "output_type": "execute_result"
    }
   ],
   "source": [
    "cars24.head(5)"
   ]
  },
  {
   "cell_type": "code",
   "execution_count": 101,
   "id": "af454305",
   "metadata": {},
   "outputs": [
    {
     "data": {
      "text/plain": [
       "array([618701.2275016])"
      ]
     },
     "execution_count": 101,
     "metadata": {},
     "output_type": "execute_result"
    }
   ],
   "source": [
    "model_LR.predict(pd.DataFrame([['Maruti Swift','VXI','Manual',99913,2,'Petrol','MH-05',12000,2014,'Maruti','Maharashtra',1]],columns=['Name','Model','Transmission','Kms','Owner','Fuel_Type','Registration','EMI','Year','Brand','State','Age']))"
   ]
  },
  {
   "cell_type": "markdown",
   "id": "563ee710",
   "metadata": {},
   "source": [
    "### 2. Random Forest Regressor Model"
   ]
  },
  {
   "cell_type": "code",
   "execution_count": 102,
   "id": "7165fc35",
   "metadata": {},
   "outputs": [],
   "source": [
    "from sklearn.ensemble import RandomForestRegressor"
   ]
  },
  {
   "cell_type": "code",
   "execution_count": 103,
   "id": "22cb3f03",
   "metadata": {},
   "outputs": [],
   "source": [
    "RF = RandomForestRegressor()"
   ]
  },
  {
   "cell_type": "code",
   "execution_count": 104,
   "id": "6bade5da",
   "metadata": {},
   "outputs": [],
   "source": [
    "model_RF=make_pipeline(column_transform,RF)"
   ]
  },
  {
   "cell_type": "code",
   "execution_count": 105,
   "id": "f1016714",
   "metadata": {},
   "outputs": [
    {
     "data": {
      "text/html": [
       "<style>#sk-container-id-3 {color: black;background-color: white;}#sk-container-id-3 pre{padding: 0;}#sk-container-id-3 div.sk-toggleable {background-color: white;}#sk-container-id-3 label.sk-toggleable__label {cursor: pointer;display: block;width: 100%;margin-bottom: 0;padding: 0.3em;box-sizing: border-box;text-align: center;}#sk-container-id-3 label.sk-toggleable__label-arrow:before {content: \"▸\";float: left;margin-right: 0.25em;color: #696969;}#sk-container-id-3 label.sk-toggleable__label-arrow:hover:before {color: black;}#sk-container-id-3 div.sk-estimator:hover label.sk-toggleable__label-arrow:before {color: black;}#sk-container-id-3 div.sk-toggleable__content {max-height: 0;max-width: 0;overflow: hidden;text-align: left;background-color: #f0f8ff;}#sk-container-id-3 div.sk-toggleable__content pre {margin: 0.2em;color: black;border-radius: 0.25em;background-color: #f0f8ff;}#sk-container-id-3 input.sk-toggleable__control:checked~div.sk-toggleable__content {max-height: 200px;max-width: 100%;overflow: auto;}#sk-container-id-3 input.sk-toggleable__control:checked~label.sk-toggleable__label-arrow:before {content: \"▾\";}#sk-container-id-3 div.sk-estimator input.sk-toggleable__control:checked~label.sk-toggleable__label {background-color: #d4ebff;}#sk-container-id-3 div.sk-label input.sk-toggleable__control:checked~label.sk-toggleable__label {background-color: #d4ebff;}#sk-container-id-3 input.sk-hidden--visually {border: 0;clip: rect(1px 1px 1px 1px);clip: rect(1px, 1px, 1px, 1px);height: 1px;margin: -1px;overflow: hidden;padding: 0;position: absolute;width: 1px;}#sk-container-id-3 div.sk-estimator {font-family: monospace;background-color: #f0f8ff;border: 1px dotted black;border-radius: 0.25em;box-sizing: border-box;margin-bottom: 0.5em;}#sk-container-id-3 div.sk-estimator:hover {background-color: #d4ebff;}#sk-container-id-3 div.sk-parallel-item::after {content: \"\";width: 100%;border-bottom: 1px solid gray;flex-grow: 1;}#sk-container-id-3 div.sk-label:hover label.sk-toggleable__label {background-color: #d4ebff;}#sk-container-id-3 div.sk-serial::before {content: \"\";position: absolute;border-left: 1px solid gray;box-sizing: border-box;top: 0;bottom: 0;left: 50%;z-index: 0;}#sk-container-id-3 div.sk-serial {display: flex;flex-direction: column;align-items: center;background-color: white;padding-right: 0.2em;padding-left: 0.2em;position: relative;}#sk-container-id-3 div.sk-item {position: relative;z-index: 1;}#sk-container-id-3 div.sk-parallel {display: flex;align-items: stretch;justify-content: center;background-color: white;position: relative;}#sk-container-id-3 div.sk-item::before, #sk-container-id-3 div.sk-parallel-item::before {content: \"\";position: absolute;border-left: 1px solid gray;box-sizing: border-box;top: 0;bottom: 0;left: 50%;z-index: -1;}#sk-container-id-3 div.sk-parallel-item {display: flex;flex-direction: column;z-index: 1;position: relative;background-color: white;}#sk-container-id-3 div.sk-parallel-item:first-child::after {align-self: flex-end;width: 50%;}#sk-container-id-3 div.sk-parallel-item:last-child::after {align-self: flex-start;width: 50%;}#sk-container-id-3 div.sk-parallel-item:only-child::after {width: 0;}#sk-container-id-3 div.sk-dashed-wrapped {border: 1px dashed gray;margin: 0 0.4em 0.5em 0.4em;box-sizing: border-box;padding-bottom: 0.4em;background-color: white;}#sk-container-id-3 div.sk-label label {font-family: monospace;font-weight: bold;display: inline-block;line-height: 1.2em;}#sk-container-id-3 div.sk-label-container {text-align: center;}#sk-container-id-3 div.sk-container {/* jupyter's `normalize.less` sets `[hidden] { display: none; }` but bootstrap.min.css set `[hidden] { display: none !important; }` so we also need the `!important` here to be able to override the default hidden behavior on the sphinx rendered scikit-learn.org. See: https://github.com/scikit-learn/scikit-learn/issues/21755 */display: inline-block !important;position: relative;}#sk-container-id-3 div.sk-text-repr-fallback {display: none;}</style><div id=\"sk-container-id-3\" class=\"sk-top-container\"><div class=\"sk-text-repr-fallback\"><pre>Pipeline(steps=[(&#x27;columntransformer&#x27;,\n",
       "                 ColumnTransformer(remainder=&#x27;passthrough&#x27;,\n",
       "                                   transformers=[(&#x27;onehotencoder&#x27;,\n",
       "                                                  OneHotEncoder(categories=[array([&#x27;Audi A3&#x27;, &#x27;Audi A6&#x27;, &#x27;Audi Q3&#x27;, &#x27;Audi Q5&#x27;, &#x27;Datsun Go&#x27;,\n",
       "       &#x27;Datsun Go Plus&#x27;, &#x27;Datsun Redi Go&#x27;, &#x27;Ford Ecosport&#x27;,\n",
       "       &#x27;Ford Endeavour&#x27;, &#x27;Ford FREESTYLE&#x27;, &#x27;Ford Figo&#x27;,\n",
       "       &#x27;Ford Figo Aspire&#x27;, &#x27;Ford New Figo&#x27;, &#x27;Honda Amaze&#x27;, &#x27;Honda BR-V&#x27;,\n",
       "       &#x27;Honda Brio&#x27;, &#x27;Hon...\n",
       "       &#x27;KIA&#x27;, &#x27;MG&#x27;, &#x27;Mahindra&#x27;, &#x27;Maruti&#x27;, &#x27;Mercedes&#x27;, &#x27;Nissan&#x27;, &#x27;Renault&#x27;,\n",
       "       &#x27;Skoda&#x27;, &#x27;Tata&#x27;, &#x27;Toyota&#x27;, &#x27;Volkswagen&#x27;], dtype=object),\n",
       "                                                                            array([&#x27;Andhra Pradesh&#x27;, &#x27;Delhi&#x27;, &#x27;Hariyana&#x27;, &#x27;Karnataka&#x27;, &#x27;Maharashtra&#x27;,\n",
       "       &#x27;Telangana&#x27;, &#x27;Uttar Pradesh&#x27;], dtype=object)]),\n",
       "                                                  [&#x27;Name&#x27;, &#x27;Model&#x27;,\n",
       "                                                   &#x27;Transmission&#x27;, &#x27;Fuel_Type&#x27;,\n",
       "                                                   &#x27;Registration&#x27;, &#x27;Brand&#x27;,\n",
       "                                                   &#x27;State&#x27;])])),\n",
       "                (&#x27;randomforestregressor&#x27;, RandomForestRegressor())])</pre><b>In a Jupyter environment, please rerun this cell to show the HTML representation or trust the notebook. <br />On GitHub, the HTML representation is unable to render, please try loading this page with nbviewer.org.</b></div><div class=\"sk-container\" hidden><div class=\"sk-item sk-dashed-wrapped\"><div class=\"sk-label-container\"><div class=\"sk-label sk-toggleable\"><input class=\"sk-toggleable__control sk-hidden--visually\" id=\"sk-estimator-id-9\" type=\"checkbox\" ><label for=\"sk-estimator-id-9\" class=\"sk-toggleable__label sk-toggleable__label-arrow\">Pipeline</label><div class=\"sk-toggleable__content\"><pre>Pipeline(steps=[(&#x27;columntransformer&#x27;,\n",
       "                 ColumnTransformer(remainder=&#x27;passthrough&#x27;,\n",
       "                                   transformers=[(&#x27;onehotencoder&#x27;,\n",
       "                                                  OneHotEncoder(categories=[array([&#x27;Audi A3&#x27;, &#x27;Audi A6&#x27;, &#x27;Audi Q3&#x27;, &#x27;Audi Q5&#x27;, &#x27;Datsun Go&#x27;,\n",
       "       &#x27;Datsun Go Plus&#x27;, &#x27;Datsun Redi Go&#x27;, &#x27;Ford Ecosport&#x27;,\n",
       "       &#x27;Ford Endeavour&#x27;, &#x27;Ford FREESTYLE&#x27;, &#x27;Ford Figo&#x27;,\n",
       "       &#x27;Ford Figo Aspire&#x27;, &#x27;Ford New Figo&#x27;, &#x27;Honda Amaze&#x27;, &#x27;Honda BR-V&#x27;,\n",
       "       &#x27;Honda Brio&#x27;, &#x27;Hon...\n",
       "       &#x27;KIA&#x27;, &#x27;MG&#x27;, &#x27;Mahindra&#x27;, &#x27;Maruti&#x27;, &#x27;Mercedes&#x27;, &#x27;Nissan&#x27;, &#x27;Renault&#x27;,\n",
       "       &#x27;Skoda&#x27;, &#x27;Tata&#x27;, &#x27;Toyota&#x27;, &#x27;Volkswagen&#x27;], dtype=object),\n",
       "                                                                            array([&#x27;Andhra Pradesh&#x27;, &#x27;Delhi&#x27;, &#x27;Hariyana&#x27;, &#x27;Karnataka&#x27;, &#x27;Maharashtra&#x27;,\n",
       "       &#x27;Telangana&#x27;, &#x27;Uttar Pradesh&#x27;], dtype=object)]),\n",
       "                                                  [&#x27;Name&#x27;, &#x27;Model&#x27;,\n",
       "                                                   &#x27;Transmission&#x27;, &#x27;Fuel_Type&#x27;,\n",
       "                                                   &#x27;Registration&#x27;, &#x27;Brand&#x27;,\n",
       "                                                   &#x27;State&#x27;])])),\n",
       "                (&#x27;randomforestregressor&#x27;, RandomForestRegressor())])</pre></div></div></div><div class=\"sk-serial\"><div class=\"sk-item sk-dashed-wrapped\"><div class=\"sk-label-container\"><div class=\"sk-label sk-toggleable\"><input class=\"sk-toggleable__control sk-hidden--visually\" id=\"sk-estimator-id-10\" type=\"checkbox\" ><label for=\"sk-estimator-id-10\" class=\"sk-toggleable__label sk-toggleable__label-arrow\">columntransformer: ColumnTransformer</label><div class=\"sk-toggleable__content\"><pre>ColumnTransformer(remainder=&#x27;passthrough&#x27;,\n",
       "                  transformers=[(&#x27;onehotencoder&#x27;,\n",
       "                                 OneHotEncoder(categories=[array([&#x27;Audi A3&#x27;, &#x27;Audi A6&#x27;, &#x27;Audi Q3&#x27;, &#x27;Audi Q5&#x27;, &#x27;Datsun Go&#x27;,\n",
       "       &#x27;Datsun Go Plus&#x27;, &#x27;Datsun Redi Go&#x27;, &#x27;Ford Ecosport&#x27;,\n",
       "       &#x27;Ford Endeavour&#x27;, &#x27;Ford FREESTYLE&#x27;, &#x27;Ford Figo&#x27;,\n",
       "       &#x27;Ford Figo Aspire&#x27;, &#x27;Ford New Figo&#x27;, &#x27;Honda Amaze&#x27;, &#x27;Honda BR-V&#x27;,\n",
       "       &#x27;Honda Brio&#x27;, &#x27;Honda CRV&#x27;, &#x27;Honda City&#x27;, &#x27;Honda Civic&#x27;,\n",
       "       &#x27;Hond...\n",
       "                                                           array([&#x27;Audi&#x27;, &#x27;Datsun&#x27;, &#x27;Ford&#x27;, &#x27;Honda&#x27;, &#x27;Hyundai&#x27;, &#x27;Jaguar&#x27;, &#x27;Jeep&#x27;,\n",
       "       &#x27;KIA&#x27;, &#x27;MG&#x27;, &#x27;Mahindra&#x27;, &#x27;Maruti&#x27;, &#x27;Mercedes&#x27;, &#x27;Nissan&#x27;, &#x27;Renault&#x27;,\n",
       "       &#x27;Skoda&#x27;, &#x27;Tata&#x27;, &#x27;Toyota&#x27;, &#x27;Volkswagen&#x27;], dtype=object),\n",
       "                                                           array([&#x27;Andhra Pradesh&#x27;, &#x27;Delhi&#x27;, &#x27;Hariyana&#x27;, &#x27;Karnataka&#x27;, &#x27;Maharashtra&#x27;,\n",
       "       &#x27;Telangana&#x27;, &#x27;Uttar Pradesh&#x27;], dtype=object)]),\n",
       "                                 [&#x27;Name&#x27;, &#x27;Model&#x27;, &#x27;Transmission&#x27;, &#x27;Fuel_Type&#x27;,\n",
       "                                  &#x27;Registration&#x27;, &#x27;Brand&#x27;, &#x27;State&#x27;])])</pre></div></div></div><div class=\"sk-parallel\"><div class=\"sk-parallel-item\"><div class=\"sk-item\"><div class=\"sk-label-container\"><div class=\"sk-label sk-toggleable\"><input class=\"sk-toggleable__control sk-hidden--visually\" id=\"sk-estimator-id-11\" type=\"checkbox\" ><label for=\"sk-estimator-id-11\" class=\"sk-toggleable__label sk-toggleable__label-arrow\">onehotencoder</label><div class=\"sk-toggleable__content\"><pre>[&#x27;Name&#x27;, &#x27;Model&#x27;, &#x27;Transmission&#x27;, &#x27;Fuel_Type&#x27;, &#x27;Registration&#x27;, &#x27;Brand&#x27;, &#x27;State&#x27;]</pre></div></div></div><div class=\"sk-serial\"><div class=\"sk-item\"><div class=\"sk-estimator sk-toggleable\"><input class=\"sk-toggleable__control sk-hidden--visually\" id=\"sk-estimator-id-12\" type=\"checkbox\" ><label for=\"sk-estimator-id-12\" class=\"sk-toggleable__label sk-toggleable__label-arrow\">OneHotEncoder</label><div class=\"sk-toggleable__content\"><pre>OneHotEncoder(categories=[array([&#x27;Audi A3&#x27;, &#x27;Audi A6&#x27;, &#x27;Audi Q3&#x27;, &#x27;Audi Q5&#x27;, &#x27;Datsun Go&#x27;,\n",
       "       &#x27;Datsun Go Plus&#x27;, &#x27;Datsun Redi Go&#x27;, &#x27;Ford Ecosport&#x27;,\n",
       "       &#x27;Ford Endeavour&#x27;, &#x27;Ford FREESTYLE&#x27;, &#x27;Ford Figo&#x27;,\n",
       "       &#x27;Ford Figo Aspire&#x27;, &#x27;Ford New Figo&#x27;, &#x27;Honda Amaze&#x27;, &#x27;Honda BR-V&#x27;,\n",
       "       &#x27;Honda Brio&#x27;, &#x27;Honda CRV&#x27;, &#x27;Honda City&#x27;, &#x27;Honda Civic&#x27;,\n",
       "       &#x27;Honda Jazz&#x27;, &#x27;Honda WR-V&#x27;, &#x27;Hyundai AURA&#x27;, &#x27;Hyundai Accent&#x27;,\n",
       "       &#x27;Hyundai Creta&#x27;, &#x27;Hyundai E...\n",
       "       &#x27;UP-63&#x27;, &#x27;UP-65&#x27;, &#x27;UP-70&#x27;, &#x27;UP-72&#x27;, &#x27;UP-74&#x27;, &#x27;UP-78&#x27;, &#x27;UP-80&#x27;,\n",
       "       &#x27;UP-85&#x27;], dtype=object),\n",
       "                          array([&#x27;Audi&#x27;, &#x27;Datsun&#x27;, &#x27;Ford&#x27;, &#x27;Honda&#x27;, &#x27;Hyundai&#x27;, &#x27;Jaguar&#x27;, &#x27;Jeep&#x27;,\n",
       "       &#x27;KIA&#x27;, &#x27;MG&#x27;, &#x27;Mahindra&#x27;, &#x27;Maruti&#x27;, &#x27;Mercedes&#x27;, &#x27;Nissan&#x27;, &#x27;Renault&#x27;,\n",
       "       &#x27;Skoda&#x27;, &#x27;Tata&#x27;, &#x27;Toyota&#x27;, &#x27;Volkswagen&#x27;], dtype=object),\n",
       "                          array([&#x27;Andhra Pradesh&#x27;, &#x27;Delhi&#x27;, &#x27;Hariyana&#x27;, &#x27;Karnataka&#x27;, &#x27;Maharashtra&#x27;,\n",
       "       &#x27;Telangana&#x27;, &#x27;Uttar Pradesh&#x27;], dtype=object)])</pre></div></div></div></div></div></div><div class=\"sk-parallel-item\"><div class=\"sk-item\"><div class=\"sk-label-container\"><div class=\"sk-label sk-toggleable\"><input class=\"sk-toggleable__control sk-hidden--visually\" id=\"sk-estimator-id-13\" type=\"checkbox\" ><label for=\"sk-estimator-id-13\" class=\"sk-toggleable__label sk-toggleable__label-arrow\">remainder</label><div class=\"sk-toggleable__content\"><pre>[&#x27;Kms&#x27;, &#x27;Owner&#x27;, &#x27;EMI&#x27;, &#x27;Year&#x27;, &#x27;Age&#x27;]</pre></div></div></div><div class=\"sk-serial\"><div class=\"sk-item\"><div class=\"sk-estimator sk-toggleable\"><input class=\"sk-toggleable__control sk-hidden--visually\" id=\"sk-estimator-id-14\" type=\"checkbox\" ><label for=\"sk-estimator-id-14\" class=\"sk-toggleable__label sk-toggleable__label-arrow\">passthrough</label><div class=\"sk-toggleable__content\"><pre>passthrough</pre></div></div></div></div></div></div></div></div><div class=\"sk-item\"><div class=\"sk-estimator sk-toggleable\"><input class=\"sk-toggleable__control sk-hidden--visually\" id=\"sk-estimator-id-15\" type=\"checkbox\" ><label for=\"sk-estimator-id-15\" class=\"sk-toggleable__label sk-toggleable__label-arrow\">RandomForestRegressor</label><div class=\"sk-toggleable__content\"><pre>RandomForestRegressor()</pre></div></div></div></div></div></div></div>"
      ],
      "text/plain": [
       "Pipeline(steps=[('columntransformer',\n",
       "                 ColumnTransformer(remainder='passthrough',\n",
       "                                   transformers=[('onehotencoder',\n",
       "                                                  OneHotEncoder(categories=[array(['Audi A3', 'Audi A6', 'Audi Q3', 'Audi Q5', 'Datsun Go',\n",
       "       'Datsun Go Plus', 'Datsun Redi Go', 'Ford Ecosport',\n",
       "       'Ford Endeavour', 'Ford FREESTYLE', 'Ford Figo',\n",
       "       'Ford Figo Aspire', 'Ford New Figo', 'Honda Amaze', 'Honda BR-V',\n",
       "       'Honda Brio', 'Hon...\n",
       "       'KIA', 'MG', 'Mahindra', 'Maruti', 'Mercedes', 'Nissan', 'Renault',\n",
       "       'Skoda', 'Tata', 'Toyota', 'Volkswagen'], dtype=object),\n",
       "                                                                            array(['Andhra Pradesh', 'Delhi', 'Hariyana', 'Karnataka', 'Maharashtra',\n",
       "       'Telangana', 'Uttar Pradesh'], dtype=object)]),\n",
       "                                                  ['Name', 'Model',\n",
       "                                                   'Transmission', 'Fuel_Type',\n",
       "                                                   'Registration', 'Brand',\n",
       "                                                   'State'])])),\n",
       "                ('randomforestregressor', RandomForestRegressor())])"
      ]
     },
     "execution_count": 105,
     "metadata": {},
     "output_type": "execute_result"
    }
   ],
   "source": [
    "model_RF.fit(X_train,y_train)"
   ]
  },
  {
   "cell_type": "code",
   "execution_count": 106,
   "id": "ef5f1644",
   "metadata": {},
   "outputs": [],
   "source": [
    "y_pred_RF=model_RF.predict(X_test)"
   ]
  },
  {
   "cell_type": "code",
   "execution_count": 107,
   "id": "6e01d423",
   "metadata": {
    "scrolled": false
   },
   "outputs": [
    {
     "data": {
      "text/plain": [
       "array([ 394237.  , 1194156.  ,  961584.  ,  814730.  ,  506362.5 ,\n",
       "        360791.  , 1040146.  ,  570774.  ,  652599.  ,  320565.  ,\n",
       "        413737.  ,  677792.2 ,  616430.7 ,  626965.  ,  469840.  ,\n",
       "        441958.  ,  577233.5 ,  487893.5 ,  563546.  ,  928738.  ,\n",
       "       1466563.  ,  562924.5 ,  335902.5 ,  643127.  ,  980157.5 ,\n",
       "        696332.  ,  704134.  ,  430325.  ,  294736.  ,  374224.  ,\n",
       "        437091.5 ,  652594.  ,  725362.  ,  317120.5 ,  259023.  ,\n",
       "        371211.  ,  715633.  ,  460707.  ,  512749.5 ,  321897.  ,\n",
       "        378114.  ,  701740.  , 1035346.  ,  305081.  ,  693478.  ,\n",
       "        516141.  ,  453663.  ,  639680.  , 1237889.  ,  720437.  ,\n",
       "        804745.  ,  249415.5 ,  547950.  ,  511613.5 ,  509375.  ,\n",
       "        636422.  , 1514146.  ,  794418.  ,  519888.  , 1154313.5 ,\n",
       "        478542.05,  704149.  ,  430675.  , 1165393.  ,  369377.  ,\n",
       "        285412.  ,  957108.  ,  968446.  ,  464316.5 ,  894452.  ,\n",
       "       1407180.  ,  550885.  ,  413287.5 ,  707535.  ,  400691.  ,\n",
       "        393332.5 ,  479959.  ,  395707.5 ,  856944.  , 1323760.  ,\n",
       "        687228.  ,  944505.  ,  483394.  ,  687684.3 ,  540779.  ,\n",
       "        581212.  ,  574272.  ,  420047.  ,  587802.  ,  331803.5 ,\n",
       "        581239.  ,  401427.  ,  368712.  ,  246307.  ,  810761.  ,\n",
       "        441180.  ,  570229.  , 1128752.  ,  597641.  ,  314242.  ,\n",
       "        304339.  ,  660248.  ,  279982.5 ,  505333.  ,  801553.5 ,\n",
       "        525592.5 ,  268342.  ,  412353.5 ,  523265.5 ,  626521.  ,\n",
       "        394236.  , 1857447.5 ,  374125.  ,  564409.5 , 1027945.5 ,\n",
       "       1102534.5 ,  707206.  ,  497645.  ,  584850.  ,  453651.  ,\n",
       "        393348.  ,  677703.5 ,  557022.  ,  320686.  ,  372652.  ,\n",
       "        573390.  ,  545567.  , 1353259.  ,  647307.  ,  651804.5 ,\n",
       "        603565.  ,  654472.  ,  641735.  ,  317320.5 ,  331259.  ,\n",
       "        891206.  ,  401544.  , 1147255.  ,  383986.5 ,  582073.  ,\n",
       "        522519.  ,  513698.  ,  647007.  ,  320448.  ,  325508.  ,\n",
       "        694528.5 ,  453428.  ,  437234.  ,  593629.  ,  638586.  ,\n",
       "        882767.  , 1265488.5 ,  604470.  ,  546251.  ,  547946.  ,\n",
       "        846167.6 , 1417296.  ,  322861.  ,  523410.5 ,  651798.  ,\n",
       "        700028.  ,  316509.5 ,  623597.  ,  959434.  ,  526259.  ,\n",
       "        790409.  ,  277825.5 ,  245970.  ,  325747.  ,  723675.  ,\n",
       "        265143.  ,  662284.  , 1240194.5 ,  805731.5 ,  540289.  ,\n",
       "       1340158.  ,  536936.  ,  480506.  ,  301074.  ,  279929.  ,\n",
       "        364930.5 ,  520872.  , 1233127.  ,  449062.5 ,  798134.5 ,\n",
       "       1041412.  ,  485480.  ,  441242.  ,  718508.  ,  521654.  ,\n",
       "        862968.  ,  416542.  ,  223294.  ,  876565.  ,  392989.  ,\n",
       "        720296.  ,  345699.  ,  847362.4 ,  492568.  ,  792159.  ,\n",
       "        387453.  ,  345581.  ,  870514.  , 1159937.5 ,  496591.  ,\n",
       "        293013.  ,  455293.  ,  413289.5 ,  603657.  ,  228889.  ,\n",
       "        692375.5 ,  479556.  ,  682901.9 ,  530084.  ,  405013.  ,\n",
       "       1201223.5 , 1091483.  ,  336128.  ,  629369.  ,  688351.6 ,\n",
       "        370334.  ,  604766.  ,  330928.  ,  636381.  ,  600447.  ,\n",
       "        686877.  ,  456580.  ,  878262.  ,  492440.  ,  276987.  ,\n",
       "        836424.  ,  536424.  ,  924332.  ,  754345.5 ,  308480.5 ,\n",
       "        607728.  , 1086985.5 ,  523266.  ,  511344.5 ,  743023.  ,\n",
       "        813305.  ,  506368.  ,  362181.5 ,  870163.  ,  273370.5 ,\n",
       "        747347.5 ,  345308.5 ,  542779.  , 1258541.5 , 1115151.  ,\n",
       "        458602.5 ,  919297.5 ,  557161.  ,  651722.  ,  337602.5 ,\n",
       "        428905.  ,  730511.  ,  674891.6 ,  466369.  ,  450547.  ,\n",
       "       1742481.  ,  348352.  ,  458681.  ,  545512.  ,  607383.6 ,\n",
       "        370454.  , 1087083.5 ,  486886.  ,  659937.  ,  381358.  ,\n",
       "        418462.  ,  923846.5 ,  352766.  ,  487586.  ,  502225.  ,\n",
       "        687270.5 ,  636407.  ,  807304.  , 1408382.  ,  385001.5 ,\n",
       "       1478797.5 ,  906288.  ,  434775.  ,  308422.5 ,  417651.  ,\n",
       "        878204.  ,  633430.  ,  429612.  , 1436758.  ,  449370.  ,\n",
       "        777151.  ,  877701.  ,  495611.  ,  670298.  ,  573277.  ,\n",
       "       2277301.  ,  467628.5 ,  599739.  ,  720813.  ,  542278.  ,\n",
       "        417654.  , 1429529.  ,  626965.  ,  464121.  ,  323976.  ,\n",
       "        347053.  ,  693436.  ,  607378.  , 1115458.  , 1175867.5 ,\n",
       "        423409.  ,  573278.  ,  878732.  , 1695815.  ,  559631.  ,\n",
       "        401314.  ,  523566.  ,  508774.5 ,  339636.  ,  534132.  ,\n",
       "       1364181.  ,  398434.  ,  523166.  ,  686719.  ,  590526.  ,\n",
       "        812209.5 , 1000976.  ,  327234.  ,  689453.3 ,  675989.6 ,\n",
       "        480431.  ,  808151.5 ,  587378.  , 1022089.5 ,  388182.  ,\n",
       "        460551.  ,  342595.5 , 1747703.  ,  608875.4 ,  469374.  ,\n",
       "        652783.5 ,  640501.  ,  646939.  ,  774586.  ,  497121.  ,\n",
       "        546099.  ,  354460.  ,  839268.  ,  845533.6 ,  661860.  ,\n",
       "        456430.5 ,  878165.  ,  636431.  ,  570057.  ,  592152.  ,\n",
       "        507093.  ,  858799.  ,  291213.  ,  250939.  ,  467069.  ,\n",
       "        856979.  ,  890058.  ,  553751.  , 1853680.  ,  415430.  ,\n",
       "        331909.  ,  254622.5 , 1151956.5 ,  537932.  ,  608267.2 ,\n",
       "        415528.5 ,  360894.  ,  416609.  ,  294739.  ,  673241.2 ,\n",
       "        674783.  ,  420350.  ,  378337.  ,  325618.  ,  231995.  ,\n",
       "        506318.5 ,  477033.75, 1011163.  ,  474192.  ,  703941.  ,\n",
       "        847597.6 ,  983335.  , 1012119.5 ,  680406.4 , 1206958.  ,\n",
       "        937160.  ,  523205.5 ,  814250.  ,  918988.5 , 1697020.  ,\n",
       "        376064.5 ,  451760.  ,  482399.  ,  697387.  ,  551632.  ,\n",
       "        724291.  ,  461189.  ,  349865.  ,  643887.  ,  918436.  ,\n",
       "        378118.  ,  515744.  , 1806565.  ,  280632.  ,  490551.  ,\n",
       "        839950.5 ,  866446.  ,  845778.  ,  673232.  ,  486906.  ,\n",
       "        462525.  ,  615778.2 ,  737127.5 ,  381911.5 ,  914942.  ,\n",
       "        901219.  ,  721300.  ,  517781.  ,  630164.  ,  583462.  ,\n",
       "        427088.  ,  787033.  ,  380175.  ,  671778.  ,  329122.  ,\n",
       "        295641.  ,  417592.  ,  752041.  ,  587219.  ,  509775.5 ,\n",
       "        559110.  ,  327544.  ,  407308.  ,  597652.  ,  753494.  ,\n",
       "        212875.  ,  542755.  ,  379302.  ,  697456.  ,  368595.  ,\n",
       "        308559.5 ,  642035.  ,  365340.  ,  462072.  ,  510706.5 ,\n",
       "        585287.  , 1668365.  ,  373599.5 ,  943564.  ,  475240.  ,\n",
       "        499010.  ,  593538.  ,  317673.  ,  454697.  , 1437054.  ,\n",
       "        351732.5 ,  171069.  ,  565107.  ,  943482.  ,  506356.  ,\n",
       "        359587.  ,  960883.  ,  372352.  ,  466662.  ,  670415.  ,\n",
       "        286859.  ,  491164.5 , 1193991.5 , 1728525.  ,  583615.  ,\n",
       "        814369.5 ,  737105.5 ,  898919.  ,  688614.1 ,  543609.  ,\n",
       "       1251643.5 ,  365830.  ,  484428.5 ,  956426.  ,  601932.  ,\n",
       "        400855.  ,  477117.7 ,  804472.  ,  624508.  ,  350621.5 ,\n",
       "       1104077.  ,  616604.6 , 1223847.  ,  561395.  ,  471797.  ,\n",
       "       1216026.  ,  491881.  ,  695105.  ,  636461.  ,  671532.  ,\n",
       "        320513.  ,  540251.  ,  664667.  ,  800099.  ,  652568.  ,\n",
       "        701584.  ,  450939.  ,  523241.  ,  412774.  ,  447817.  ,\n",
       "        295836.  ,  994492.  ,  914479.  ,  447864.  ,  214837.  ,\n",
       "        445890.5 ,  611463.  ,  520473.  ,  292617.  ,  806715.  ,\n",
       "        844136.9 ,  658510.  ,  517831.  ,  896781.  ,  641930.  ,\n",
       "        305210.  ,  607468.4 ,  703336.  ,  597336.  ,  420798.  ,\n",
       "        334834.5 , 1275954.  ,  845813.  ,  334498.  ,  606237.6 ,\n",
       "        420330.  ,  497713.  ,  510308.5 ,  701270.  ,  278683.5 ,\n",
       "        458299.  ,  499394.  , 1787036.  ,  459984.  ,  525815.5 ,\n",
       "        551237.5 ,  739456.  ,  528312.  ,  282639.  ,  535624.  ,\n",
       "        913218.  ,  496163.  ,  413218.5 ,  418628.  ,  334154.5 ,\n",
       "        329271.  ,  597236.  ,  484391.  , 1459661.  ,  317819.  ,\n",
       "        348323.  ,  671782.  ,  479134.  ,  660266.  ,  676819.4 ,\n",
       "        346097.  ,  524400.  ,  958980.  ,  677828.4 ,  542044.  ,\n",
       "       1176051.5 ,  594671.  ,  474219.  ,  493748.  ,  292704.  ,\n",
       "       1162042.5 ,  520621.  ])"
      ]
     },
     "execution_count": 107,
     "metadata": {},
     "output_type": "execute_result"
    }
   ],
   "source": [
    "y_pred_RF"
   ]
  },
  {
   "cell_type": "code",
   "execution_count": 108,
   "id": "217290d8",
   "metadata": {},
   "outputs": [],
   "source": [
    "RF_score=r2_score(y_test,y_pred_RF)*100"
   ]
  },
  {
   "cell_type": "code",
   "execution_count": 109,
   "id": "5c2ba3af",
   "metadata": {},
   "outputs": [
    {
     "data": {
      "text/plain": [
       "98.37911772561291"
      ]
     },
     "execution_count": 109,
     "metadata": {},
     "output_type": "execute_result"
    }
   ],
   "source": [
    "RF_score"
   ]
  },
  {
   "cell_type": "code",
   "execution_count": 110,
   "id": "99aef766",
   "metadata": {},
   "outputs": [],
   "source": [
    "pickle.dump(model_RF,open('model_RF.pkl','wb'))"
   ]
  },
  {
   "cell_type": "code",
   "execution_count": 111,
   "id": "e11f9eae",
   "metadata": {},
   "outputs": [
    {
     "data": {
      "text/plain": [
       "array([408807.])"
      ]
     },
     "execution_count": 111,
     "metadata": {},
     "output_type": "execute_result"
    }
   ],
   "source": [
    "model_RF.predict(pd.DataFrame([['Maruti Swift','VXI','Manual',50000,2,'Petrol','MH-05',8000,2014,'Maruti','Maharashtra',5]],columns=['Name','Model','Transmission','Kms','Owner','Fuel_Type','Registration','EMI','Year','Brand','State','Age']))"
   ]
  },
  {
   "cell_type": "markdown",
   "id": "c077d31c",
   "metadata": {},
   "source": [
    "### 3. Decision Tree Model"
   ]
  },
  {
   "cell_type": "code",
   "execution_count": 112,
   "id": "355f35ba",
   "metadata": {},
   "outputs": [],
   "source": [
    "from sklearn.tree import DecisionTreeRegressor"
   ]
  },
  {
   "cell_type": "code",
   "execution_count": 113,
   "id": "a6e52b04",
   "metadata": {},
   "outputs": [],
   "source": [
    "DT = DecisionTreeRegressor()"
   ]
  },
  {
   "cell_type": "code",
   "execution_count": 114,
   "id": "0487c6c5",
   "metadata": {},
   "outputs": [],
   "source": [
    "model_DT = make_pipeline(column_transform,DT)"
   ]
  },
  {
   "cell_type": "code",
   "execution_count": 115,
   "id": "65a35a8a",
   "metadata": {},
   "outputs": [
    {
     "data": {
      "text/html": [
       "<style>#sk-container-id-4 {color: black;background-color: white;}#sk-container-id-4 pre{padding: 0;}#sk-container-id-4 div.sk-toggleable {background-color: white;}#sk-container-id-4 label.sk-toggleable__label {cursor: pointer;display: block;width: 100%;margin-bottom: 0;padding: 0.3em;box-sizing: border-box;text-align: center;}#sk-container-id-4 label.sk-toggleable__label-arrow:before {content: \"▸\";float: left;margin-right: 0.25em;color: #696969;}#sk-container-id-4 label.sk-toggleable__label-arrow:hover:before {color: black;}#sk-container-id-4 div.sk-estimator:hover label.sk-toggleable__label-arrow:before {color: black;}#sk-container-id-4 div.sk-toggleable__content {max-height: 0;max-width: 0;overflow: hidden;text-align: left;background-color: #f0f8ff;}#sk-container-id-4 div.sk-toggleable__content pre {margin: 0.2em;color: black;border-radius: 0.25em;background-color: #f0f8ff;}#sk-container-id-4 input.sk-toggleable__control:checked~div.sk-toggleable__content {max-height: 200px;max-width: 100%;overflow: auto;}#sk-container-id-4 input.sk-toggleable__control:checked~label.sk-toggleable__label-arrow:before {content: \"▾\";}#sk-container-id-4 div.sk-estimator input.sk-toggleable__control:checked~label.sk-toggleable__label {background-color: #d4ebff;}#sk-container-id-4 div.sk-label input.sk-toggleable__control:checked~label.sk-toggleable__label {background-color: #d4ebff;}#sk-container-id-4 input.sk-hidden--visually {border: 0;clip: rect(1px 1px 1px 1px);clip: rect(1px, 1px, 1px, 1px);height: 1px;margin: -1px;overflow: hidden;padding: 0;position: absolute;width: 1px;}#sk-container-id-4 div.sk-estimator {font-family: monospace;background-color: #f0f8ff;border: 1px dotted black;border-radius: 0.25em;box-sizing: border-box;margin-bottom: 0.5em;}#sk-container-id-4 div.sk-estimator:hover {background-color: #d4ebff;}#sk-container-id-4 div.sk-parallel-item::after {content: \"\";width: 100%;border-bottom: 1px solid gray;flex-grow: 1;}#sk-container-id-4 div.sk-label:hover label.sk-toggleable__label {background-color: #d4ebff;}#sk-container-id-4 div.sk-serial::before {content: \"\";position: absolute;border-left: 1px solid gray;box-sizing: border-box;top: 0;bottom: 0;left: 50%;z-index: 0;}#sk-container-id-4 div.sk-serial {display: flex;flex-direction: column;align-items: center;background-color: white;padding-right: 0.2em;padding-left: 0.2em;position: relative;}#sk-container-id-4 div.sk-item {position: relative;z-index: 1;}#sk-container-id-4 div.sk-parallel {display: flex;align-items: stretch;justify-content: center;background-color: white;position: relative;}#sk-container-id-4 div.sk-item::before, #sk-container-id-4 div.sk-parallel-item::before {content: \"\";position: absolute;border-left: 1px solid gray;box-sizing: border-box;top: 0;bottom: 0;left: 50%;z-index: -1;}#sk-container-id-4 div.sk-parallel-item {display: flex;flex-direction: column;z-index: 1;position: relative;background-color: white;}#sk-container-id-4 div.sk-parallel-item:first-child::after {align-self: flex-end;width: 50%;}#sk-container-id-4 div.sk-parallel-item:last-child::after {align-self: flex-start;width: 50%;}#sk-container-id-4 div.sk-parallel-item:only-child::after {width: 0;}#sk-container-id-4 div.sk-dashed-wrapped {border: 1px dashed gray;margin: 0 0.4em 0.5em 0.4em;box-sizing: border-box;padding-bottom: 0.4em;background-color: white;}#sk-container-id-4 div.sk-label label {font-family: monospace;font-weight: bold;display: inline-block;line-height: 1.2em;}#sk-container-id-4 div.sk-label-container {text-align: center;}#sk-container-id-4 div.sk-container {/* jupyter's `normalize.less` sets `[hidden] { display: none; }` but bootstrap.min.css set `[hidden] { display: none !important; }` so we also need the `!important` here to be able to override the default hidden behavior on the sphinx rendered scikit-learn.org. See: https://github.com/scikit-learn/scikit-learn/issues/21755 */display: inline-block !important;position: relative;}#sk-container-id-4 div.sk-text-repr-fallback {display: none;}</style><div id=\"sk-container-id-4\" class=\"sk-top-container\"><div class=\"sk-text-repr-fallback\"><pre>Pipeline(steps=[(&#x27;columntransformer&#x27;,\n",
       "                 ColumnTransformer(remainder=&#x27;passthrough&#x27;,\n",
       "                                   transformers=[(&#x27;onehotencoder&#x27;,\n",
       "                                                  OneHotEncoder(categories=[array([&#x27;Audi A3&#x27;, &#x27;Audi A6&#x27;, &#x27;Audi Q3&#x27;, &#x27;Audi Q5&#x27;, &#x27;Datsun Go&#x27;,\n",
       "       &#x27;Datsun Go Plus&#x27;, &#x27;Datsun Redi Go&#x27;, &#x27;Ford Ecosport&#x27;,\n",
       "       &#x27;Ford Endeavour&#x27;, &#x27;Ford FREESTYLE&#x27;, &#x27;Ford Figo&#x27;,\n",
       "       &#x27;Ford Figo Aspire&#x27;, &#x27;Ford New Figo&#x27;, &#x27;Honda Amaze&#x27;, &#x27;Honda BR-V&#x27;,\n",
       "       &#x27;Honda Brio&#x27;, &#x27;Hon...\n",
       "       &#x27;KIA&#x27;, &#x27;MG&#x27;, &#x27;Mahindra&#x27;, &#x27;Maruti&#x27;, &#x27;Mercedes&#x27;, &#x27;Nissan&#x27;, &#x27;Renault&#x27;,\n",
       "       &#x27;Skoda&#x27;, &#x27;Tata&#x27;, &#x27;Toyota&#x27;, &#x27;Volkswagen&#x27;], dtype=object),\n",
       "                                                                            array([&#x27;Andhra Pradesh&#x27;, &#x27;Delhi&#x27;, &#x27;Hariyana&#x27;, &#x27;Karnataka&#x27;, &#x27;Maharashtra&#x27;,\n",
       "       &#x27;Telangana&#x27;, &#x27;Uttar Pradesh&#x27;], dtype=object)]),\n",
       "                                                  [&#x27;Name&#x27;, &#x27;Model&#x27;,\n",
       "                                                   &#x27;Transmission&#x27;, &#x27;Fuel_Type&#x27;,\n",
       "                                                   &#x27;Registration&#x27;, &#x27;Brand&#x27;,\n",
       "                                                   &#x27;State&#x27;])])),\n",
       "                (&#x27;decisiontreeregressor&#x27;, DecisionTreeRegressor())])</pre><b>In a Jupyter environment, please rerun this cell to show the HTML representation or trust the notebook. <br />On GitHub, the HTML representation is unable to render, please try loading this page with nbviewer.org.</b></div><div class=\"sk-container\" hidden><div class=\"sk-item sk-dashed-wrapped\"><div class=\"sk-label-container\"><div class=\"sk-label sk-toggleable\"><input class=\"sk-toggleable__control sk-hidden--visually\" id=\"sk-estimator-id-16\" type=\"checkbox\" ><label for=\"sk-estimator-id-16\" class=\"sk-toggleable__label sk-toggleable__label-arrow\">Pipeline</label><div class=\"sk-toggleable__content\"><pre>Pipeline(steps=[(&#x27;columntransformer&#x27;,\n",
       "                 ColumnTransformer(remainder=&#x27;passthrough&#x27;,\n",
       "                                   transformers=[(&#x27;onehotencoder&#x27;,\n",
       "                                                  OneHotEncoder(categories=[array([&#x27;Audi A3&#x27;, &#x27;Audi A6&#x27;, &#x27;Audi Q3&#x27;, &#x27;Audi Q5&#x27;, &#x27;Datsun Go&#x27;,\n",
       "       &#x27;Datsun Go Plus&#x27;, &#x27;Datsun Redi Go&#x27;, &#x27;Ford Ecosport&#x27;,\n",
       "       &#x27;Ford Endeavour&#x27;, &#x27;Ford FREESTYLE&#x27;, &#x27;Ford Figo&#x27;,\n",
       "       &#x27;Ford Figo Aspire&#x27;, &#x27;Ford New Figo&#x27;, &#x27;Honda Amaze&#x27;, &#x27;Honda BR-V&#x27;,\n",
       "       &#x27;Honda Brio&#x27;, &#x27;Hon...\n",
       "       &#x27;KIA&#x27;, &#x27;MG&#x27;, &#x27;Mahindra&#x27;, &#x27;Maruti&#x27;, &#x27;Mercedes&#x27;, &#x27;Nissan&#x27;, &#x27;Renault&#x27;,\n",
       "       &#x27;Skoda&#x27;, &#x27;Tata&#x27;, &#x27;Toyota&#x27;, &#x27;Volkswagen&#x27;], dtype=object),\n",
       "                                                                            array([&#x27;Andhra Pradesh&#x27;, &#x27;Delhi&#x27;, &#x27;Hariyana&#x27;, &#x27;Karnataka&#x27;, &#x27;Maharashtra&#x27;,\n",
       "       &#x27;Telangana&#x27;, &#x27;Uttar Pradesh&#x27;], dtype=object)]),\n",
       "                                                  [&#x27;Name&#x27;, &#x27;Model&#x27;,\n",
       "                                                   &#x27;Transmission&#x27;, &#x27;Fuel_Type&#x27;,\n",
       "                                                   &#x27;Registration&#x27;, &#x27;Brand&#x27;,\n",
       "                                                   &#x27;State&#x27;])])),\n",
       "                (&#x27;decisiontreeregressor&#x27;, DecisionTreeRegressor())])</pre></div></div></div><div class=\"sk-serial\"><div class=\"sk-item sk-dashed-wrapped\"><div class=\"sk-label-container\"><div class=\"sk-label sk-toggleable\"><input class=\"sk-toggleable__control sk-hidden--visually\" id=\"sk-estimator-id-17\" type=\"checkbox\" ><label for=\"sk-estimator-id-17\" class=\"sk-toggleable__label sk-toggleable__label-arrow\">columntransformer: ColumnTransformer</label><div class=\"sk-toggleable__content\"><pre>ColumnTransformer(remainder=&#x27;passthrough&#x27;,\n",
       "                  transformers=[(&#x27;onehotencoder&#x27;,\n",
       "                                 OneHotEncoder(categories=[array([&#x27;Audi A3&#x27;, &#x27;Audi A6&#x27;, &#x27;Audi Q3&#x27;, &#x27;Audi Q5&#x27;, &#x27;Datsun Go&#x27;,\n",
       "       &#x27;Datsun Go Plus&#x27;, &#x27;Datsun Redi Go&#x27;, &#x27;Ford Ecosport&#x27;,\n",
       "       &#x27;Ford Endeavour&#x27;, &#x27;Ford FREESTYLE&#x27;, &#x27;Ford Figo&#x27;,\n",
       "       &#x27;Ford Figo Aspire&#x27;, &#x27;Ford New Figo&#x27;, &#x27;Honda Amaze&#x27;, &#x27;Honda BR-V&#x27;,\n",
       "       &#x27;Honda Brio&#x27;, &#x27;Honda CRV&#x27;, &#x27;Honda City&#x27;, &#x27;Honda Civic&#x27;,\n",
       "       &#x27;Hond...\n",
       "                                                           array([&#x27;Audi&#x27;, &#x27;Datsun&#x27;, &#x27;Ford&#x27;, &#x27;Honda&#x27;, &#x27;Hyundai&#x27;, &#x27;Jaguar&#x27;, &#x27;Jeep&#x27;,\n",
       "       &#x27;KIA&#x27;, &#x27;MG&#x27;, &#x27;Mahindra&#x27;, &#x27;Maruti&#x27;, &#x27;Mercedes&#x27;, &#x27;Nissan&#x27;, &#x27;Renault&#x27;,\n",
       "       &#x27;Skoda&#x27;, &#x27;Tata&#x27;, &#x27;Toyota&#x27;, &#x27;Volkswagen&#x27;], dtype=object),\n",
       "                                                           array([&#x27;Andhra Pradesh&#x27;, &#x27;Delhi&#x27;, &#x27;Hariyana&#x27;, &#x27;Karnataka&#x27;, &#x27;Maharashtra&#x27;,\n",
       "       &#x27;Telangana&#x27;, &#x27;Uttar Pradesh&#x27;], dtype=object)]),\n",
       "                                 [&#x27;Name&#x27;, &#x27;Model&#x27;, &#x27;Transmission&#x27;, &#x27;Fuel_Type&#x27;,\n",
       "                                  &#x27;Registration&#x27;, &#x27;Brand&#x27;, &#x27;State&#x27;])])</pre></div></div></div><div class=\"sk-parallel\"><div class=\"sk-parallel-item\"><div class=\"sk-item\"><div class=\"sk-label-container\"><div class=\"sk-label sk-toggleable\"><input class=\"sk-toggleable__control sk-hidden--visually\" id=\"sk-estimator-id-18\" type=\"checkbox\" ><label for=\"sk-estimator-id-18\" class=\"sk-toggleable__label sk-toggleable__label-arrow\">onehotencoder</label><div class=\"sk-toggleable__content\"><pre>[&#x27;Name&#x27;, &#x27;Model&#x27;, &#x27;Transmission&#x27;, &#x27;Fuel_Type&#x27;, &#x27;Registration&#x27;, &#x27;Brand&#x27;, &#x27;State&#x27;]</pre></div></div></div><div class=\"sk-serial\"><div class=\"sk-item\"><div class=\"sk-estimator sk-toggleable\"><input class=\"sk-toggleable__control sk-hidden--visually\" id=\"sk-estimator-id-19\" type=\"checkbox\" ><label for=\"sk-estimator-id-19\" class=\"sk-toggleable__label sk-toggleable__label-arrow\">OneHotEncoder</label><div class=\"sk-toggleable__content\"><pre>OneHotEncoder(categories=[array([&#x27;Audi A3&#x27;, &#x27;Audi A6&#x27;, &#x27;Audi Q3&#x27;, &#x27;Audi Q5&#x27;, &#x27;Datsun Go&#x27;,\n",
       "       &#x27;Datsun Go Plus&#x27;, &#x27;Datsun Redi Go&#x27;, &#x27;Ford Ecosport&#x27;,\n",
       "       &#x27;Ford Endeavour&#x27;, &#x27;Ford FREESTYLE&#x27;, &#x27;Ford Figo&#x27;,\n",
       "       &#x27;Ford Figo Aspire&#x27;, &#x27;Ford New Figo&#x27;, &#x27;Honda Amaze&#x27;, &#x27;Honda BR-V&#x27;,\n",
       "       &#x27;Honda Brio&#x27;, &#x27;Honda CRV&#x27;, &#x27;Honda City&#x27;, &#x27;Honda Civic&#x27;,\n",
       "       &#x27;Honda Jazz&#x27;, &#x27;Honda WR-V&#x27;, &#x27;Hyundai AURA&#x27;, &#x27;Hyundai Accent&#x27;,\n",
       "       &#x27;Hyundai Creta&#x27;, &#x27;Hyundai E...\n",
       "       &#x27;UP-63&#x27;, &#x27;UP-65&#x27;, &#x27;UP-70&#x27;, &#x27;UP-72&#x27;, &#x27;UP-74&#x27;, &#x27;UP-78&#x27;, &#x27;UP-80&#x27;,\n",
       "       &#x27;UP-85&#x27;], dtype=object),\n",
       "                          array([&#x27;Audi&#x27;, &#x27;Datsun&#x27;, &#x27;Ford&#x27;, &#x27;Honda&#x27;, &#x27;Hyundai&#x27;, &#x27;Jaguar&#x27;, &#x27;Jeep&#x27;,\n",
       "       &#x27;KIA&#x27;, &#x27;MG&#x27;, &#x27;Mahindra&#x27;, &#x27;Maruti&#x27;, &#x27;Mercedes&#x27;, &#x27;Nissan&#x27;, &#x27;Renault&#x27;,\n",
       "       &#x27;Skoda&#x27;, &#x27;Tata&#x27;, &#x27;Toyota&#x27;, &#x27;Volkswagen&#x27;], dtype=object),\n",
       "                          array([&#x27;Andhra Pradesh&#x27;, &#x27;Delhi&#x27;, &#x27;Hariyana&#x27;, &#x27;Karnataka&#x27;, &#x27;Maharashtra&#x27;,\n",
       "       &#x27;Telangana&#x27;, &#x27;Uttar Pradesh&#x27;], dtype=object)])</pre></div></div></div></div></div></div><div class=\"sk-parallel-item\"><div class=\"sk-item\"><div class=\"sk-label-container\"><div class=\"sk-label sk-toggleable\"><input class=\"sk-toggleable__control sk-hidden--visually\" id=\"sk-estimator-id-20\" type=\"checkbox\" ><label for=\"sk-estimator-id-20\" class=\"sk-toggleable__label sk-toggleable__label-arrow\">remainder</label><div class=\"sk-toggleable__content\"><pre>[&#x27;Kms&#x27;, &#x27;Owner&#x27;, &#x27;EMI&#x27;, &#x27;Year&#x27;, &#x27;Age&#x27;]</pre></div></div></div><div class=\"sk-serial\"><div class=\"sk-item\"><div class=\"sk-estimator sk-toggleable\"><input class=\"sk-toggleable__control sk-hidden--visually\" id=\"sk-estimator-id-21\" type=\"checkbox\" ><label for=\"sk-estimator-id-21\" class=\"sk-toggleable__label sk-toggleable__label-arrow\">passthrough</label><div class=\"sk-toggleable__content\"><pre>passthrough</pre></div></div></div></div></div></div></div></div><div class=\"sk-item\"><div class=\"sk-estimator sk-toggleable\"><input class=\"sk-toggleable__control sk-hidden--visually\" id=\"sk-estimator-id-22\" type=\"checkbox\" ><label for=\"sk-estimator-id-22\" class=\"sk-toggleable__label sk-toggleable__label-arrow\">DecisionTreeRegressor</label><div class=\"sk-toggleable__content\"><pre>DecisionTreeRegressor()</pre></div></div></div></div></div></div></div>"
      ],
      "text/plain": [
       "Pipeline(steps=[('columntransformer',\n",
       "                 ColumnTransformer(remainder='passthrough',\n",
       "                                   transformers=[('onehotencoder',\n",
       "                                                  OneHotEncoder(categories=[array(['Audi A3', 'Audi A6', 'Audi Q3', 'Audi Q5', 'Datsun Go',\n",
       "       'Datsun Go Plus', 'Datsun Redi Go', 'Ford Ecosport',\n",
       "       'Ford Endeavour', 'Ford FREESTYLE', 'Ford Figo',\n",
       "       'Ford Figo Aspire', 'Ford New Figo', 'Honda Amaze', 'Honda BR-V',\n",
       "       'Honda Brio', 'Hon...\n",
       "       'KIA', 'MG', 'Mahindra', 'Maruti', 'Mercedes', 'Nissan', 'Renault',\n",
       "       'Skoda', 'Tata', 'Toyota', 'Volkswagen'], dtype=object),\n",
       "                                                                            array(['Andhra Pradesh', 'Delhi', 'Hariyana', 'Karnataka', 'Maharashtra',\n",
       "       'Telangana', 'Uttar Pradesh'], dtype=object)]),\n",
       "                                                  ['Name', 'Model',\n",
       "                                                   'Transmission', 'Fuel_Type',\n",
       "                                                   'Registration', 'Brand',\n",
       "                                                   'State'])])),\n",
       "                ('decisiontreeregressor', DecisionTreeRegressor())])"
      ]
     },
     "execution_count": 115,
     "metadata": {},
     "output_type": "execute_result"
    }
   ],
   "source": [
    "model_DT.fit(X_train,y_train)"
   ]
  },
  {
   "cell_type": "code",
   "execution_count": 116,
   "id": "641a10d9",
   "metadata": {},
   "outputs": [],
   "source": [
    "y_pred_DT=model_DT.predict(X_test)"
   ]
  },
  {
   "cell_type": "code",
   "execution_count": 154,
   "id": "feb4b75d",
   "metadata": {},
   "outputs": [
    {
     "data": {
      "text/plain": [
       "array([ 394449., 1192399.,  959899.,  825099.,  506299.,  360599.,\n",
       "       1041099.,  570899.,  652799.,  319999.,  415699.,  677299.,\n",
       "        616499.,  626999.,  468899.,  442399.,  577199.,  487949.,\n",
       "        563499.,  928799., 1468099.,  563499.,  336399.,  643899.,\n",
       "        981299.,  698999.,  704199.,  430299.,  294399.,  374299.,\n",
       "        437199.,  652799.,  725599.,  317599.,  259599.,  371499.,\n",
       "        715599.,  460699.,  512699.,  321999.,  377699.,  701799.,\n",
       "       1034699.,  304999.,  693499.,  516199.,  453799.,  640399.,\n",
       "       1238199.,  720799.,  815099.,  248399.,  547699.,  511299.,\n",
       "        509499.,  636299., 1510699.,  801899.,  520199., 1154499.,\n",
       "        478299.,  704199.,  430899., 1164899.,  368899.,  285299.,\n",
       "        953699.,  967599.,  464599.,  894099., 1408099.,  550899.,\n",
       "        413399.,  707099.,  400699.,  393299.,  479999.,  395599.,\n",
       "        856899., 1323999.,  687199.,  943899.,  483399.,  687599.,\n",
       "        540899.,  581199.,  574799.,  420299.,  587199.,  332099.,\n",
       "        580799.,  401399.,  368299.,  245899.,  812299.,  441199.,\n",
       "        570399., 1133899.,  597399.,  314399.,  304099.,  659899.,\n",
       "        280299.,  506549.,  795499.,  525799.,  267699.,  412299.,\n",
       "        523499.,  626599.,  394449., 1838349.,  374099.,  564599.,\n",
       "       1026999., 1103999.,  706799.,  497799.,  584999.,  453799.,\n",
       "        393199.,  677299.,  556999.,  319999.,  373299.,  572999.,\n",
       "        545299., 1349799.,  648599.,  651799.,  603199.,  654199.,\n",
       "        641699.,  316599.,  332099.,  890299.,  401899., 1144599.,\n",
       "        383999.,  581999.,  522799.,  513799.,  645899.,  319999.,\n",
       "        325499.,  694499.,  453799.,  436999.,  593799.,  638799.,\n",
       "        882999., 1267699.,  604799.,  546299.,  546699.,  846579.,\n",
       "       1416299.,  322899.,  523199.,  651899.,  697099.,  317899.,\n",
       "        623399.,  962299.,  525799.,  807299.,  277999.,  245899.,\n",
       "        325899.,  723999.,  265199.,  662099., 1238199.,  797999.,\n",
       "        539799., 1337999.,  536899.,  480799.,  301299.,  280299.,\n",
       "        365199.,  520899., 1231199.,  448699.,  816899., 1041099.,\n",
       "        483999.,  441499.,  718699.,  521699.,  862999.,  416599.,\n",
       "        218899.,  873299.,  393299.,  720799.,  344999.,  847999.,\n",
       "        493499.,  802399.,  387299.,  345599.,  870199., 1158799.,\n",
       "        496499.,  292699.,  455199.,  413399.,  603899.,  229599.,\n",
       "        692249.,  479299.,  682999.,  529899.,  404899., 1195899.,\n",
       "       1091949.,  336399.,  629299.,  688399.,  370499.,  604799.,\n",
       "        330699.,  636199.,  600299.,  686799.,  456599.,  877699.,\n",
       "        493899.,  276649.,  836499.,  536199.,  923499.,  754199.,\n",
       "        308199.,  607399., 1087299.,  522799.,  511299.,  743099.,\n",
       "        817599.,  506549.,  362199.,  870199.,  273099.,  748499.,\n",
       "        344999.,  542699., 1258199., 1115399.,  458399.,  918699.,\n",
       "        555999.,  651699.,  337399.,  429499.,  730599.,  675299.,\n",
       "        465999.,  450599., 1740099.,  347899.,  458649.,  545299.,\n",
       "        607399.,  370499., 1087299.,  486599.,  660399.,  381699.,\n",
       "        418499.,  923499.,  352499.,  487499.,  502699.,  687399.,\n",
       "        636199.,  810499., 1408099.,  384799., 1479999.,  905599.,\n",
       "        434499.,  308399.,  417699.,  878199.,  633399.,  429699.,\n",
       "       1442299.,  449699.,  773499.,  877699.,  495399.,  670399.,\n",
       "        572999., 2278599.,  468199.,  599299.,  722899.,  541999.,\n",
       "        417699., 1422799.,  627699.,  464199.,  324099.,  345599.,\n",
       "        693599.,  607399., 1115199., 1179299.,  423399.,  572999.,\n",
       "        878799., 1707699.,  559699.,  401399.,  523699.,  508799.,\n",
       "        339499.,  534099., 1361899.,  398699.,  522799.,  686799.,\n",
       "        590399.,  799199.,  999599.,  326699.,  689299.,  676699.,\n",
       "        480799.,  789299.,  587599., 1023499.,  388499.,  460699.,\n",
       "        342599., 1740099.,  607399.,  468899.,  652899.,  640399.,\n",
       "        645999.,  769599.,  496999.,  546699.,  355299.,  840399.,\n",
       "        842399.,  662099.,  456299.,  877699.,  636299.,  569799.,\n",
       "        591399.,  507099.,  861199.,  291099.,  250399.,  468199.,\n",
       "        856799.,  890299.,  553799., 1847399.,  415699.,  331899.,\n",
       "        252899., 1154499.,  537799.,  607459.,  415699.,  360899.,\n",
       "        416599.,  294899.,  673299.,  674899.,  419999.,  377799.,\n",
       "        325499.,  233699.,  506549.,  477220., 1010999.,  474199.,\n",
       "        704199.,  847999.,  986299., 1010999.,  682019., 1208999.,\n",
       "        937199.,  522799.,  799199.,  919099., 1707699.,  375899.,\n",
       "        451899.,  482399.,  697299.,  552299.,  727799.,  461099.,\n",
       "        350599.,  643899.,  918699.,  378399.,  515999., 1740099.,\n",
       "        280299.,  490799.,  840399.,  866099.,  845399.,  673299.,\n",
       "        486799.,  462599.,  615599.,  737499.,  381699.,  915099.,\n",
       "        899599.,  720799.,  516499.,  630299.,  583399.,  426999.,\n",
       "        783099.,  380399.,  671599.,  327999.,  295899.,  417399.,\n",
       "        751949.,  587199.,  509499.,  559199.,  327699.,  406899.,\n",
       "        597599.,  752299.,  210499.,  542699.,  378999.,  698999.,\n",
       "        368299.,  308399.,  641699.,  364799.,  462299.,  510499.,\n",
       "        584999., 1656199.,  373499.,  943299.,  475199.,  498499.,\n",
       "        593199.,  317899.,  453799., 1438299.,  351699.,  135099.,\n",
       "        565199.,  942899.,  506299.,  359599.,  958499.,  372399.,\n",
       "        466399.,  670399.,  286899.,  491299., 1195899., 1740099.,\n",
       "        583399.,  825899.,  737499.,  899599.,  688699.,  543299.,\n",
       "       1251199.,  365799.,  483999.,  953699.,  601799.,  400699.,\n",
       "        477220.,  807999.,  624599.,  349799., 1103599.,  616499.,\n",
       "       1222199.,  561399.,  471899., 1215699.,  491799.,  695299.,\n",
       "        636299.,  671999.,  320699.,  539799.,  664599.,  814399.,\n",
       "        652799.,  701799.,  451199.,  522799.,  412799.,  447699.,\n",
       "        296299.,  997699.,  915099.,  447999.,  218899.,  446099.,\n",
       "        612599.,  520499.,  292599.,  807999.,  842399.,  658799.,\n",
       "        517999.,  897799.,  641699.,  305199.,  607399.,  704699.,\n",
       "        597599.,  420299.,  334999., 1279199.,  845399.,  333899.,\n",
       "        606399.,  419999.,  497799.,  509299.,  700799.,  278999.,\n",
       "        458599.,  499499., 1789099.,  459999.,  526599.,  550899.,\n",
       "        739499.,  528299.,  280299.,  535399.,  913299.,  496099.,\n",
       "        413399.,  418499.,  333899.,  329199.,  596699.,  483999.,\n",
       "       1468099.,  317899.,  348099.,  671999.,  479299.,  660399.,\n",
       "        676699.,  345599.,  524449.,  962299.,  678249.,  542299.,\n",
       "       1179299.,  594699.,  474199.,  493899.,  292699., 1160499.,\n",
       "        520599.])"
      ]
     },
     "execution_count": 154,
     "metadata": {},
     "output_type": "execute_result"
    }
   ],
   "source": [
    "y_pred_DT"
   ]
  },
  {
   "cell_type": "code",
   "execution_count": 118,
   "id": "9a9608a4",
   "metadata": {},
   "outputs": [],
   "source": [
    "DT_score=r2_score(y_test,y_pred_DT)*100"
   ]
  },
  {
   "cell_type": "code",
   "execution_count": 119,
   "id": "e4a612b8",
   "metadata": {},
   "outputs": [
    {
     "data": {
      "text/plain": [
       "98.3844279357129"
      ]
     },
     "execution_count": 119,
     "metadata": {},
     "output_type": "execute_result"
    }
   ],
   "source": [
    "DT_score"
   ]
  },
  {
   "cell_type": "code",
   "execution_count": 120,
   "id": "4990f0a2",
   "metadata": {},
   "outputs": [],
   "source": [
    "pickle.dump(model_DT,open('model_DT.pkl','wb'))"
   ]
  },
  {
   "cell_type": "code",
   "execution_count": 121,
   "id": "53f2e0cf",
   "metadata": {},
   "outputs": [
    {
     "data": {
      "text/plain": [
       "array([613299.])"
      ]
     },
     "execution_count": 121,
     "metadata": {},
     "output_type": "execute_result"
    }
   ],
   "source": [
    "model_DT.predict(pd.DataFrame([['Maruti Swift','VXI','Manual',45000,1,'Petrol','MH-05',12000,2020,'Maruti','Maharashtra',1]],columns=['Name','Model','Transmission','Kms','Owner','Fuel_Type','Registration','EMI','Year','Brand','State','Age']))"
   ]
  },
  {
   "cell_type": "markdown",
   "id": "08917259",
   "metadata": {},
   "source": [
    "### 4. Statsmodel"
   ]
  },
  {
   "cell_type": "code",
   "execution_count": 122,
   "id": "ee5d56fe",
   "metadata": {},
   "outputs": [],
   "source": [
    "import statsmodels.formula.api as smf"
   ]
  },
  {
   "cell_type": "code",
   "execution_count": 123,
   "id": "6510223c",
   "metadata": {},
   "outputs": [
    {
     "name": "stdout",
     "output_type": "stream",
     "text": [
      "<class 'pandas.core.frame.DataFrame'>\n",
      "Int64Index: 2883 entries, 0 to 4455\n",
      "Data columns (total 14 columns):\n",
      " #   Column        Non-Null Count  Dtype \n",
      "---  ------        --------------  ----- \n",
      " 0   Name          2883 non-null   object\n",
      " 1   Model         2883 non-null   object\n",
      " 2   Transmission  2883 non-null   object\n",
      " 3   Kms           2883 non-null   object\n",
      " 4   Owner         2883 non-null   object\n",
      " 5   Fuel_Type     2883 non-null   object\n",
      " 6   Registration  2883 non-null   object\n",
      " 7   EMI           2883 non-null   object\n",
      " 8   Price         2883 non-null   object\n",
      " 9   Down_Payment  2883 non-null   object\n",
      " 10  Year          2883 non-null   object\n",
      " 11  Brand         2883 non-null   object\n",
      " 12  State         2883 non-null   object\n",
      " 13  Age           2883 non-null   int64 \n",
      "dtypes: int64(1), object(13)\n",
      "memory usage: 337.9+ KB\n"
     ]
    }
   ],
   "source": [
    "cars24.info()"
   ]
  },
  {
   "cell_type": "code",
   "execution_count": 124,
   "id": "4c2de26e",
   "metadata": {},
   "outputs": [],
   "source": [
    "cars24 = cars24.astype({\"Price\":\"int\",\"Kms\":\"int\",\"Owner\":\"int\",\"EMI\":\"int\",\"Year\":\"int\",\"Age\":\"int\",})"
   ]
  },
  {
   "cell_type": "code",
   "execution_count": 125,
   "id": "71c17f2d",
   "metadata": {},
   "outputs": [
    {
     "name": "stdout",
     "output_type": "stream",
     "text": [
      "<class 'pandas.core.frame.DataFrame'>\n",
      "Int64Index: 2883 entries, 0 to 4455\n",
      "Data columns (total 14 columns):\n",
      " #   Column        Non-Null Count  Dtype \n",
      "---  ------        --------------  ----- \n",
      " 0   Name          2883 non-null   object\n",
      " 1   Model         2883 non-null   object\n",
      " 2   Transmission  2883 non-null   object\n",
      " 3   Kms           2883 non-null   int32 \n",
      " 4   Owner         2883 non-null   int32 \n",
      " 5   Fuel_Type     2883 non-null   object\n",
      " 6   Registration  2883 non-null   object\n",
      " 7   EMI           2883 non-null   int32 \n",
      " 8   Price         2883 non-null   int32 \n",
      " 9   Down_Payment  2883 non-null   object\n",
      " 10  Year          2883 non-null   int32 \n",
      " 11  Brand         2883 non-null   object\n",
      " 12  State         2883 non-null   object\n",
      " 13  Age           2883 non-null   int32 \n",
      "dtypes: int32(6), object(8)\n",
      "memory usage: 270.3+ KB\n"
     ]
    }
   ],
   "source": [
    "cars24.info()"
   ]
  },
  {
   "cell_type": "code",
   "execution_count": 126,
   "id": "5310db3d",
   "metadata": {},
   "outputs": [],
   "source": [
    "SMF = smf.ols('Price~Kms+Owner+Year+EMI',data=cars24).fit()"
   ]
  },
  {
   "cell_type": "code",
   "execution_count": 127,
   "id": "49a37fdb",
   "metadata": {},
   "outputs": [
    {
     "data": {
      "text/plain": [
       "(99.93147764157895, 99.93138240550053)"
      ]
     },
     "execution_count": 127,
     "metadata": {},
     "output_type": "execute_result"
    }
   ],
   "source": [
    "(SMF.rsquared*100,SMF.rsquared_adj*100)"
   ]
  },
  {
   "cell_type": "code",
   "execution_count": 128,
   "id": "2f1c00fa",
   "metadata": {},
   "outputs": [],
   "source": [
    "SMF_score=SMF.rsquared*100"
   ]
  },
  {
   "cell_type": "code",
   "execution_count": 129,
   "id": "4420367a",
   "metadata": {},
   "outputs": [
    {
     "data": {
      "text/plain": [
       "99.93147764157895"
      ]
     },
     "execution_count": 129,
     "metadata": {},
     "output_type": "execute_result"
    }
   ],
   "source": [
    "SMF_score"
   ]
  },
  {
   "cell_type": "code",
   "execution_count": 130,
   "id": "32c5f258",
   "metadata": {},
   "outputs": [
    {
     "data": {
      "text/plain": [
       "0    405303.286304\n",
       "dtype: float64"
      ]
     },
     "execution_count": 130,
     "metadata": {},
     "output_type": "execute_result"
    }
   ],
   "source": [
    "SMF.predict(pd.DataFrame([[20000,2,2018,8000]],columns=['Kms','Owner','Year','EMI']))"
   ]
  },
  {
   "cell_type": "markdown",
   "id": "380a5dab",
   "metadata": {},
   "source": [
    "### 5. LinearSVR Model"
   ]
  },
  {
   "cell_type": "code",
   "execution_count": 131,
   "id": "ef8e4813",
   "metadata": {},
   "outputs": [],
   "source": [
    "from sklearn.svm import LinearSVR"
   ]
  },
  {
   "cell_type": "code",
   "execution_count": 132,
   "id": "f1abb58a",
   "metadata": {},
   "outputs": [],
   "source": [
    "LSVR = LinearSVR()"
   ]
  },
  {
   "cell_type": "code",
   "execution_count": 133,
   "id": "55f04d5e",
   "metadata": {},
   "outputs": [],
   "source": [
    "model_LSVR = make_pipeline(column_transform,LSVR)"
   ]
  },
  {
   "cell_type": "code",
   "execution_count": 134,
   "id": "16e4293d",
   "metadata": {},
   "outputs": [
    {
     "data": {
      "text/html": [
       "<style>#sk-container-id-5 {color: black;background-color: white;}#sk-container-id-5 pre{padding: 0;}#sk-container-id-5 div.sk-toggleable {background-color: white;}#sk-container-id-5 label.sk-toggleable__label {cursor: pointer;display: block;width: 100%;margin-bottom: 0;padding: 0.3em;box-sizing: border-box;text-align: center;}#sk-container-id-5 label.sk-toggleable__label-arrow:before {content: \"▸\";float: left;margin-right: 0.25em;color: #696969;}#sk-container-id-5 label.sk-toggleable__label-arrow:hover:before {color: black;}#sk-container-id-5 div.sk-estimator:hover label.sk-toggleable__label-arrow:before {color: black;}#sk-container-id-5 div.sk-toggleable__content {max-height: 0;max-width: 0;overflow: hidden;text-align: left;background-color: #f0f8ff;}#sk-container-id-5 div.sk-toggleable__content pre {margin: 0.2em;color: black;border-radius: 0.25em;background-color: #f0f8ff;}#sk-container-id-5 input.sk-toggleable__control:checked~div.sk-toggleable__content {max-height: 200px;max-width: 100%;overflow: auto;}#sk-container-id-5 input.sk-toggleable__control:checked~label.sk-toggleable__label-arrow:before {content: \"▾\";}#sk-container-id-5 div.sk-estimator input.sk-toggleable__control:checked~label.sk-toggleable__label {background-color: #d4ebff;}#sk-container-id-5 div.sk-label input.sk-toggleable__control:checked~label.sk-toggleable__label {background-color: #d4ebff;}#sk-container-id-5 input.sk-hidden--visually {border: 0;clip: rect(1px 1px 1px 1px);clip: rect(1px, 1px, 1px, 1px);height: 1px;margin: -1px;overflow: hidden;padding: 0;position: absolute;width: 1px;}#sk-container-id-5 div.sk-estimator {font-family: monospace;background-color: #f0f8ff;border: 1px dotted black;border-radius: 0.25em;box-sizing: border-box;margin-bottom: 0.5em;}#sk-container-id-5 div.sk-estimator:hover {background-color: #d4ebff;}#sk-container-id-5 div.sk-parallel-item::after {content: \"\";width: 100%;border-bottom: 1px solid gray;flex-grow: 1;}#sk-container-id-5 div.sk-label:hover label.sk-toggleable__label {background-color: #d4ebff;}#sk-container-id-5 div.sk-serial::before {content: \"\";position: absolute;border-left: 1px solid gray;box-sizing: border-box;top: 0;bottom: 0;left: 50%;z-index: 0;}#sk-container-id-5 div.sk-serial {display: flex;flex-direction: column;align-items: center;background-color: white;padding-right: 0.2em;padding-left: 0.2em;position: relative;}#sk-container-id-5 div.sk-item {position: relative;z-index: 1;}#sk-container-id-5 div.sk-parallel {display: flex;align-items: stretch;justify-content: center;background-color: white;position: relative;}#sk-container-id-5 div.sk-item::before, #sk-container-id-5 div.sk-parallel-item::before {content: \"\";position: absolute;border-left: 1px solid gray;box-sizing: border-box;top: 0;bottom: 0;left: 50%;z-index: -1;}#sk-container-id-5 div.sk-parallel-item {display: flex;flex-direction: column;z-index: 1;position: relative;background-color: white;}#sk-container-id-5 div.sk-parallel-item:first-child::after {align-self: flex-end;width: 50%;}#sk-container-id-5 div.sk-parallel-item:last-child::after {align-self: flex-start;width: 50%;}#sk-container-id-5 div.sk-parallel-item:only-child::after {width: 0;}#sk-container-id-5 div.sk-dashed-wrapped {border: 1px dashed gray;margin: 0 0.4em 0.5em 0.4em;box-sizing: border-box;padding-bottom: 0.4em;background-color: white;}#sk-container-id-5 div.sk-label label {font-family: monospace;font-weight: bold;display: inline-block;line-height: 1.2em;}#sk-container-id-5 div.sk-label-container {text-align: center;}#sk-container-id-5 div.sk-container {/* jupyter's `normalize.less` sets `[hidden] { display: none; }` but bootstrap.min.css set `[hidden] { display: none !important; }` so we also need the `!important` here to be able to override the default hidden behavior on the sphinx rendered scikit-learn.org. See: https://github.com/scikit-learn/scikit-learn/issues/21755 */display: inline-block !important;position: relative;}#sk-container-id-5 div.sk-text-repr-fallback {display: none;}</style><div id=\"sk-container-id-5\" class=\"sk-top-container\"><div class=\"sk-text-repr-fallback\"><pre>Pipeline(steps=[(&#x27;columntransformer&#x27;,\n",
       "                 ColumnTransformer(remainder=&#x27;passthrough&#x27;,\n",
       "                                   transformers=[(&#x27;onehotencoder&#x27;,\n",
       "                                                  OneHotEncoder(categories=[array([&#x27;Audi A3&#x27;, &#x27;Audi A6&#x27;, &#x27;Audi Q3&#x27;, &#x27;Audi Q5&#x27;, &#x27;Datsun Go&#x27;,\n",
       "       &#x27;Datsun Go Plus&#x27;, &#x27;Datsun Redi Go&#x27;, &#x27;Ford Ecosport&#x27;,\n",
       "       &#x27;Ford Endeavour&#x27;, &#x27;Ford FREESTYLE&#x27;, &#x27;Ford Figo&#x27;,\n",
       "       &#x27;Ford Figo Aspire&#x27;, &#x27;Ford New Figo&#x27;, &#x27;Honda Amaze&#x27;, &#x27;Honda BR-V&#x27;,\n",
       "       &#x27;Honda Brio&#x27;, &#x27;Hon...\n",
       "                                                                            array([&#x27;Audi&#x27;, &#x27;Datsun&#x27;, &#x27;Ford&#x27;, &#x27;Honda&#x27;, &#x27;Hyundai&#x27;, &#x27;Jaguar&#x27;, &#x27;Jeep&#x27;,\n",
       "       &#x27;KIA&#x27;, &#x27;MG&#x27;, &#x27;Mahindra&#x27;, &#x27;Maruti&#x27;, &#x27;Mercedes&#x27;, &#x27;Nissan&#x27;, &#x27;Renault&#x27;,\n",
       "       &#x27;Skoda&#x27;, &#x27;Tata&#x27;, &#x27;Toyota&#x27;, &#x27;Volkswagen&#x27;], dtype=object),\n",
       "                                                                            array([&#x27;Andhra Pradesh&#x27;, &#x27;Delhi&#x27;, &#x27;Hariyana&#x27;, &#x27;Karnataka&#x27;, &#x27;Maharashtra&#x27;,\n",
       "       &#x27;Telangana&#x27;, &#x27;Uttar Pradesh&#x27;], dtype=object)]),\n",
       "                                                  [&#x27;Name&#x27;, &#x27;Model&#x27;,\n",
       "                                                   &#x27;Transmission&#x27;, &#x27;Fuel_Type&#x27;,\n",
       "                                                   &#x27;Registration&#x27;, &#x27;Brand&#x27;,\n",
       "                                                   &#x27;State&#x27;])])),\n",
       "                (&#x27;linearsvr&#x27;, LinearSVR())])</pre><b>In a Jupyter environment, please rerun this cell to show the HTML representation or trust the notebook. <br />On GitHub, the HTML representation is unable to render, please try loading this page with nbviewer.org.</b></div><div class=\"sk-container\" hidden><div class=\"sk-item sk-dashed-wrapped\"><div class=\"sk-label-container\"><div class=\"sk-label sk-toggleable\"><input class=\"sk-toggleable__control sk-hidden--visually\" id=\"sk-estimator-id-23\" type=\"checkbox\" ><label for=\"sk-estimator-id-23\" class=\"sk-toggleable__label sk-toggleable__label-arrow\">Pipeline</label><div class=\"sk-toggleable__content\"><pre>Pipeline(steps=[(&#x27;columntransformer&#x27;,\n",
       "                 ColumnTransformer(remainder=&#x27;passthrough&#x27;,\n",
       "                                   transformers=[(&#x27;onehotencoder&#x27;,\n",
       "                                                  OneHotEncoder(categories=[array([&#x27;Audi A3&#x27;, &#x27;Audi A6&#x27;, &#x27;Audi Q3&#x27;, &#x27;Audi Q5&#x27;, &#x27;Datsun Go&#x27;,\n",
       "       &#x27;Datsun Go Plus&#x27;, &#x27;Datsun Redi Go&#x27;, &#x27;Ford Ecosport&#x27;,\n",
       "       &#x27;Ford Endeavour&#x27;, &#x27;Ford FREESTYLE&#x27;, &#x27;Ford Figo&#x27;,\n",
       "       &#x27;Ford Figo Aspire&#x27;, &#x27;Ford New Figo&#x27;, &#x27;Honda Amaze&#x27;, &#x27;Honda BR-V&#x27;,\n",
       "       &#x27;Honda Brio&#x27;, &#x27;Hon...\n",
       "                                                                            array([&#x27;Audi&#x27;, &#x27;Datsun&#x27;, &#x27;Ford&#x27;, &#x27;Honda&#x27;, &#x27;Hyundai&#x27;, &#x27;Jaguar&#x27;, &#x27;Jeep&#x27;,\n",
       "       &#x27;KIA&#x27;, &#x27;MG&#x27;, &#x27;Mahindra&#x27;, &#x27;Maruti&#x27;, &#x27;Mercedes&#x27;, &#x27;Nissan&#x27;, &#x27;Renault&#x27;,\n",
       "       &#x27;Skoda&#x27;, &#x27;Tata&#x27;, &#x27;Toyota&#x27;, &#x27;Volkswagen&#x27;], dtype=object),\n",
       "                                                                            array([&#x27;Andhra Pradesh&#x27;, &#x27;Delhi&#x27;, &#x27;Hariyana&#x27;, &#x27;Karnataka&#x27;, &#x27;Maharashtra&#x27;,\n",
       "       &#x27;Telangana&#x27;, &#x27;Uttar Pradesh&#x27;], dtype=object)]),\n",
       "                                                  [&#x27;Name&#x27;, &#x27;Model&#x27;,\n",
       "                                                   &#x27;Transmission&#x27;, &#x27;Fuel_Type&#x27;,\n",
       "                                                   &#x27;Registration&#x27;, &#x27;Brand&#x27;,\n",
       "                                                   &#x27;State&#x27;])])),\n",
       "                (&#x27;linearsvr&#x27;, LinearSVR())])</pre></div></div></div><div class=\"sk-serial\"><div class=\"sk-item sk-dashed-wrapped\"><div class=\"sk-label-container\"><div class=\"sk-label sk-toggleable\"><input class=\"sk-toggleable__control sk-hidden--visually\" id=\"sk-estimator-id-24\" type=\"checkbox\" ><label for=\"sk-estimator-id-24\" class=\"sk-toggleable__label sk-toggleable__label-arrow\">columntransformer: ColumnTransformer</label><div class=\"sk-toggleable__content\"><pre>ColumnTransformer(remainder=&#x27;passthrough&#x27;,\n",
       "                  transformers=[(&#x27;onehotencoder&#x27;,\n",
       "                                 OneHotEncoder(categories=[array([&#x27;Audi A3&#x27;, &#x27;Audi A6&#x27;, &#x27;Audi Q3&#x27;, &#x27;Audi Q5&#x27;, &#x27;Datsun Go&#x27;,\n",
       "       &#x27;Datsun Go Plus&#x27;, &#x27;Datsun Redi Go&#x27;, &#x27;Ford Ecosport&#x27;,\n",
       "       &#x27;Ford Endeavour&#x27;, &#x27;Ford FREESTYLE&#x27;, &#x27;Ford Figo&#x27;,\n",
       "       &#x27;Ford Figo Aspire&#x27;, &#x27;Ford New Figo&#x27;, &#x27;Honda Amaze&#x27;, &#x27;Honda BR-V&#x27;,\n",
       "       &#x27;Honda Brio&#x27;, &#x27;Honda CRV&#x27;, &#x27;Honda City&#x27;, &#x27;Honda Civic&#x27;,\n",
       "       &#x27;Hond...\n",
       "                                                           array([&#x27;Audi&#x27;, &#x27;Datsun&#x27;, &#x27;Ford&#x27;, &#x27;Honda&#x27;, &#x27;Hyundai&#x27;, &#x27;Jaguar&#x27;, &#x27;Jeep&#x27;,\n",
       "       &#x27;KIA&#x27;, &#x27;MG&#x27;, &#x27;Mahindra&#x27;, &#x27;Maruti&#x27;, &#x27;Mercedes&#x27;, &#x27;Nissan&#x27;, &#x27;Renault&#x27;,\n",
       "       &#x27;Skoda&#x27;, &#x27;Tata&#x27;, &#x27;Toyota&#x27;, &#x27;Volkswagen&#x27;], dtype=object),\n",
       "                                                           array([&#x27;Andhra Pradesh&#x27;, &#x27;Delhi&#x27;, &#x27;Hariyana&#x27;, &#x27;Karnataka&#x27;, &#x27;Maharashtra&#x27;,\n",
       "       &#x27;Telangana&#x27;, &#x27;Uttar Pradesh&#x27;], dtype=object)]),\n",
       "                                 [&#x27;Name&#x27;, &#x27;Model&#x27;, &#x27;Transmission&#x27;, &#x27;Fuel_Type&#x27;,\n",
       "                                  &#x27;Registration&#x27;, &#x27;Brand&#x27;, &#x27;State&#x27;])])</pre></div></div></div><div class=\"sk-parallel\"><div class=\"sk-parallel-item\"><div class=\"sk-item\"><div class=\"sk-label-container\"><div class=\"sk-label sk-toggleable\"><input class=\"sk-toggleable__control sk-hidden--visually\" id=\"sk-estimator-id-25\" type=\"checkbox\" ><label for=\"sk-estimator-id-25\" class=\"sk-toggleable__label sk-toggleable__label-arrow\">onehotencoder</label><div class=\"sk-toggleable__content\"><pre>[&#x27;Name&#x27;, &#x27;Model&#x27;, &#x27;Transmission&#x27;, &#x27;Fuel_Type&#x27;, &#x27;Registration&#x27;, &#x27;Brand&#x27;, &#x27;State&#x27;]</pre></div></div></div><div class=\"sk-serial\"><div class=\"sk-item\"><div class=\"sk-estimator sk-toggleable\"><input class=\"sk-toggleable__control sk-hidden--visually\" id=\"sk-estimator-id-26\" type=\"checkbox\" ><label for=\"sk-estimator-id-26\" class=\"sk-toggleable__label sk-toggleable__label-arrow\">OneHotEncoder</label><div class=\"sk-toggleable__content\"><pre>OneHotEncoder(categories=[array([&#x27;Audi A3&#x27;, &#x27;Audi A6&#x27;, &#x27;Audi Q3&#x27;, &#x27;Audi Q5&#x27;, &#x27;Datsun Go&#x27;,\n",
       "       &#x27;Datsun Go Plus&#x27;, &#x27;Datsun Redi Go&#x27;, &#x27;Ford Ecosport&#x27;,\n",
       "       &#x27;Ford Endeavour&#x27;, &#x27;Ford FREESTYLE&#x27;, &#x27;Ford Figo&#x27;,\n",
       "       &#x27;Ford Figo Aspire&#x27;, &#x27;Ford New Figo&#x27;, &#x27;Honda Amaze&#x27;, &#x27;Honda BR-V&#x27;,\n",
       "       &#x27;Honda Brio&#x27;, &#x27;Honda CRV&#x27;, &#x27;Honda City&#x27;, &#x27;Honda Civic&#x27;,\n",
       "       &#x27;Honda Jazz&#x27;, &#x27;Honda WR-V&#x27;, &#x27;Hyundai AURA&#x27;, &#x27;Hyundai Accent&#x27;,\n",
       "       &#x27;Hyundai Creta&#x27;, &#x27;Hyundai E...\n",
       "       &#x27;UP-63&#x27;, &#x27;UP-65&#x27;, &#x27;UP-70&#x27;, &#x27;UP-72&#x27;, &#x27;UP-74&#x27;, &#x27;UP-78&#x27;, &#x27;UP-80&#x27;,\n",
       "       &#x27;UP-85&#x27;], dtype=object),\n",
       "                          array([&#x27;Audi&#x27;, &#x27;Datsun&#x27;, &#x27;Ford&#x27;, &#x27;Honda&#x27;, &#x27;Hyundai&#x27;, &#x27;Jaguar&#x27;, &#x27;Jeep&#x27;,\n",
       "       &#x27;KIA&#x27;, &#x27;MG&#x27;, &#x27;Mahindra&#x27;, &#x27;Maruti&#x27;, &#x27;Mercedes&#x27;, &#x27;Nissan&#x27;, &#x27;Renault&#x27;,\n",
       "       &#x27;Skoda&#x27;, &#x27;Tata&#x27;, &#x27;Toyota&#x27;, &#x27;Volkswagen&#x27;], dtype=object),\n",
       "                          array([&#x27;Andhra Pradesh&#x27;, &#x27;Delhi&#x27;, &#x27;Hariyana&#x27;, &#x27;Karnataka&#x27;, &#x27;Maharashtra&#x27;,\n",
       "       &#x27;Telangana&#x27;, &#x27;Uttar Pradesh&#x27;], dtype=object)])</pre></div></div></div></div></div></div><div class=\"sk-parallel-item\"><div class=\"sk-item\"><div class=\"sk-label-container\"><div class=\"sk-label sk-toggleable\"><input class=\"sk-toggleable__control sk-hidden--visually\" id=\"sk-estimator-id-27\" type=\"checkbox\" ><label for=\"sk-estimator-id-27\" class=\"sk-toggleable__label sk-toggleable__label-arrow\">remainder</label><div class=\"sk-toggleable__content\"><pre>[&#x27;Kms&#x27;, &#x27;Owner&#x27;, &#x27;EMI&#x27;, &#x27;Year&#x27;, &#x27;Age&#x27;]</pre></div></div></div><div class=\"sk-serial\"><div class=\"sk-item\"><div class=\"sk-estimator sk-toggleable\"><input class=\"sk-toggleable__control sk-hidden--visually\" id=\"sk-estimator-id-28\" type=\"checkbox\" ><label for=\"sk-estimator-id-28\" class=\"sk-toggleable__label sk-toggleable__label-arrow\">passthrough</label><div class=\"sk-toggleable__content\"><pre>passthrough</pre></div></div></div></div></div></div></div></div><div class=\"sk-item\"><div class=\"sk-estimator sk-toggleable\"><input class=\"sk-toggleable__control sk-hidden--visually\" id=\"sk-estimator-id-29\" type=\"checkbox\" ><label for=\"sk-estimator-id-29\" class=\"sk-toggleable__label sk-toggleable__label-arrow\">LinearSVR</label><div class=\"sk-toggleable__content\"><pre>LinearSVR()</pre></div></div></div></div></div></div></div>"
      ],
      "text/plain": [
       "Pipeline(steps=[('columntransformer',\n",
       "                 ColumnTransformer(remainder='passthrough',\n",
       "                                   transformers=[('onehotencoder',\n",
       "                                                  OneHotEncoder(categories=[array(['Audi A3', 'Audi A6', 'Audi Q3', 'Audi Q5', 'Datsun Go',\n",
       "       'Datsun Go Plus', 'Datsun Redi Go', 'Ford Ecosport',\n",
       "       'Ford Endeavour', 'Ford FREESTYLE', 'Ford Figo',\n",
       "       'Ford Figo Aspire', 'Ford New Figo', 'Honda Amaze', 'Honda BR-V',\n",
       "       'Honda Brio', 'Hon...\n",
       "                                                                            array(['Audi', 'Datsun', 'Ford', 'Honda', 'Hyundai', 'Jaguar', 'Jeep',\n",
       "       'KIA', 'MG', 'Mahindra', 'Maruti', 'Mercedes', 'Nissan', 'Renault',\n",
       "       'Skoda', 'Tata', 'Toyota', 'Volkswagen'], dtype=object),\n",
       "                                                                            array(['Andhra Pradesh', 'Delhi', 'Hariyana', 'Karnataka', 'Maharashtra',\n",
       "       'Telangana', 'Uttar Pradesh'], dtype=object)]),\n",
       "                                                  ['Name', 'Model',\n",
       "                                                   'Transmission', 'Fuel_Type',\n",
       "                                                   'Registration', 'Brand',\n",
       "                                                   'State'])])),\n",
       "                ('linearsvr', LinearSVR())])"
      ]
     },
     "execution_count": 134,
     "metadata": {},
     "output_type": "execute_result"
    }
   ],
   "source": [
    "model_LSVR.fit(X_train,y_train)"
   ]
  },
  {
   "cell_type": "code",
   "execution_count": 135,
   "id": "5eb7cdcf",
   "metadata": {},
   "outputs": [],
   "source": [
    "y_pred_LSVR=model_LSVR.predict(X_test)"
   ]
  },
  {
   "cell_type": "code",
   "execution_count": 136,
   "id": "fa509289",
   "metadata": {},
   "outputs": [
    {
     "data": {
      "text/plain": [
       "array([ 395480.37133869, 1198613.39139411,  971028.81348975,\n",
       "        819793.73280237,  531269.6887539 ,  365464.76991996,\n",
       "       1044113.97703001,  595759.00275911,  671981.46976963,\n",
       "        319383.70077744,  430268.01467998,  702101.45915354,\n",
       "        635615.67285013,  648971.72852556,  476724.91988936,\n",
       "        452072.39219044,  590351.48909172,  497850.97174416,\n",
       "        581620.22202952,  927300.61028367, 1476063.82454598,\n",
       "        574344.36128883,  338127.36170624,  671455.64545391,\n",
       "        978387.05584295,  731540.19315867,  735134.10616237,\n",
       "        438804.32607153,  299954.22508532,  376315.12039954,\n",
       "        444882.71103816,  669389.18189105,  749850.5525488 ,\n",
       "        322296.52567455,  256409.84947985,  374221.3973152 ,\n",
       "        742726.96708051,  465933.83521978,  531140.78202477,\n",
       "        329478.39290772,  386616.63138752,  730448.18429828,\n",
       "       1036535.24395834,  310996.06594834,  722209.69685542,\n",
       "        530865.41449283,  464516.90038859,  655930.69251589,\n",
       "       1247758.27915239,  744706.22544058,  808948.39223334,\n",
       "        246260.38795393,  571368.56873872,  526783.97825068,\n",
       "        522364.69958987,  658628.20100303, 1533446.25699004,\n",
       "        795321.36073788,  535627.14651392, 1160023.17548409,\n",
       "        485095.56895442,  726843.2581724 ,  446405.28334522,\n",
       "       1170995.12488176,  382098.30529821,  281457.64661541,\n",
       "        963105.99604616,  966049.12794738,  471467.33222927,\n",
       "        893238.13559891, 1421616.76827465,  569719.43545874,\n",
       "        422693.13461133,  729513.21639816,  405964.37984526,\n",
       "        406897.0374064 ,  491549.59940609,  398804.67743529,\n",
       "        858875.94147135, 1340338.61841026,  710376.98418882,\n",
       "        954270.00036038,  493382.99136974,  707202.41995612,\n",
       "        553475.05583411,  594521.22578023,  601696.41626696,\n",
       "        424384.91254927,  607672.2452481 ,  335543.55035317,\n",
       "        602556.3806538 ,  407714.82972169,  368949.59420915,\n",
       "        248825.90517146,  807758.67284666,  452777.05524241,\n",
       "        583389.05977845, 1132733.04679118,  617333.56507557,\n",
       "        313277.29751661,  301148.31605358,  681712.34804291,\n",
       "        276032.45748557,  513691.04890507,  831774.49179974,\n",
       "        548496.06995265,  270347.85981835,  412533.48154571,\n",
       "        537902.31189024,  644088.86652268,  405288.44309321,\n",
       "       1860133.69349676,  380649.02919916,  581241.57479553,\n",
       "       1031014.83476148, 1109654.38454256,  739348.29033925,\n",
       "        512611.11484889,  606689.28724361,  466816.73603338,\n",
       "        400534.98422776,  707367.31803612,  569504.65537094,\n",
       "        316075.80250284,  378351.94592996,  591492.28985391,\n",
       "        556530.12384165, 1363066.56228318,  668343.9294586 ,\n",
       "        678058.77265395,  625415.2177641 ,  675948.84193332,\n",
       "        664206.98268986,  315653.27147153,  336202.48450346,\n",
       "        900483.45530867,  408497.01241208, 1152100.38666101,\n",
       "        385142.82631589,  601746.17081458,  537423.35508237,\n",
       "        527248.81655987,  672261.84426313,  330550.78719618,\n",
       "        324696.31817738,  726866.55024338,  461882.96595014,\n",
       "        455860.67147076,  611998.7250521 ,  669818.62424115,\n",
       "        882106.42550259, 1269842.28912101,  627489.70693415,\n",
       "        556892.69757428,  563373.12232382,  842024.26585291,\n",
       "       1425379.89849427,  326331.50603271,  542147.64903381,\n",
       "        676384.70629897,  721473.23841247,  318623.09613883,\n",
       "        641202.97613466,  967631.04679795,  545135.89205858,\n",
       "        802120.93858605,  278883.00538568,  243820.39334601,\n",
       "        327233.41059829,  746135.10387428,  265496.31806832,\n",
       "        695285.70399705, 1248524.93609382,  826065.94517937,\n",
       "        557454.16506564, 1347343.03938923,  555794.95038327,\n",
       "        490138.24869026,  295826.21349351,  276701.68511369,\n",
       "        371066.10407881,  529310.91375858, 1244816.07549608,\n",
       "        461916.21232168,  821861.90835465, 1042283.70520586,\n",
       "        500453.84547641,  450334.38412646,  748091.37925624,\n",
       "        537756.74840781,  862266.71112358,  419768.91737768,\n",
       "        220401.65176155,  884001.41319103,  407982.24498775,\n",
       "        748409.50483793,  348591.71087775,  845187.12951013,\n",
       "        507212.05855634,  808163.3925482 ,  396049.33121524,\n",
       "        350382.64769536,  872582.10574025, 1161761.02612148,\n",
       "        506832.12335252,  293071.11762261,  458496.62235935,\n",
       "        423113.337142  ,  618620.55254287,  220217.46230533,\n",
       "        721239.11011593,  499920.1097327 ,  702098.73734989,\n",
       "        540598.57112871,  419887.95476477, 1204045.61100417,\n",
       "       1102626.32565455,  337382.21226205,  650820.61111735,\n",
       "        714684.59564976,  367922.98948658,  621484.34117641,\n",
       "        330704.5833362 ,  654003.45702495,  628907.89501993,\n",
       "        714368.09150249,  470833.89324129,  881003.4852959 ,\n",
       "        506849.74575573,  283664.68553509,  838167.79948095,\n",
       "        548550.77534327,  929565.17505081,  776999.77488605,\n",
       "        310224.36885618,  626470.33356435, 1087061.04596733,\n",
       "        533625.16287462,  531227.47171093,  767103.76998036,\n",
       "        814993.44408084,  517960.03886257,  366627.4455516 ,\n",
       "        878462.98865262,  274446.69558318,  773425.60448057,\n",
       "        346927.50250855,  559014.76842406, 1264923.09531331,\n",
       "       1127319.47090604,  462875.1322295 ,  923294.78824922,\n",
       "        577446.0640137 ,  675058.87762705,  338516.29215389,\n",
       "        435462.03246439,  757224.51430248,  700920.80165928,\n",
       "        479526.38572686,  457190.51591607, 1755713.10060778,\n",
       "        360982.25465666,  471261.65943086,  556160.76877141,\n",
       "        621237.53240445,  370810.66583791, 1088735.78088897,\n",
       "        494191.73266138,  684635.59103149,  387433.30856747,\n",
       "        433278.9497737 ,  920251.00779193,  357537.21395921,\n",
       "        499638.08715942,  518859.81590515,  714181.86336665,\n",
       "        653777.63496734,  808771.58571606, 1417441.66564586,\n",
       "        400039.8957426 , 1497825.14875098,  902449.6533985 ,\n",
       "        441739.65338601,  304663.1479739 ,  429073.01844358,\n",
       "        884751.50882819,  652855.75433547,  444294.16162955,\n",
       "       1450828.11480496,  456585.52455573,  815191.29038739,\n",
       "        872300.57334517,  513501.9336437 ,  691066.33557311,\n",
       "        595280.07967198, 3312280.08645134,  471576.5549716 ,\n",
       "        623300.35490234,  752820.00374098,  553341.6863379 ,\n",
       "        425912.657843  , 1450894.56429422,  651455.76048013,\n",
       "        475213.82589256,  334720.25475553,  354970.529755  ,\n",
       "        725646.27589229,  631414.57064062, 1116633.87041285,\n",
       "       1181596.1895019 ,  431144.0904183 ,  588706.46939725,\n",
       "        874669.23671063, 1718418.93197305,  573991.24515389,\n",
       "        407150.42420847,  534178.50820804,  520362.66719681,\n",
       "        345095.36100606,  544965.94501947, 1380575.46845463,\n",
       "        403401.47902358,  540927.4418125 ,  712379.50386773,\n",
       "        606802.56072246,  832430.66173891, 1003986.33065569,\n",
       "        326806.21664155,  714531.61330028,  698924.03735675,\n",
       "        492152.02235063,  828037.71407228,  601304.04217656,\n",
       "       1025501.0691918 ,  395714.15257948,  471777.88168659,\n",
       "        339727.78342438, 1761782.8854663 ,  622588.77577591,\n",
       "        484891.81566518,  676982.6804921 ,  659960.11776846,\n",
       "        664228.06821047,  801942.81125823,  515487.62657279,\n",
       "        562936.37608041,  352352.72421664,  837080.85956057,\n",
       "        841770.57181217,  687926.27683097,  464581.49088524,\n",
       "        880371.77397865,  663819.03818125,  587165.36625075,\n",
       "        616877.42414041,  516566.10332078,  856702.13396516,\n",
       "        297376.30065147,  242468.40752787,  477285.87493979,\n",
       "        854903.98449195,  892996.52143417,  564048.25617639,\n",
       "       1882034.14017138,  419576.43131247,  335969.01816908,\n",
       "        247754.17529202, 1153392.60681815,  559859.83194963,\n",
       "        637984.97221323,  421932.05916645,  364632.25847053,\n",
       "        423059.61185305,  290881.6385086 ,  699693.44583443,\n",
       "        699688.79458978,  422783.83701771,  378839.66696755,\n",
       "        330408.47819732,  231908.07861221,  529742.91376888,\n",
       "        490352.54380967, 1016025.89407106,  488224.75432258,\n",
       "        723848.57396897,  842674.39473904,  987833.87037521,\n",
       "       1016942.17341523,  706659.08609648, 1215995.55486466,\n",
       "        938825.06857351,  535386.7403998 ,  830254.21076554,\n",
       "        917095.58182372, 1719801.42842802,  378647.38833283,\n",
       "        465433.80056441,  491070.62212919,  720492.97281404,\n",
       "        563650.44156052,  754841.2348879 ,  467490.74476532,\n",
       "        347600.07419112,  662144.18294605,  921327.26212477,\n",
       "        381595.11618465,  524529.07286292, 1750496.66694685,\n",
       "        280503.57915038,  498940.27915747,  848628.80419319,\n",
       "        862412.63828424,  849733.86676737,  691976.89188878,\n",
       "        502620.10592895,  470211.07236189,  639000.85056374,\n",
       "        761672.75547026,  384485.99533499,  916172.97159176,\n",
       "        899482.48600909,  748775.64400981,  531505.59700184,\n",
       "        646710.73576643,  597689.18303807,  434714.32439879,\n",
       "        806405.33282818,  390667.12551758,  704765.79898397,\n",
       "        326211.15558718,  297718.16683188,  424476.38344852,\n",
       "        777859.57541242,  605602.05823839,  521091.27888795,\n",
       "        581786.99770629,  324367.10323285,  407775.66927688,\n",
       "        621029.3747619 ,  776250.566256  ,  203815.66008621,\n",
       "        554449.35041313,  383469.97682404,  725985.80931411,\n",
       "        368477.39148809,  310926.0917954 ,  666687.38639268,\n",
       "        372978.31031004,  480980.09891259,  527022.98334395,\n",
       "        605732.34010276, 1684445.26956969,  379543.81591365,\n",
       "        942204.43217917,  491353.85993111,  517803.76387643,\n",
       "        608472.23839833,  319019.59055487,  467448.75365957,\n",
       "       1460708.38060699,  351846.01114183,  159430.89497119,\n",
       "        575422.92414906,  943959.9068242 ,  514260.10680764,\n",
       "        373033.72429005,  968101.18427602,  379882.96591218,\n",
       "        476825.78043884,  690533.34110223,  290150.94889033,\n",
       "        501654.01077631, 1201922.41979545, 1739562.78762179,\n",
       "        603698.33734558,  822964.17220216,  764524.92308825,\n",
       "        895346.28506205,  721645.65594493,  561665.92698126,\n",
       "       1257400.83445968,  370806.09326402,  499560.07815403,\n",
       "        956544.20815896,  620340.15580542,  401899.25389964,\n",
       "        484539.13081246,  805293.31540959,  651790.55377806,\n",
       "        354348.77956312, 1120102.57667874,  632248.05788265,\n",
       "       1229050.41333649,  580294.25569342,  477475.02004843,\n",
       "       1223267.91957502,  509760.68756292,  715984.46570122,\n",
       "        663233.20868996,  693270.23731702,  320283.9524283 ,\n",
       "        549910.21185684,  696083.5455935 ,  816323.61775665,\n",
       "        676996.03897507,  735506.08557734,  455648.77751212,\n",
       "        532671.66564767,  422124.55695066,  456106.29637016,\n",
       "        299933.00296888, 1001637.44545777,  915364.56612286,\n",
       "        462199.37402228,  216143.61067482,  461570.85388188,\n",
       "        632992.05142931,  532494.43141999,  292354.17543981,\n",
       "        805440.95863961,  843854.42564742,  679461.79279916,\n",
       "        534981.1760923 ,  903639.33461203,  670734.01418489,\n",
       "        313121.05401421,  625585.17437848,  728062.75734959,\n",
       "        614222.19474295,  431451.83007808,  337298.13303018,\n",
       "       1285365.93357585,  852401.54315051,  336455.48446585,\n",
       "        623775.51193768,  434967.68671949,  508220.60352859,\n",
       "        527721.20645402,  732780.01842744,  277692.24153026,\n",
       "        467023.24446852,  517775.71519494, 1815103.99331502,\n",
       "        476266.37932953,  538867.90511488,  569547.20085436,\n",
       "        773800.20109271,  537872.82187439,  277689.68487118,\n",
       "        548812.59283023,  914651.2071177 ,  504800.29474517,\n",
       "        425514.42643873,  421820.6425227 ,  343790.76488778,\n",
       "        333186.32497258,  610439.74206017,  496290.58219902,\n",
       "       1465916.18425554,  321788.02064296,  351448.56981413,\n",
       "        701851.08032888,  495392.57980372,  684658.46973897,\n",
       "        697113.2032295 ,  346087.94810797,  541564.31765471,\n",
       "        963562.60561873,  702435.30274899,  554977.85454193,\n",
       "       1184315.7716817 ,  610241.35544983,  481809.77859319,\n",
       "        503876.82772523,  288434.56607394, 1165922.16069355,\n",
       "        529106.36394051])"
      ]
     },
     "execution_count": 136,
     "metadata": {},
     "output_type": "execute_result"
    }
   ],
   "source": [
    "y_pred_LSVR"
   ]
  },
  {
   "cell_type": "code",
   "execution_count": 137,
   "id": "0505e0a2",
   "metadata": {},
   "outputs": [],
   "source": [
    "LSVR_score=r2_score(y_test,y_pred_LSVR)*100"
   ]
  },
  {
   "cell_type": "code",
   "execution_count": 138,
   "id": "df4c8167",
   "metadata": {},
   "outputs": [
    {
     "data": {
      "text/plain": [
       "99.7608576317135"
      ]
     },
     "execution_count": 138,
     "metadata": {},
     "output_type": "execute_result"
    }
   ],
   "source": [
    "LSVR_score"
   ]
  },
  {
   "cell_type": "code",
   "execution_count": 139,
   "id": "d872fb54",
   "metadata": {},
   "outputs": [],
   "source": [
    "pickle.dump(model_LSVR,open('model_LSVR.pkl','wb'))"
   ]
  },
  {
   "cell_type": "code",
   "execution_count": 140,
   "id": "ca65d935",
   "metadata": {},
   "outputs": [
    {
     "data": {
      "text/plain": [
       "array([635708.72856395])"
      ]
     },
     "execution_count": 140,
     "metadata": {},
     "output_type": "execute_result"
    }
   ],
   "source": [
    "model_LSVR.predict(pd.DataFrame([['Maruti Swift','VXI','Manual',50000,1,'Petrol','MH-05',12000,2020,'Maruti','Maharashtra',1]],columns=['Name','Model','Transmission','Kms','Owner','Fuel_Type','Registration','EMI','Year','Brand','State','Age']))"
   ]
  },
  {
   "cell_type": "markdown",
   "id": "72502e88",
   "metadata": {},
   "source": [
    "### XGBoost Model "
   ]
  },
  {
   "cell_type": "code",
   "execution_count": 141,
   "id": "3685c7a3",
   "metadata": {},
   "outputs": [],
   "source": [
    "import xgboost as xgb"
   ]
  },
  {
   "cell_type": "code",
   "execution_count": 142,
   "id": "9e7fe133",
   "metadata": {},
   "outputs": [],
   "source": [
    "XGB = xgb.XGBRegressor()"
   ]
  },
  {
   "cell_type": "code",
   "execution_count": 143,
   "id": "d11dd51b",
   "metadata": {},
   "outputs": [],
   "source": [
    "model_XGB = make_pipeline(column_transform,XGB)"
   ]
  },
  {
   "cell_type": "code",
   "execution_count": 144,
   "id": "b384faee",
   "metadata": {},
   "outputs": [
    {
     "data": {
      "text/html": [
       "<style>#sk-container-id-6 {color: black;background-color: white;}#sk-container-id-6 pre{padding: 0;}#sk-container-id-6 div.sk-toggleable {background-color: white;}#sk-container-id-6 label.sk-toggleable__label {cursor: pointer;display: block;width: 100%;margin-bottom: 0;padding: 0.3em;box-sizing: border-box;text-align: center;}#sk-container-id-6 label.sk-toggleable__label-arrow:before {content: \"▸\";float: left;margin-right: 0.25em;color: #696969;}#sk-container-id-6 label.sk-toggleable__label-arrow:hover:before {color: black;}#sk-container-id-6 div.sk-estimator:hover label.sk-toggleable__label-arrow:before {color: black;}#sk-container-id-6 div.sk-toggleable__content {max-height: 0;max-width: 0;overflow: hidden;text-align: left;background-color: #f0f8ff;}#sk-container-id-6 div.sk-toggleable__content pre {margin: 0.2em;color: black;border-radius: 0.25em;background-color: #f0f8ff;}#sk-container-id-6 input.sk-toggleable__control:checked~div.sk-toggleable__content {max-height: 200px;max-width: 100%;overflow: auto;}#sk-container-id-6 input.sk-toggleable__control:checked~label.sk-toggleable__label-arrow:before {content: \"▾\";}#sk-container-id-6 div.sk-estimator input.sk-toggleable__control:checked~label.sk-toggleable__label {background-color: #d4ebff;}#sk-container-id-6 div.sk-label input.sk-toggleable__control:checked~label.sk-toggleable__label {background-color: #d4ebff;}#sk-container-id-6 input.sk-hidden--visually {border: 0;clip: rect(1px 1px 1px 1px);clip: rect(1px, 1px, 1px, 1px);height: 1px;margin: -1px;overflow: hidden;padding: 0;position: absolute;width: 1px;}#sk-container-id-6 div.sk-estimator {font-family: monospace;background-color: #f0f8ff;border: 1px dotted black;border-radius: 0.25em;box-sizing: border-box;margin-bottom: 0.5em;}#sk-container-id-6 div.sk-estimator:hover {background-color: #d4ebff;}#sk-container-id-6 div.sk-parallel-item::after {content: \"\";width: 100%;border-bottom: 1px solid gray;flex-grow: 1;}#sk-container-id-6 div.sk-label:hover label.sk-toggleable__label {background-color: #d4ebff;}#sk-container-id-6 div.sk-serial::before {content: \"\";position: absolute;border-left: 1px solid gray;box-sizing: border-box;top: 0;bottom: 0;left: 50%;z-index: 0;}#sk-container-id-6 div.sk-serial {display: flex;flex-direction: column;align-items: center;background-color: white;padding-right: 0.2em;padding-left: 0.2em;position: relative;}#sk-container-id-6 div.sk-item {position: relative;z-index: 1;}#sk-container-id-6 div.sk-parallel {display: flex;align-items: stretch;justify-content: center;background-color: white;position: relative;}#sk-container-id-6 div.sk-item::before, #sk-container-id-6 div.sk-parallel-item::before {content: \"\";position: absolute;border-left: 1px solid gray;box-sizing: border-box;top: 0;bottom: 0;left: 50%;z-index: -1;}#sk-container-id-6 div.sk-parallel-item {display: flex;flex-direction: column;z-index: 1;position: relative;background-color: white;}#sk-container-id-6 div.sk-parallel-item:first-child::after {align-self: flex-end;width: 50%;}#sk-container-id-6 div.sk-parallel-item:last-child::after {align-self: flex-start;width: 50%;}#sk-container-id-6 div.sk-parallel-item:only-child::after {width: 0;}#sk-container-id-6 div.sk-dashed-wrapped {border: 1px dashed gray;margin: 0 0.4em 0.5em 0.4em;box-sizing: border-box;padding-bottom: 0.4em;background-color: white;}#sk-container-id-6 div.sk-label label {font-family: monospace;font-weight: bold;display: inline-block;line-height: 1.2em;}#sk-container-id-6 div.sk-label-container {text-align: center;}#sk-container-id-6 div.sk-container {/* jupyter's `normalize.less` sets `[hidden] { display: none; }` but bootstrap.min.css set `[hidden] { display: none !important; }` so we also need the `!important` here to be able to override the default hidden behavior on the sphinx rendered scikit-learn.org. See: https://github.com/scikit-learn/scikit-learn/issues/21755 */display: inline-block !important;position: relative;}#sk-container-id-6 div.sk-text-repr-fallback {display: none;}</style><div id=\"sk-container-id-6\" class=\"sk-top-container\"><div class=\"sk-text-repr-fallback\"><pre>Pipeline(steps=[(&#x27;columntransformer&#x27;,\n",
       "                 ColumnTransformer(remainder=&#x27;passthrough&#x27;,\n",
       "                                   transformers=[(&#x27;onehotencoder&#x27;,\n",
       "                                                  OneHotEncoder(categories=[array([&#x27;Audi A3&#x27;, &#x27;Audi A6&#x27;, &#x27;Audi Q3&#x27;, &#x27;Audi Q5&#x27;, &#x27;Datsun Go&#x27;,\n",
       "       &#x27;Datsun Go Plus&#x27;, &#x27;Datsun Redi Go&#x27;, &#x27;Ford Ecosport&#x27;,\n",
       "       &#x27;Ford Endeavour&#x27;, &#x27;Ford FREESTYLE&#x27;, &#x27;Ford Figo&#x27;,\n",
       "       &#x27;Ford Figo Aspire&#x27;, &#x27;Ford New Figo&#x27;, &#x27;Honda Amaze&#x27;, &#x27;Honda BR-V&#x27;,\n",
       "       &#x27;Honda Brio&#x27;, &#x27;Hon...\n",
       "                              gamma=0, gpu_id=-1, grow_policy=&#x27;depthwise&#x27;,\n",
       "                              importance_type=None, interaction_constraints=&#x27;&#x27;,\n",
       "                              learning_rate=0.300000012, max_bin=256,\n",
       "                              max_cat_to_onehot=4, max_delta_step=0,\n",
       "                              max_depth=6, max_leaves=0, min_child_weight=1,\n",
       "                              missing=nan, monotone_constraints=&#x27;()&#x27;,\n",
       "                              n_estimators=100, n_jobs=0, num_parallel_tree=1,\n",
       "                              predictor=&#x27;auto&#x27;, random_state=0, reg_alpha=0,\n",
       "                              reg_lambda=1, ...))])</pre><b>In a Jupyter environment, please rerun this cell to show the HTML representation or trust the notebook. <br />On GitHub, the HTML representation is unable to render, please try loading this page with nbviewer.org.</b></div><div class=\"sk-container\" hidden><div class=\"sk-item sk-dashed-wrapped\"><div class=\"sk-label-container\"><div class=\"sk-label sk-toggleable\"><input class=\"sk-toggleable__control sk-hidden--visually\" id=\"sk-estimator-id-30\" type=\"checkbox\" ><label for=\"sk-estimator-id-30\" class=\"sk-toggleable__label sk-toggleable__label-arrow\">Pipeline</label><div class=\"sk-toggleable__content\"><pre>Pipeline(steps=[(&#x27;columntransformer&#x27;,\n",
       "                 ColumnTransformer(remainder=&#x27;passthrough&#x27;,\n",
       "                                   transformers=[(&#x27;onehotencoder&#x27;,\n",
       "                                                  OneHotEncoder(categories=[array([&#x27;Audi A3&#x27;, &#x27;Audi A6&#x27;, &#x27;Audi Q3&#x27;, &#x27;Audi Q5&#x27;, &#x27;Datsun Go&#x27;,\n",
       "       &#x27;Datsun Go Plus&#x27;, &#x27;Datsun Redi Go&#x27;, &#x27;Ford Ecosport&#x27;,\n",
       "       &#x27;Ford Endeavour&#x27;, &#x27;Ford FREESTYLE&#x27;, &#x27;Ford Figo&#x27;,\n",
       "       &#x27;Ford Figo Aspire&#x27;, &#x27;Ford New Figo&#x27;, &#x27;Honda Amaze&#x27;, &#x27;Honda BR-V&#x27;,\n",
       "       &#x27;Honda Brio&#x27;, &#x27;Hon...\n",
       "                              gamma=0, gpu_id=-1, grow_policy=&#x27;depthwise&#x27;,\n",
       "                              importance_type=None, interaction_constraints=&#x27;&#x27;,\n",
       "                              learning_rate=0.300000012, max_bin=256,\n",
       "                              max_cat_to_onehot=4, max_delta_step=0,\n",
       "                              max_depth=6, max_leaves=0, min_child_weight=1,\n",
       "                              missing=nan, monotone_constraints=&#x27;()&#x27;,\n",
       "                              n_estimators=100, n_jobs=0, num_parallel_tree=1,\n",
       "                              predictor=&#x27;auto&#x27;, random_state=0, reg_alpha=0,\n",
       "                              reg_lambda=1, ...))])</pre></div></div></div><div class=\"sk-serial\"><div class=\"sk-item sk-dashed-wrapped\"><div class=\"sk-label-container\"><div class=\"sk-label sk-toggleable\"><input class=\"sk-toggleable__control sk-hidden--visually\" id=\"sk-estimator-id-31\" type=\"checkbox\" ><label for=\"sk-estimator-id-31\" class=\"sk-toggleable__label sk-toggleable__label-arrow\">columntransformer: ColumnTransformer</label><div class=\"sk-toggleable__content\"><pre>ColumnTransformer(remainder=&#x27;passthrough&#x27;,\n",
       "                  transformers=[(&#x27;onehotencoder&#x27;,\n",
       "                                 OneHotEncoder(categories=[array([&#x27;Audi A3&#x27;, &#x27;Audi A6&#x27;, &#x27;Audi Q3&#x27;, &#x27;Audi Q5&#x27;, &#x27;Datsun Go&#x27;,\n",
       "       &#x27;Datsun Go Plus&#x27;, &#x27;Datsun Redi Go&#x27;, &#x27;Ford Ecosport&#x27;,\n",
       "       &#x27;Ford Endeavour&#x27;, &#x27;Ford FREESTYLE&#x27;, &#x27;Ford Figo&#x27;,\n",
       "       &#x27;Ford Figo Aspire&#x27;, &#x27;Ford New Figo&#x27;, &#x27;Honda Amaze&#x27;, &#x27;Honda BR-V&#x27;,\n",
       "       &#x27;Honda Brio&#x27;, &#x27;Honda CRV&#x27;, &#x27;Honda City&#x27;, &#x27;Honda Civic&#x27;,\n",
       "       &#x27;Hond...\n",
       "                                                           array([&#x27;Audi&#x27;, &#x27;Datsun&#x27;, &#x27;Ford&#x27;, &#x27;Honda&#x27;, &#x27;Hyundai&#x27;, &#x27;Jaguar&#x27;, &#x27;Jeep&#x27;,\n",
       "       &#x27;KIA&#x27;, &#x27;MG&#x27;, &#x27;Mahindra&#x27;, &#x27;Maruti&#x27;, &#x27;Mercedes&#x27;, &#x27;Nissan&#x27;, &#x27;Renault&#x27;,\n",
       "       &#x27;Skoda&#x27;, &#x27;Tata&#x27;, &#x27;Toyota&#x27;, &#x27;Volkswagen&#x27;], dtype=object),\n",
       "                                                           array([&#x27;Andhra Pradesh&#x27;, &#x27;Delhi&#x27;, &#x27;Hariyana&#x27;, &#x27;Karnataka&#x27;, &#x27;Maharashtra&#x27;,\n",
       "       &#x27;Telangana&#x27;, &#x27;Uttar Pradesh&#x27;], dtype=object)]),\n",
       "                                 [&#x27;Name&#x27;, &#x27;Model&#x27;, &#x27;Transmission&#x27;, &#x27;Fuel_Type&#x27;,\n",
       "                                  &#x27;Registration&#x27;, &#x27;Brand&#x27;, &#x27;State&#x27;])])</pre></div></div></div><div class=\"sk-parallel\"><div class=\"sk-parallel-item\"><div class=\"sk-item\"><div class=\"sk-label-container\"><div class=\"sk-label sk-toggleable\"><input class=\"sk-toggleable__control sk-hidden--visually\" id=\"sk-estimator-id-32\" type=\"checkbox\" ><label for=\"sk-estimator-id-32\" class=\"sk-toggleable__label sk-toggleable__label-arrow\">onehotencoder</label><div class=\"sk-toggleable__content\"><pre>[&#x27;Name&#x27;, &#x27;Model&#x27;, &#x27;Transmission&#x27;, &#x27;Fuel_Type&#x27;, &#x27;Registration&#x27;, &#x27;Brand&#x27;, &#x27;State&#x27;]</pre></div></div></div><div class=\"sk-serial\"><div class=\"sk-item\"><div class=\"sk-estimator sk-toggleable\"><input class=\"sk-toggleable__control sk-hidden--visually\" id=\"sk-estimator-id-33\" type=\"checkbox\" ><label for=\"sk-estimator-id-33\" class=\"sk-toggleable__label sk-toggleable__label-arrow\">OneHotEncoder</label><div class=\"sk-toggleable__content\"><pre>OneHotEncoder(categories=[array([&#x27;Audi A3&#x27;, &#x27;Audi A6&#x27;, &#x27;Audi Q3&#x27;, &#x27;Audi Q5&#x27;, &#x27;Datsun Go&#x27;,\n",
       "       &#x27;Datsun Go Plus&#x27;, &#x27;Datsun Redi Go&#x27;, &#x27;Ford Ecosport&#x27;,\n",
       "       &#x27;Ford Endeavour&#x27;, &#x27;Ford FREESTYLE&#x27;, &#x27;Ford Figo&#x27;,\n",
       "       &#x27;Ford Figo Aspire&#x27;, &#x27;Ford New Figo&#x27;, &#x27;Honda Amaze&#x27;, &#x27;Honda BR-V&#x27;,\n",
       "       &#x27;Honda Brio&#x27;, &#x27;Honda CRV&#x27;, &#x27;Honda City&#x27;, &#x27;Honda Civic&#x27;,\n",
       "       &#x27;Honda Jazz&#x27;, &#x27;Honda WR-V&#x27;, &#x27;Hyundai AURA&#x27;, &#x27;Hyundai Accent&#x27;,\n",
       "       &#x27;Hyundai Creta&#x27;, &#x27;Hyundai E...\n",
       "       &#x27;UP-63&#x27;, &#x27;UP-65&#x27;, &#x27;UP-70&#x27;, &#x27;UP-72&#x27;, &#x27;UP-74&#x27;, &#x27;UP-78&#x27;, &#x27;UP-80&#x27;,\n",
       "       &#x27;UP-85&#x27;], dtype=object),\n",
       "                          array([&#x27;Audi&#x27;, &#x27;Datsun&#x27;, &#x27;Ford&#x27;, &#x27;Honda&#x27;, &#x27;Hyundai&#x27;, &#x27;Jaguar&#x27;, &#x27;Jeep&#x27;,\n",
       "       &#x27;KIA&#x27;, &#x27;MG&#x27;, &#x27;Mahindra&#x27;, &#x27;Maruti&#x27;, &#x27;Mercedes&#x27;, &#x27;Nissan&#x27;, &#x27;Renault&#x27;,\n",
       "       &#x27;Skoda&#x27;, &#x27;Tata&#x27;, &#x27;Toyota&#x27;, &#x27;Volkswagen&#x27;], dtype=object),\n",
       "                          array([&#x27;Andhra Pradesh&#x27;, &#x27;Delhi&#x27;, &#x27;Hariyana&#x27;, &#x27;Karnataka&#x27;, &#x27;Maharashtra&#x27;,\n",
       "       &#x27;Telangana&#x27;, &#x27;Uttar Pradesh&#x27;], dtype=object)])</pre></div></div></div></div></div></div><div class=\"sk-parallel-item\"><div class=\"sk-item\"><div class=\"sk-label-container\"><div class=\"sk-label sk-toggleable\"><input class=\"sk-toggleable__control sk-hidden--visually\" id=\"sk-estimator-id-34\" type=\"checkbox\" ><label for=\"sk-estimator-id-34\" class=\"sk-toggleable__label sk-toggleable__label-arrow\">remainder</label><div class=\"sk-toggleable__content\"><pre>[&#x27;Kms&#x27;, &#x27;Owner&#x27;, &#x27;EMI&#x27;, &#x27;Year&#x27;, &#x27;Age&#x27;]</pre></div></div></div><div class=\"sk-serial\"><div class=\"sk-item\"><div class=\"sk-estimator sk-toggleable\"><input class=\"sk-toggleable__control sk-hidden--visually\" id=\"sk-estimator-id-35\" type=\"checkbox\" ><label for=\"sk-estimator-id-35\" class=\"sk-toggleable__label sk-toggleable__label-arrow\">passthrough</label><div class=\"sk-toggleable__content\"><pre>passthrough</pre></div></div></div></div></div></div></div></div><div class=\"sk-item\"><div class=\"sk-estimator sk-toggleable\"><input class=\"sk-toggleable__control sk-hidden--visually\" id=\"sk-estimator-id-36\" type=\"checkbox\" ><label for=\"sk-estimator-id-36\" class=\"sk-toggleable__label sk-toggleable__label-arrow\">XGBRegressor</label><div class=\"sk-toggleable__content\"><pre>XGBRegressor(base_score=0.5, booster=&#x27;gbtree&#x27;, callbacks=None,\n",
       "             colsample_bylevel=1, colsample_bynode=1, colsample_bytree=1,\n",
       "             early_stopping_rounds=None, enable_categorical=False,\n",
       "             eval_metric=None, gamma=0, gpu_id=-1, grow_policy=&#x27;depthwise&#x27;,\n",
       "             importance_type=None, interaction_constraints=&#x27;&#x27;,\n",
       "             learning_rate=0.300000012, max_bin=256, max_cat_to_onehot=4,\n",
       "             max_delta_step=0, max_depth=6, max_leaves=0, min_child_weight=1,\n",
       "             missing=nan, monotone_constraints=&#x27;()&#x27;, n_estimators=100, n_jobs=0,\n",
       "             num_parallel_tree=1, predictor=&#x27;auto&#x27;, random_state=0, reg_alpha=0,\n",
       "             reg_lambda=1, ...)</pre></div></div></div></div></div></div></div>"
      ],
      "text/plain": [
       "Pipeline(steps=[('columntransformer',\n",
       "                 ColumnTransformer(remainder='passthrough',\n",
       "                                   transformers=[('onehotencoder',\n",
       "                                                  OneHotEncoder(categories=[array(['Audi A3', 'Audi A6', 'Audi Q3', 'Audi Q5', 'Datsun Go',\n",
       "       'Datsun Go Plus', 'Datsun Redi Go', 'Ford Ecosport',\n",
       "       'Ford Endeavour', 'Ford FREESTYLE', 'Ford Figo',\n",
       "       'Ford Figo Aspire', 'Ford New Figo', 'Honda Amaze', 'Honda BR-V',\n",
       "       'Honda Brio', 'Hon...\n",
       "                              gamma=0, gpu_id=-1, grow_policy='depthwise',\n",
       "                              importance_type=None, interaction_constraints='',\n",
       "                              learning_rate=0.300000012, max_bin=256,\n",
       "                              max_cat_to_onehot=4, max_delta_step=0,\n",
       "                              max_depth=6, max_leaves=0, min_child_weight=1,\n",
       "                              missing=nan, monotone_constraints='()',\n",
       "                              n_estimators=100, n_jobs=0, num_parallel_tree=1,\n",
       "                              predictor='auto', random_state=0, reg_alpha=0,\n",
       "                              reg_lambda=1, ...))])"
      ]
     },
     "execution_count": 144,
     "metadata": {},
     "output_type": "execute_result"
    }
   ],
   "source": [
    "model_XGB.fit(X_train,y_train)"
   ]
  },
  {
   "cell_type": "code",
   "execution_count": 145,
   "id": "6bf69f80",
   "metadata": {},
   "outputs": [],
   "source": [
    "y_pred_XGB=model_XGB.predict(X_test)"
   ]
  },
  {
   "cell_type": "code",
   "execution_count": 146,
   "id": "5fe7e76d",
   "metadata": {},
   "outputs": [
    {
     "data": {
      "text/plain": [
       "array([ 394145.47, 1193970.2 ,  968685.9 ,  816565.4 ,  507547.84,\n",
       "        363063.44, 1042314.9 ,  573743.6 ,  654024.2 ,  320587.75,\n",
       "        419252.25,  675668.  ,  616510.6 ,  622099.44,  467741.22,\n",
       "        444190.  ,  580977.3 ,  490222.16,  563190.1 ,  927269.06,\n",
       "       1447698.2 ,  563357.25,  337981.78,  647268.1 ,  986054.25,\n",
       "        695549.75,  697968.9 ,  430107.94,  295396.4 ,  373680.4 ,\n",
       "        437480.22,  654191.3 ,  728715.5 ,  315911.62,  255243.83,\n",
       "        369697.78,  710991.9 ,  462124.38,  515290.72,  323145.66,\n",
       "        378442.56,  698042.94, 1041498.06,  301338.8 ,  694770.7 ,\n",
       "        515073.53,  450549.16,  636870.94, 1236213.9 ,  728715.5 ,\n",
       "        807556.7 ,  250492.11,  548386.44,  507944.66,  508147.84,\n",
       "        636074.9 , 1510438.9 ,  784500.3 ,  520047.75, 1157994.  ,\n",
       "        478756.75,  698124.1 ,  430932.62, 1155632.9 ,  367833.2 ,\n",
       "        281856.75,  966317.7 ,  967038.56,  466818.75,  904439.9 ,\n",
       "       1398269.  ,  548682.9 ,  421667.97,  709211.1 ,  401474.4 ,\n",
       "        395598.78,  478728.6 ,  396310.06,  856851.7 , 1336293.8 ,\n",
       "        686876.1 ,  946585.25,  479320.6 ,  686149.3 ,  540732.94,\n",
       "        581160.44,  575180.8 ,  418852.1 ,  585977.75,  326981.7 ,\n",
       "        581160.44,  401248.53,  368974.03,  249213.45,  810254.94,\n",
       "        439759.34,  572987.4 , 1136596.6 ,  598698.7 ,  314794.  ,\n",
       "        301793.94,  656917.2 ,  281756.  ,  507576.75,  806663.56,\n",
       "        524176.28,  268099.9 ,  419151.72,  523450.53,  621141.  ,\n",
       "        394134.16, 1836594.8 ,  374111.28,  563346.5 , 1022549.56,\n",
       "       1103216.1 ,  710333.44,  497605.47,  583284.8 ,  451433.38,\n",
       "        394305.78,  677163.7 ,  562524.7 ,  321079.5 ,  374105.44,\n",
       "        572987.4 ,  545154.94, 1343283.5 ,  647312.5 ,  652065.3 ,\n",
       "        603161.44,  655039.3 ,  636074.9 ,  316799.6 ,  325586.97,\n",
       "        898299.75,  402038.84, 1150689.6 ,  382667.6 ,  582766.4 ,\n",
       "        523884.62,  514308.8 ,  647420.25,  320092.2 ,  325144.38,\n",
       "        697154.1 ,  451433.38,  437337.84,  598396.5 ,  635778.44,\n",
       "        878719.9 , 1266404.4 ,  605082.6 ,  545322.06,  548682.9 ,\n",
       "        850580.6 , 1410024.5 ,  323274.4 ,  524999.25,  652727.1 ,\n",
       "        698295.6 ,  316645.56,  620810.1 ,  966602.75,  525128.4 ,\n",
       "        797379.4 ,  280713.38,  249385.1 ,  325144.38,  729134.25,\n",
       "        265751.53,  656888.2 , 1235022.6 ,  809578.06,  540821.25,\n",
       "       1339298.8 ,  538924.6 ,  478182.25,  300155.7 ,  280998.6 ,\n",
       "        362390.72,  521255.5 , 1239087.2 ,  448267.47,  794062.44,\n",
       "       1044400.06,  479284.12,  439834.25,  728810.3 ,  520931.97,\n",
       "        855997.3 ,  419077.97,  222577.52,  876360.9 ,  394438.25,\n",
       "        730664.7 ,  341887.1 ,  850738.1 ,  492224.3 ,  772651.06,\n",
       "        382731.47,  341386.5 ,  867888.4 , 1138122.8 ,  496150.44,\n",
       "        292961.53,  450857.97,  418989.66,  604989.25,  228934.23,\n",
       "        691444.06,  477700.22,  685406.06,  525862.3 ,  404122.56,\n",
       "       1195767.6 , 1093190.8 ,  338075.94,  634427.94,  688437.75,\n",
       "        369828.12,  605082.6 ,  327351.03,  636074.9 ,  602617.4 ,\n",
       "        686813.1 ,  452205.94,  877533.1 ,  492435.9 ,  273507.25,\n",
       "        830663.44,  539298.94,  913900.56,  756464.06,  311811.78,\n",
       "        609483.25, 1087047.8 ,  523742.03,  507976.22,  749265.3 ,\n",
       "        807306.94,  507272.84,  362105.5 ,  871879.8 ,  273816.25,\n",
       "        750333.8 ,  341815.78,  542342.44, 1257884.8 , 1108738.5 ,\n",
       "        463389.72,  914853.8 ,  563559.25,  652883.5 ,  339128.72,\n",
       "        429973.1 ,  728763.56,  676013.8 ,  467938.44,  450078.4 ,\n",
       "       1766498.2 ,  353195.88,  465701.06,  545091.1 ,  605317.8 ,\n",
       "        369989.94, 1089913.6 ,  490911.03,  658110.94,  381226.5 ,\n",
       "        411930.66,  914532.25,  353761.  ,  491043.12,  507888.84,\n",
       "        686724.8 ,  634691.1 ,  800059.9 , 1400965.4 ,  382638.3 ,\n",
       "       1482951.6 ,  907558.25,  436985.62,  312095.8 ,  419673.7 ,\n",
       "        877720.8 ,  635225.44,  429801.47, 1448810.8 ,  449148.28,\n",
       "        783006.94,  874901.94,  496276.84,  673651.8 ,  572727.4 ,\n",
       "       2261987.2 ,  468466.56,  602702.5 ,  731830.8 ,  543003.2 ,\n",
       "        419257.1 , 1444257.9 ,  634497.1 ,  466347.7 ,  324667.66,\n",
       "        341869.5 ,  694866.44,  605161.6 , 1105076.5 , 1184566.4 ,\n",
       "        419437.5 ,  572987.4 ,  876580.2 , 1689030.  ,  563190.1 ,\n",
       "        401474.4 ,  524464.5 ,  508147.84,  339246.5 ,  537177.  ,\n",
       "       1344186.4 ,  398327.97,  523538.84,  687080.56,  589667.  ,\n",
       "        820391.44, 1002448.6 ,  326072.2 ,  692033.7 ,  675668.  ,\n",
       "        479320.6 ,  805867.25,  585976.56, 1022050.8 ,  382731.47,\n",
       "        463866.78,  342171.12, 1771777.6 ,  611515.75,  468064.84,\n",
       "        654571.1 ,  636231.25,  647484.4 ,  764146.25,  497135.22,\n",
       "        548682.9 ,  353952.66,  828380.  ,  851735.4 ,  656917.2 ,\n",
       "        451345.06,  878826.2 ,  636196.94,  572561.1 ,  586395.1 ,\n",
       "        507404.53,  862403.2 ,  293015.78,  252943.06,  467550.22,\n",
       "        859112.75,  897681.94,  548755.2 , 1853715.4 ,  419077.97,\n",
       "        327297.78,  255546.02, 1149032.4 ,  539573.9 ,  611414.44,\n",
       "        419139.47,  362105.5 ,  417810.34,  293187.4 ,  675824.4 ,\n",
       "        675668.  ,  420637.2 ,  379512.94,  324964.  ,  230481.9 ,\n",
       "        509115.4 ,  477949.72, 1012307.9 ,  474420.56,  698103.25,\n",
       "        853059.8 ,  990319.56, 1009421.75,  684679.5 , 1214856.8 ,\n",
       "        939057.75,  523445.4 ,  817479.9 ,  914675.3 , 1681866.8 ,\n",
       "        376843.44,  452205.94,  479022.56,  697873.1 ,  547906.44,\n",
       "        731528.9 ,  463378.88,  354178.53,  647720.4 ,  914803.75,\n",
       "        376938.84,  515440.  , 1765812.5 ,  281762.94,  492066.78,\n",
       "        832712.94,  870805.25,  851696.  ,  675668.  ,  489793.28,\n",
       "        464505.7 ,  615796.6 ,  733855.1 ,  381272.16,  913813.94,\n",
       "        902606.75,  727120.  ,  521504.28,  634427.94,  583179.06,\n",
       "        429884.78,  788413.25,  380800.12,  673730.56,  327491.06,\n",
       "        296371.06,  419146.  ,  750923.9 ,  588724.1 ,  508147.84,\n",
       "        563175.94,  326562.97,  404289.47,  599356.4 ,  758993.2 ,\n",
       "        209071.38,  542342.44,  379382.94,  701246.94,  368972.84,\n",
       "        311740.47,  636074.9 ,  368686.5 ,  464304.2 ,  508101.  ,\n",
       "        583362.2 , 1682864.6 ,  373973.72,  943953.1 ,  474045.75,\n",
       "        498104.1 ,  598661.2 ,  317211.9 ,  451636.56, 1441026.2 ,\n",
       "        353999.34,  164774.55,  563829.8 ,  941896.1 ,  507602.25,\n",
       "        362256.97,  968324.3 ,  374355.94,  468236.47,  673915.94,\n",
       "        287778.7 ,  492066.78, 1188903.9 , 1766265.9 ,  585041.06,\n",
       "        817887.8 ,  732876.7 ,  902572.94,  687994.3 ,  544211.8 ,\n",
       "       1258799.2 ,  368260.66,  479320.6 ,  972144.1 ,  603161.44,\n",
       "        401248.53,  477996.56,  798730.6 ,  620969.3 ,  353892.2 ,\n",
       "       1103448.5 ,  616648.  , 1217245.9 ,  563190.1 ,  472418.38,\n",
       "       1220293.8 ,  491691.97,  694928.2 ,  636328.1 ,  673759.56,\n",
       "        320162.66,  540893.56,  656777.1 ,  807783.4 ,  652632.3 ,\n",
       "        699463.5 ,  449970.06,  523601.75,  418236.25,  446564.38,\n",
       "        296413.8 ,  993469.44,  910715.2 ,  446440.75,  224197.8 ,\n",
       "        444703.75,  610401.6 ,  521135.16,  294469.75,  797379.4 ,\n",
       "        850580.6 ,  655025.4 ,  521135.16,  900693.6 ,  636170.6 ,\n",
       "        301432.97,  604989.25,  698363.5 ,  598693.6 ,  418989.66,\n",
       "        337850.06, 1269446.2 ,  850408.94,  338053.1 ,  605648.56,\n",
       "        418798.56,  496517.06,  508480.75,  691699.2 ,  281762.94,\n",
       "        462782.72,  496277.84, 1761987.5 ,  463300.7 ,  526734.7 ,\n",
       "        548682.9 ,  732705.  ,  525105.8 ,  282361.1 ,  539197.1 ,\n",
       "        910350.56,  496448.47,  419538.34,  419493.16,  336937.88,\n",
       "        327229.88,  598859.3 ,  480756.97, 1447072.8 ,  316963.72,\n",
       "        353535.12,  673063.44,  477824.94,  658277.8 ,  675668.  ,\n",
       "        342074.94,  524368.25,  968179.9 ,  675573.2 ,  542348.94,\n",
       "       1189833.9 ,  598145.3 ,  474420.56,  491502.56,  295038.8 ,\n",
       "       1156561.5 ,  521868.25], dtype=float32)"
      ]
     },
     "execution_count": 146,
     "metadata": {},
     "output_type": "execute_result"
    }
   ],
   "source": [
    "y_pred_XGB"
   ]
  },
  {
   "cell_type": "code",
   "execution_count": 147,
   "id": "ddad70c9",
   "metadata": {},
   "outputs": [],
   "source": [
    "xgb_score=r2_score(y_test,y_pred_XGB)*100"
   ]
  },
  {
   "cell_type": "code",
   "execution_count": 148,
   "id": "ec9f611f",
   "metadata": {},
   "outputs": [
    {
     "data": {
      "text/plain": [
       "98.31406447123938"
      ]
     },
     "execution_count": 148,
     "metadata": {},
     "output_type": "execute_result"
    }
   ],
   "source": [
    "xgb_score"
   ]
  },
  {
   "cell_type": "code",
   "execution_count": 149,
   "id": "a702a699",
   "metadata": {},
   "outputs": [],
   "source": [
    "pickle.dump(model_XGB,open('model_XGB.pkl','wb'))"
   ]
  },
  {
   "cell_type": "code",
   "execution_count": 150,
   "id": "b45dc5a4",
   "metadata": {},
   "outputs": [
    {
     "data": {
      "text/plain": [
       "array([615771.3], dtype=float32)"
      ]
     },
     "execution_count": 150,
     "metadata": {},
     "output_type": "execute_result"
    }
   ],
   "source": [
    "model_XGB.predict(pd.DataFrame([['Maruti Swift','VXI','Manual',50000,1,'Petrol','MH-05',12000,2020,'Maruti','Maharashtra',1]],columns=['Name','Model','Transmission','Kms','Owner','Fuel_Type','Registration','EMI','Year','Brand','State','Age']))"
   ]
  },
  {
   "cell_type": "markdown",
   "id": "1923bb25",
   "metadata": {},
   "source": [
    "## Model Evaluation"
   ]
  },
  {
   "cell_type": "code",
   "execution_count": 151,
   "id": "0991fdcc",
   "metadata": {},
   "outputs": [],
   "source": [
    "scores = [['Linear Regression ',r2_score(y_test,y_pred_LR)*100],['Random Forest ',r2_score(y_test,y_pred_RF)*100],['Decision Tree ',r2_score(y_test,y_pred_DT)*100],['StatsModel ',SMF.rsquared*100],['LSVR ',r2_score(y_test,y_pred_LSVR)*100],['XGBoost ',r2_score(y_test,y_pred_XGB)*100]]"
   ]
  },
  {
   "cell_type": "code",
   "execution_count": 152,
   "id": "7ff65a9a",
   "metadata": {},
   "outputs": [],
   "source": [
    "df_scores = pd.DataFrame(scores,columns=['Model','Score'])"
   ]
  },
  {
   "cell_type": "code",
   "execution_count": 153,
   "id": "718b8ab8",
   "metadata": {},
   "outputs": [
    {
     "data": {
      "text/html": [
       "<div>\n",
       "<style scoped>\n",
       "    .dataframe tbody tr th:only-of-type {\n",
       "        vertical-align: middle;\n",
       "    }\n",
       "\n",
       "    .dataframe tbody tr th {\n",
       "        vertical-align: top;\n",
       "    }\n",
       "\n",
       "    .dataframe thead th {\n",
       "        text-align: right;\n",
       "    }\n",
       "</style>\n",
       "<table border=\"1\" class=\"dataframe\">\n",
       "  <thead>\n",
       "    <tr style=\"text-align: right;\">\n",
       "      <th></th>\n",
       "      <th>Model</th>\n",
       "      <th>Score</th>\n",
       "    </tr>\n",
       "  </thead>\n",
       "  <tbody>\n",
       "    <tr>\n",
       "      <th>0</th>\n",
       "      <td>Linear Regression</td>\n",
       "      <td>99.954532</td>\n",
       "    </tr>\n",
       "    <tr>\n",
       "      <th>1</th>\n",
       "      <td>Random Forest</td>\n",
       "      <td>98.379118</td>\n",
       "    </tr>\n",
       "    <tr>\n",
       "      <th>2</th>\n",
       "      <td>Decision Tree</td>\n",
       "      <td>98.384428</td>\n",
       "    </tr>\n",
       "    <tr>\n",
       "      <th>3</th>\n",
       "      <td>StatsModel</td>\n",
       "      <td>99.931478</td>\n",
       "    </tr>\n",
       "    <tr>\n",
       "      <th>4</th>\n",
       "      <td>LSVR</td>\n",
       "      <td>99.760858</td>\n",
       "    </tr>\n",
       "    <tr>\n",
       "      <th>5</th>\n",
       "      <td>XGBoost</td>\n",
       "      <td>98.314064</td>\n",
       "    </tr>\n",
       "  </tbody>\n",
       "</table>\n",
       "</div>"
      ],
      "text/plain": [
       "                Model      Score\n",
       "0  Linear Regression   99.954532\n",
       "1      Random Forest   98.379118\n",
       "2      Decision Tree   98.384428\n",
       "3         StatsModel   99.931478\n",
       "4               LSVR   99.760858\n",
       "5            XGBoost   98.314064"
      ]
     },
     "execution_count": 153,
     "metadata": {},
     "output_type": "execute_result"
    }
   ],
   "source": [
    "df_scores"
   ]
  },
  {
   "cell_type": "code",
   "execution_count": null,
   "id": "5a6d667a",
   "metadata": {},
   "outputs": [],
   "source": []
  }
 ],
 "metadata": {
  "kernelspec": {
   "display_name": "Python 3 (ipykernel)",
   "language": "python",
   "name": "python3"
  },
  "language_info": {
   "codemirror_mode": {
    "name": "ipython",
    "version": 3
   },
   "file_extension": ".py",
   "mimetype": "text/x-python",
   "name": "python",
   "nbconvert_exporter": "python",
   "pygments_lexer": "ipython3",
   "version": "3.9.12"
  }
 },
 "nbformat": 4,
 "nbformat_minor": 5
}
